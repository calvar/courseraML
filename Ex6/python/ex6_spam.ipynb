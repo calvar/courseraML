{
 "cells": [
  {
   "cell_type": "markdown",
   "metadata": {},
   "source": [
    "# Machine Learning Online Class Exercise 6 | Spam Classification with SVMs"
   ]
  },
  {
   "cell_type": "code",
   "execution_count": 6,
   "metadata": {},
   "outputs": [
    {
     "ename": "ModuleNotFoundError",
     "evalue": "No module named 'nltk'",
     "output_type": "error",
     "traceback": [
      "\u001b[0;31m---------------------------------------------------------------------------\u001b[0m",
      "\u001b[0;31mModuleNotFoundError\u001b[0m                       Traceback (most recent call last)",
      "\u001b[0;32m<ipython-input-6-760ad4c33b09>\u001b[0m in \u001b[0;36m<module>\u001b[0;34m\u001b[0m\n\u001b[1;32m      1\u001b[0m \u001b[0;32mimport\u001b[0m \u001b[0mre\u001b[0m\u001b[0;34m\u001b[0m\u001b[0;34m\u001b[0m\u001b[0m\n\u001b[0;32m----> 2\u001b[0;31m \u001b[0;32mimport\u001b[0m \u001b[0mnltk\u001b[0m\u001b[0;34m\u001b[0m\u001b[0;34m\u001b[0m\u001b[0m\n\u001b[0m",
      "\u001b[0;31mModuleNotFoundError\u001b[0m: No module named 'nltk'"
     ]
    }
   ],
   "source": [
    "import re\n",
    "import nltk"
   ]
  },
  {
   "cell_type": "markdown",
   "metadata": {},
   "source": [
    "## ==================== Part 1: Email Preprocessing ===================="
   ]
  },
  {
   "cell_type": "code",
   "execution_count": 4,
   "metadata": {},
   "outputs": [],
   "source": [
    "#Read vocabulary\n",
    "def getVocabList():\n",
    "    In = open(\"vocab.txt\", \"r\")\n",
    "    vocabList = {}\n",
    "    for line in In:\n",
    "        v = line.split()\n",
    "        vocabList[int(v[0])] = v[1]\n",
    "    In.close()\n",
    "    return vocabList\n",
    "\n",
    "#Preprocess the body of an email and returns a list of word indices\n",
    "def processEmail(email_contents):\n",
    "    #Load vocabulary\n",
    "    vocabList = getVocabList()\n",
    "    \n",
    "    #Return value\n",
    "    word_indices = []\n",
    "    \n",
    "    #preprocess email----------------------------------------------------\n",
    "    \n",
    "    #lower case\n",
    "    email_contents = email_contents.lower()\n",
    "    #strip html\n",
    "    email_contents = re.sub('<[^<>]+>', ' ', email_contents)\n",
    "    #Handle numbers\n",
    "    email_contents = re.sub('[0-9]+', 'number', email_contents)\n",
    "    #Handle URLs\n",
    "    email_contents = re.sub('(http|https)://[^\\s]*', 'httpaddr', email_contents)\n",
    "    #Handle email addresses\n",
    "    email_contents = re.sub('[^\\s]+@[^\\s]+', 'emailaddr', email_contents)\n",
    "    #Handle $ sign\n",
    "    email_contents = re.sub('[$]+', 'dollar', email_contents)\n",
    "    \n",
    "    #tokenize email------------------------------------------------------\n",
    "    \n",
    "    re.split('\\s|@|$|/|#|\\.|-|:|&|\\*|\\+|=|\\[|\\]|?|!|(|)|{|}|,|\"|\\'|<|_|>|;|%', email_contents)\n",
    "    "
   ]
  }
 ],
 "metadata": {
  "kernelspec": {
   "display_name": "Python 3",
   "language": "python",
   "name": "python3"
  },
  "language_info": {
   "codemirror_mode": {
    "name": "ipython",
    "version": 3
   },
   "file_extension": ".py",
   "mimetype": "text/x-python",
   "name": "python",
   "nbconvert_exporter": "python",
   "pygments_lexer": "ipython3",
   "version": "3.8.10"
  }
 },
 "nbformat": 4,
 "nbformat_minor": 4
}
