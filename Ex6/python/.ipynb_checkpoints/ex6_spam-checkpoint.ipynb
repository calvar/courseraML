{
 "cells": [
  {
   "cell_type": "markdown",
   "metadata": {},
   "source": [
    "# Machine Learning Online Class Exercise 6 | Spam Classification with SVMs"
   ]
  },
  {
   "cell_type": "markdown",
   "metadata": {},
   "source": [
    "## ==================== Part 1: Email Preprocessing ===================="
   ]
  },
  {
   "cell_type": "code",
   "execution_count": 4,
   "metadata": {},
   "outputs": [],
   "source": [
    "#Read vocabulary\n",
    "def getVocabList():\n",
    "    In = open(\"vocab.txt\", \"r\")\n",
    "    vocabList = {}\n",
    "    for line in In:\n",
    "        v = line.split()\n",
    "        vocabList[int(v[0])] = v[1]\n",
    "    In.close()\n",
    "    return vocabList\n",
    "\n",
    "#Preprocess the body of an email and returns a list of word indices\n",
    "def processEmail(email_contents):\n",
    "    #Load vocabulary\n",
    "    vocabList = getVocabList()\n",
    "    \n",
    "    "
   ]
  }
 ],
 "metadata": {
  "kernelspec": {
   "display_name": "Python 3",
   "language": "python",
   "name": "python3"
  },
  "language_info": {
   "codemirror_mode": {
    "name": "ipython",
    "version": 3
   },
   "file_extension": ".py",
   "mimetype": "text/x-python",
   "name": "python",
   "nbconvert_exporter": "python",
   "pygments_lexer": "ipython3",
   "version": "3.8.10"
  }
 },
 "nbformat": 4,
 "nbformat_minor": 4
}
