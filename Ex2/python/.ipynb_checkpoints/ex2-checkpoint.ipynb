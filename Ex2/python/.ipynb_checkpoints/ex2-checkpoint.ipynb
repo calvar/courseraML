{
 "cells": [
  {
   "cell_type": "markdown",
   "metadata": {},
   "source": [
    "# Machine Learning Online Class - Exercise 2: Logistic Regression"
   ]
  },
  {
   "cell_type": "code",
   "execution_count": 30,
   "metadata": {},
   "outputs": [],
   "source": [
    "import numpy as np\n",
    "from scipy.optimize import fmin_bfgs\n",
    "import pandas as pd\n",
    "import matplotlib.pyplot as plt\n",
    "import seaborn as sns\n",
    "\n",
    "sns.set(font_scale=1.3)"
   ]
  },
  {
   "cell_type": "markdown",
   "metadata": {},
   "source": [
    "## ==================== Part 1: Plotting ===================="
   ]
  },
  {
   "cell_type": "code",
   "execution_count": 16,
   "metadata": {},
   "outputs": [
    {
     "data": {
      "text/html": [
       "<div>\n",
       "<style scoped>\n",
       "    .dataframe tbody tr th:only-of-type {\n",
       "        vertical-align: middle;\n",
       "    }\n",
       "\n",
       "    .dataframe tbody tr th {\n",
       "        vertical-align: top;\n",
       "    }\n",
       "\n",
       "    .dataframe thead th {\n",
       "        text-align: right;\n",
       "    }\n",
       "</style>\n",
       "<table border=\"1\" class=\"dataframe\">\n",
       "  <thead>\n",
       "    <tr style=\"text-align: right;\">\n",
       "      <th></th>\n",
       "      <th>score exam 1</th>\n",
       "      <th>score exam 2</th>\n",
       "      <th>adm</th>\n",
       "    </tr>\n",
       "  </thead>\n",
       "  <tbody>\n",
       "    <tr>\n",
       "      <th>0</th>\n",
       "      <td>30.286711</td>\n",
       "      <td>43.894998</td>\n",
       "      <td>0</td>\n",
       "    </tr>\n",
       "    <tr>\n",
       "      <th>1</th>\n",
       "      <td>35.847409</td>\n",
       "      <td>72.902198</td>\n",
       "      <td>0</td>\n",
       "    </tr>\n",
       "    <tr>\n",
       "      <th>2</th>\n",
       "      <td>60.182599</td>\n",
       "      <td>86.308552</td>\n",
       "      <td>1</td>\n",
       "    </tr>\n",
       "    <tr>\n",
       "      <th>3</th>\n",
       "      <td>79.032736</td>\n",
       "      <td>75.344376</td>\n",
       "      <td>1</td>\n",
       "    </tr>\n",
       "    <tr>\n",
       "      <th>4</th>\n",
       "      <td>45.083277</td>\n",
       "      <td>56.316372</td>\n",
       "      <td>0</td>\n",
       "    </tr>\n",
       "  </tbody>\n",
       "</table>\n",
       "</div>"
      ],
      "text/plain": [
       "   score exam 1  score exam 2  adm\n",
       "0     30.286711     43.894998    0\n",
       "1     35.847409     72.902198    0\n",
       "2     60.182599     86.308552    1\n",
       "3     79.032736     75.344376    1\n",
       "4     45.083277     56.316372    0"
      ]
     },
     "execution_count": 16,
     "metadata": {},
     "output_type": "execute_result"
    }
   ],
   "source": [
    "data = pd.read_csv(\"ex2data1.txt\")\n",
    "data.columns = ['score exam 1', 'score exam 2', 'adm']\n",
    "data.head()"
   ]
  },
  {
   "cell_type": "code",
   "execution_count": 17,
   "metadata": {},
   "outputs": [
    {
     "data": {
      "text/html": [
       "<div>\n",
       "<style scoped>\n",
       "    .dataframe tbody tr th:only-of-type {\n",
       "        vertical-align: middle;\n",
       "    }\n",
       "\n",
       "    .dataframe tbody tr th {\n",
       "        vertical-align: top;\n",
       "    }\n",
       "\n",
       "    .dataframe thead th {\n",
       "        text-align: right;\n",
       "    }\n",
       "</style>\n",
       "<table border=\"1\" class=\"dataframe\">\n",
       "  <thead>\n",
       "    <tr style=\"text-align: right;\">\n",
       "      <th></th>\n",
       "      <th>x0</th>\n",
       "      <th>score exam 1</th>\n",
       "      <th>score exam 2</th>\n",
       "      <th>adm</th>\n",
       "      <th>admitted</th>\n",
       "    </tr>\n",
       "  </thead>\n",
       "  <tbody>\n",
       "    <tr>\n",
       "      <th>0</th>\n",
       "      <td>1</td>\n",
       "      <td>30.286711</td>\n",
       "      <td>43.894998</td>\n",
       "      <td>0</td>\n",
       "      <td>no</td>\n",
       "    </tr>\n",
       "    <tr>\n",
       "      <th>1</th>\n",
       "      <td>1</td>\n",
       "      <td>35.847409</td>\n",
       "      <td>72.902198</td>\n",
       "      <td>0</td>\n",
       "      <td>no</td>\n",
       "    </tr>\n",
       "    <tr>\n",
       "      <th>2</th>\n",
       "      <td>1</td>\n",
       "      <td>60.182599</td>\n",
       "      <td>86.308552</td>\n",
       "      <td>1</td>\n",
       "      <td>yes</td>\n",
       "    </tr>\n",
       "    <tr>\n",
       "      <th>3</th>\n",
       "      <td>1</td>\n",
       "      <td>79.032736</td>\n",
       "      <td>75.344376</td>\n",
       "      <td>1</td>\n",
       "      <td>yes</td>\n",
       "    </tr>\n",
       "    <tr>\n",
       "      <th>4</th>\n",
       "      <td>1</td>\n",
       "      <td>45.083277</td>\n",
       "      <td>56.316372</td>\n",
       "      <td>0</td>\n",
       "      <td>no</td>\n",
       "    </tr>\n",
       "    <tr>\n",
       "      <th>...</th>\n",
       "      <td>...</td>\n",
       "      <td>...</td>\n",
       "      <td>...</td>\n",
       "      <td>...</td>\n",
       "      <td>...</td>\n",
       "    </tr>\n",
       "    <tr>\n",
       "      <th>94</th>\n",
       "      <td>1</td>\n",
       "      <td>83.489163</td>\n",
       "      <td>48.380286</td>\n",
       "      <td>1</td>\n",
       "      <td>yes</td>\n",
       "    </tr>\n",
       "    <tr>\n",
       "      <th>95</th>\n",
       "      <td>1</td>\n",
       "      <td>42.261701</td>\n",
       "      <td>87.103851</td>\n",
       "      <td>1</td>\n",
       "      <td>yes</td>\n",
       "    </tr>\n",
       "    <tr>\n",
       "      <th>96</th>\n",
       "      <td>1</td>\n",
       "      <td>99.315009</td>\n",
       "      <td>68.775409</td>\n",
       "      <td>1</td>\n",
       "      <td>yes</td>\n",
       "    </tr>\n",
       "    <tr>\n",
       "      <th>97</th>\n",
       "      <td>1</td>\n",
       "      <td>55.340018</td>\n",
       "      <td>64.931938</td>\n",
       "      <td>1</td>\n",
       "      <td>yes</td>\n",
       "    </tr>\n",
       "    <tr>\n",
       "      <th>98</th>\n",
       "      <td>1</td>\n",
       "      <td>74.775893</td>\n",
       "      <td>89.529813</td>\n",
       "      <td>1</td>\n",
       "      <td>yes</td>\n",
       "    </tr>\n",
       "  </tbody>\n",
       "</table>\n",
       "<p>99 rows × 5 columns</p>\n",
       "</div>"
      ],
      "text/plain": [
       "    x0  score exam 1  score exam 2  adm admitted\n",
       "0    1     30.286711     43.894998    0       no\n",
       "1    1     35.847409     72.902198    0       no\n",
       "2    1     60.182599     86.308552    1      yes\n",
       "3    1     79.032736     75.344376    1      yes\n",
       "4    1     45.083277     56.316372    0       no\n",
       "..  ..           ...           ...  ...      ...\n",
       "94   1     83.489163     48.380286    1      yes\n",
       "95   1     42.261701     87.103851    1      yes\n",
       "96   1     99.315009     68.775409    1      yes\n",
       "97   1     55.340018     64.931938    1      yes\n",
       "98   1     74.775893     89.529813    1      yes\n",
       "\n",
       "[99 rows x 5 columns]"
      ]
     },
     "execution_count": 17,
     "metadata": {},
     "output_type": "execute_result"
    }
   ],
   "source": [
    "data['admitted'] = data['adm'].apply(lambda x : 'yes' if x==1 else 'no')\n",
    "data.insert(0, 'x0', [1 for i in range(len(data.index))])\n",
    "data"
   ]
  },
  {
   "cell_type": "code",
   "execution_count": 18,
   "metadata": {},
   "outputs": [
    {
     "data": {
      "text/plain": [
       "<matplotlib.axes._subplots.AxesSubplot at 0x7f0d9e21b130>"
      ]
     },
     "execution_count": 18,
     "metadata": {},
     "output_type": "execute_result"
    },
    {
     "data": {
      "image/png": "[encoded data removed]",
      "text/plain": [
       "<Figure size 432x432 with 1 Axes>"
      ]
     },
     "metadata": {},
     "output_type": "display_data"
    }
   ],
   "source": [
    "fig0, ax = plt.subplots(figsize=(6, 6))\n",
    "sns.scatterplot(data=data, ax=ax, x='score exam 1', y='score exam 2', hue='admitted', style='admitted')"
   ]
  },
  {
   "cell_type": "markdown",
   "metadata": {},
   "source": [
    "## ============ Part 2: Compute Cost and Gradient ============"
   ]
  },
  {
   "cell_type": "code",
   "execution_count": 19,
   "metadata": {},
   "outputs": [
    {
     "data": {
      "text/plain": [
       "((99, 3), (99, 1))"
      ]
     },
     "execution_count": 19,
     "metadata": {},
     "output_type": "execute_result"
    }
   ],
   "source": [
    "#Extract matrix X and convert to array\n",
    "X = data.iloc[:,0:3].to_numpy()\n",
    "#Extract vector y as a column vector\n",
    "y = data.iloc[:,3].to_numpy()[np.newaxis].T #create a new axis to convert a 1d array to 2d and transpose\n",
    "X.shape, y.shape"
   ]
  },
  {
   "cell_type": "markdown",
   "metadata": {},
   "source": [
    "Cost function for the logistic regression\n",
    "$$J(\\vec{\\theta})=-\\frac{1}{m}\\sum_{i=1}^m \\left[y^{(i)}\\log(h_{\\theta}(\\vec{x}^{(i)}))+(1-y^{(i)})\\log(1-h_{\\theta}(\\vec{x}^{(i)}))\\right],$$\n",
    "with\n",
    "$$h_{\\theta}(\\vec{x})=\\frac{1}{1+e^{-\\vec{x}^{(i)}\\cdot\\vec{\\theta}}}.$$\n",
    "We define the vector $\\vec{h}_{\\theta}(X)$ with components\n",
    "$$h_{\\theta}(X)^{(i)}=h_{\\theta}(\\vec{x}^{(i)}),$$\n",
    "so that\n",
    "$$J(\\vec{\\theta})=-\\frac{1}{m}\\left[\\vec{y}^T\\cdot\\log(\\vec{h}_{\\theta}(X))+(\\vec{1}-\\vec{y})^T\\cdot\\log(\\vec{1}-\\vec{h}_{\\theta}(X))\\right],$$\n",
    "where $\\vec{1}$ is a column vector of 1s and the $\\log(\\cdot)$ operation is applied component-wise.<br ><br >\n",
    "The components of the gradient of the cost function with respect to $\\theta$ are\n",
    "\\begin{align}\n",
    "\\frac{\\partial J}{\\partial\\theta_k}=&\\frac{1}{m}\\sum_{i=1}^m\\left[h_{\\theta}(\\vec{x}^{(i)})-y^{(i)}\\right]x^{(i)}_k\\\\\n",
    "=&\\frac{1}{m}\\vec{x}_k^T\\cdot\\left[\\vec{h}_{\\theta}(X)-\\vec{y}\\right]\n",
    "\\end{align}"
   ]
  },
  {
   "cell_type": "code",
   "execution_count": 78,
   "metadata": {},
   "outputs": [],
   "source": [
    "#Logistic function\n",
    "def logistic(theta, x):\n",
    "    dot = np.matmul(x, theta)\n",
    "    return 1.0 / (1 + np.exp(-dot))\n",
    "\n",
    "def hv(theta, X):\n",
    "    return np.array([logistic(theta, x) for x in X])\n",
    "\n",
    "#Cost function J\n",
    "def J(theta, X, y):\n",
    "    hvec = hv(theta, X)\n",
    "    one = np.ones((y.shape[0],1))\n",
    "    hvec1 = one-hvec\n",
    "    logh = np.log(hvec)\n",
    "    logh1 = np.log(hvec1)\n",
    "    y1 = one-y\n",
    "    \n",
    "    dot1 = np.matmul(y.T,logh)\n",
    "    dot2 = np.matmul(y1.T, logh1)\n",
    "    print(X.shape)\n",
    "    print(hvec.shape,hvec1.shape)\n",
    "    return -(dot1[0][0]+dot2[0][0])/y.shape[0]\n",
    "\n",
    "#Gradient of J\n",
    "def grad_J(theta, X, y):\n",
    "    hvec = hv(theta, X)\n",
    "    yh = hvec - y\n",
    "    grad = []\n",
    "    for k in range(X.shape[1]):\n",
    "        xk = X[:,k] #k column as 1d array (row vector)\n",
    "        grad.append(np.matmul(xk,yh))\n",
    "    return np.asarray(grad)/y.shape[0]"
   ]
  },
  {
   "cell_type": "code",
   "execution_count": 79,
   "metadata": {},
   "outputs": [
    {
     "name": "stdout",
     "output_type": "stream",
     "text": [
      "(99, 3)\n",
      "(99, 1) (99, 1)\n",
      "Cost at initial theta (zeros): 0.693\n",
      "Expected cost (approx): 0.693\n",
      "Gradient at initial theta (zeros): \n",
      "[[-0.10606060606060606], [-12.305388775165389], [-11.770672393525665]]\n",
      "Expected gradients (approx): -0.1000, -12.0092, -11.2628\n"
     ]
    }
   ],
   "source": [
    "ini_theta = np.zeros((X.shape[1],1))\n",
    "\n",
    "cost = J(ini_theta, X, y)\n",
    "print(\"Cost at initial theta (zeros): {0:.3f}\".format(cost))\n",
    "print(\"Expected cost (approx): 0.693\")\n",
    "\n",
    "grad = grad_J(ini_theta, X, y)\n",
    "print(\"Gradient at initial theta (zeros): \")\n",
    "print(grad.tolist())\n",
    "print(\"Expected gradients (approx): -0.1000, -12.0092, -11.2628\")"
   ]
  },
  {
   "cell_type": "code",
   "execution_count": 23,
   "metadata": {},
   "outputs": [
    {
     "name": "stdout",
     "output_type": "stream",
     "text": [
      "Cost at test theta: 0.218\n",
      "Expected cost (approx): 0.218\n",
      "Gradient at test theta: \n",
      "[[0.041448555101244074], [2.526793010457438], [2.5262374189982175]]\n",
      "Expected gradients (approx): 0.043, 2.566, 2.647\n"
     ]
    }
   ],
   "source": [
    "test_theta = np.array([[-24.0],[0.2],[0.2]])\n",
    "\n",
    "cost = J(test_theta, X, y)\n",
    "print(\"Cost at test theta: {0:.3f}\".format(cost))\n",
    "print(\"Expected cost (approx): 0.218\")\n",
    "\n",
    "grad = grad_J(test_theta, X, y)\n",
    "print(\"Gradient at test theta: \")\n",
    "print(grad.tolist())\n",
    "print(\"Expected gradients (approx): 0.043, 2.566, 2.647\")"
   ]
  },
  {
   "cell_type": "markdown",
   "metadata": {},
   "source": [
    "## ============= Part 3: Gradient descent  ============="
   ]
  },
  {
   "cell_type": "code",
   "execution_count": 26,
   "metadata": {},
   "outputs": [],
   "source": [
    "#gradient descent\n",
    "def grad_desc(alpha, X, y, epochs, iprint):\n",
    "    epoch = []\n",
    "    history = []\n",
    "    #Initializa parameter vector (fitting parameters)\n",
    "    theta = np.zeros((X.shape[1],1))\n",
    "    for e in range(epochs):\n",
    "        theta = theta - alpha*grad_J(theta,X,y)\n",
    "        if e%iprint == 0:\n",
    "            epoch.append(e)\n",
    "            history.append(J(theta,X,y))\n",
    "    return theta, epoch, history"
   ]
  },
  {
   "cell_type": "code",
   "execution_count": 27,
   "metadata": {},
   "outputs": [
    {
     "name": "stderr",
     "output_type": "stream",
     "text": [
      "<ipython-input-20-13639707b635>:14: RuntimeWarning: divide by zero encountered in log\n",
      "  logh1 = np.log(one-hvec)\n",
      "<ipython-input-20-13639707b635>:18: RuntimeWarning: invalid value encountered in matmul\n",
      "  dot2 = np.matmul(y1.T, logh1)\n"
     ]
    },
    {
     "data": {
      "text/plain": [
       "array([[-29.62814622],\n",
       "       [  0.2608725 ],\n",
       "       [  0.25426598]])"
      ]
     },
     "execution_count": 27,
     "metadata": {},
     "output_type": "execute_result"
    }
   ],
   "source": [
    "#Choose some alpha value\n",
    "alpha = 0.005;\n",
    "num_iters = 200000;\n",
    "\n",
    "#Run gradient descent\n",
    "theta, it, histo = grad_desc(alpha, X, y, num_iters, 100)\n",
    "theta"
   ]
  },
  {
   "cell_type": "code",
   "execution_count": 28,
   "metadata": {},
   "outputs": [
    {
     "data": {
      "text/plain": [
       "Text(0, 0.5, 'J')"
      ]
     },
     "execution_count": 28,
     "metadata": {},
     "output_type": "execute_result"
    },
    {
     "data": {
      "image/png": "[encoded data removed]",
      "text/plain": [
       "<Figure size 1080x432 with 1 Axes>"
      ]
     },
     "metadata": {},
     "output_type": "display_data"
    }
   ],
   "source": [
    "#Plot cost gradient descent convergence\n",
    "fig, ax = plt.subplots(figsize=(15, 6))\n",
    "ax.plot(it,histo)\n",
    "ax.set_xlabel('epoch',fontsize=20)\n",
    "ax.set_ylabel('J',fontsize=20)"
   ]
  },
  {
   "cell_type": "code",
   "execution_count": 29,
   "metadata": {},
   "outputs": [
    {
     "name": "stdout",
     "output_type": "stream",
     "text": [
      "Cost at theta found by gradient descent: 0.290\n",
      "Expected cost (approx): 0.203\n",
      "theta: (-29.628,0.261,0.254)\n",
      "Expected theta (approx): (-25.161,0.206,0.201)\n"
     ]
    }
   ],
   "source": [
    "print(\"Cost at theta found by gradient descent: {0:.3f}\".format(histo[-1]))\n",
    "print(\"Expected cost (approx): 0.203\")\n",
    "print(\"theta: ({0:.3f},{1:.3f},{2:.3f})\".format(theta[0][0], theta[1][0], theta[2][0]))\n",
    "print(\"Expected theta (approx): (-25.161,0.206,0.201)\")"
   ]
  },
  {
   "cell_type": "markdown",
   "metadata": {},
   "source": [
    "### Optimizing the solution\n",
    "Gracient descent is a first order method that requires small time steps to avoid instabilities, and thus it requires many iterations to converge. <br />\n",
    "One way to overcome this problem is to look for a method that takes into account higher derivatives of the cost function. In one dimension, if we do the taylor expansion to second order of the function $J(x_t+\\epsilon)$ about $\\epsilon$ we get\n",
    "$$J(x_t+\\epsilon)=J(x_t)+\\epsilon J'(x_t)+\\frac{\\epsilon^2}{2}J''(x_t).$$\n",
    "Now, we want to find $\\epsilon^*$ such that $J(x_t+\\epsilon)$ is minimum, that is\n",
    "\\begin{align}\n",
    "    \\frac{\\partial}{\\partial\\epsilon}\\left(J(x_t)+\\epsilon J'(x_t)+\\frac{\\epsilon^2}{2}J''(x_T)\\right)=J'(x_T)+\\epsilon J''(x_t)=0,\n",
    "\\end{align}\n",
    "that is\n",
    "$$\\epsilon^*=-\\frac{J'(x_t)}{J''(x_t)},$$\n",
    "so we can try to update $x$ as\n",
    "$$x_{t+1}=x_t-\\frac{J'(x_t)}{J''(x_t)}.$$\n",
    "In $n$ dimensions the update rule will be\n",
    "$$\\vec{x}_{t+1}=\\vec{x}_t-H(\\vec{x}_t)^{-1}\\nabla J(\\vec{x}_t),$$\n",
    "where \n",
    "$$H(\\vec{x})=\\left(\\begin{array}{cccc}\\frac{\\partial^2J}{\\partial x_1^2} & \\frac{\\partial^2J}{\\partial x_1\\partial x_2} & \\cdots & \\frac{\\partial^2J}{\\partial x_1\\partial x_n}\\\\ \\frac{\\partial^2J}{\\partial x_2\\partial x_1} & \\frac{\\partial^2J}{\\partial x_2^2} & \\cdots & \\frac{\\partial^2J}{\\partial x_2\\partial x_n}\\\\ \\vdots & \\vdots & \\ddots & \\vdots\\\\ \\frac{\\partial^2J}{\\partial x_n\\partial x_1} & \\frac{\\partial^2J}{\\partial x_2\\partial x_n} & \\cdots & \\frac{\\partial^2J}{\\partial x_n^2}\\\\ \\end{array}\\right)$$\n",
    "is the Hessian matrix. <br />\n",
    "Although this method takes much less iterations than the gradient descent when optimizong a convex function, and does not have the problem of having to choose a convergence parameter, the computation of the Hessian and its inverse takes a number of operations of order $O(n^3)$. One way to avoid having to compute the Hessian is to do a first order approximation $B$ for the second derivative of the function\n",
    "$$B_{t+1}\\cdot(\\vec{x}_{t+1}-\\vec{x}_t)=\\nabla J(\\vec{x}_{t+1})-\\nabla J(\\vec{x}_t),$$\n",
    "that is uptated on each iteration. Unfortunately, save for the one dimensional case, we have more equations than components, and further constraints have to be imposed to solve the system. An algorithm called BFGS solves this by asking for $B$ to be symetric and also to minimize the Frobenius norm $||B_{t+1}-B_t||$, where\n",
    "$$||A||=\\sqrt{\\sum_i\\sum_jA_{i,j}^2}.$$\n",
    "The BFGS algorithm is implemented in scipy.optimize.fmin_bfgs()."
   ]
  },
  {
   "cell_type": "code",
   "execution_count": 80,
   "metadata": {},
   "outputs": [
    {
     "name": "stdout",
     "output_type": "stream",
     "text": [
      "(99, 3)\n",
      "(99,) (99, 99)\n"
     ]
    },
    {
     "ename": "IndexError",
     "evalue": "invalid index to scalar variable.",
     "output_type": "error",
     "traceback": [
      "\u001b[0;31m---------------------------------------------------------------------------\u001b[0m",
      "\u001b[0;31mIndexError\u001b[0m                                Traceback (most recent call last)",
      "\u001b[0;32m<ipython-input-80-43dcf9b584ae>\u001b[0m in \u001b[0;36m<module>\u001b[0;34m\u001b[0m\n\u001b[1;32m      1\u001b[0m \u001b[0mtheta_in\u001b[0m \u001b[0;34m=\u001b[0m \u001b[0mnp\u001b[0m\u001b[0;34m.\u001b[0m\u001b[0mzeros\u001b[0m\u001b[0;34m(\u001b[0m\u001b[0;34m(\u001b[0m\u001b[0mX\u001b[0m\u001b[0;34m.\u001b[0m\u001b[0mshape\u001b[0m\u001b[0;34m[\u001b[0m\u001b[0;36m1\u001b[0m\u001b[0;34m]\u001b[0m\u001b[0;34m,\u001b[0m\u001b[0;36m1\u001b[0m\u001b[0;34m)\u001b[0m\u001b[0;34m)\u001b[0m\u001b[0;34m\u001b[0m\u001b[0;34m\u001b[0m\u001b[0m\n\u001b[0;32m----> 2\u001b[0;31m \u001b[0mtheta_min\u001b[0m \u001b[0;34m=\u001b[0m \u001b[0mfmin_bfgs\u001b[0m\u001b[0;34m(\u001b[0m\u001b[0mJ\u001b[0m\u001b[0;34m,\u001b[0m \u001b[0mtheta_in\u001b[0m\u001b[0;34m,\u001b[0m \u001b[0mgrad_J\u001b[0m\u001b[0;34m,\u001b[0m \u001b[0margs\u001b[0m\u001b[0;34m=\u001b[0m\u001b[0;34m(\u001b[0m\u001b[0mX\u001b[0m\u001b[0;34m,\u001b[0m \u001b[0my\u001b[0m\u001b[0;34m)\u001b[0m\u001b[0;34m)\u001b[0m\u001b[0;34m\u001b[0m\u001b[0;34m\u001b[0m\u001b[0m\n\u001b[0m",
      "\u001b[0;32m/usr/lib/python3/dist-packages/scipy/optimize/optimize.py\u001b[0m in \u001b[0;36mfmin_bfgs\u001b[0;34m(f, x0, fprime, args, gtol, norm, epsilon, maxiter, full_output, disp, retall, callback)\u001b[0m\n\u001b[1;32m    942\u001b[0m             'return_all': retall}\n\u001b[1;32m    943\u001b[0m \u001b[0;34m\u001b[0m\u001b[0m\n\u001b[0;32m--> 944\u001b[0;31m     \u001b[0mres\u001b[0m \u001b[0;34m=\u001b[0m \u001b[0m_minimize_bfgs\u001b[0m\u001b[0;34m(\u001b[0m\u001b[0mf\u001b[0m\u001b[0;34m,\u001b[0m \u001b[0mx0\u001b[0m\u001b[0;34m,\u001b[0m \u001b[0margs\u001b[0m\u001b[0;34m,\u001b[0m \u001b[0mfprime\u001b[0m\u001b[0;34m,\u001b[0m \u001b[0mcallback\u001b[0m\u001b[0;34m=\u001b[0m\u001b[0mcallback\u001b[0m\u001b[0;34m,\u001b[0m \u001b[0;34m**\u001b[0m\u001b[0mopts\u001b[0m\u001b[0;34m)\u001b[0m\u001b[0;34m\u001b[0m\u001b[0;34m\u001b[0m\u001b[0m\n\u001b[0m\u001b[1;32m    945\u001b[0m \u001b[0;34m\u001b[0m\u001b[0m\n\u001b[1;32m    946\u001b[0m     \u001b[0;32mif\u001b[0m \u001b[0mfull_output\u001b[0m\u001b[0;34m:\u001b[0m\u001b[0;34m\u001b[0m\u001b[0;34m\u001b[0m\u001b[0m\n",
      "\u001b[0;32m/usr/lib/python3/dist-packages/scipy/optimize/optimize.py\u001b[0m in \u001b[0;36m_minimize_bfgs\u001b[0;34m(fun, x0, args, jac, callback, gtol, norm, eps, maxiter, disp, return_all, **unknown_options)\u001b[0m\n\u001b[1;32m   1003\u001b[0m \u001b[0;34m\u001b[0m\u001b[0m\n\u001b[1;32m   1004\u001b[0m     \u001b[0;31m# Sets the initial step guess to dx ~ 1\u001b[0m\u001b[0;34m\u001b[0m\u001b[0;34m\u001b[0m\u001b[0;34m\u001b[0m\u001b[0m\n\u001b[0;32m-> 1005\u001b[0;31m     \u001b[0mold_fval\u001b[0m \u001b[0;34m=\u001b[0m \u001b[0mf\u001b[0m\u001b[0;34m(\u001b[0m\u001b[0mx0\u001b[0m\u001b[0;34m)\u001b[0m\u001b[0;34m\u001b[0m\u001b[0;34m\u001b[0m\u001b[0m\n\u001b[0m\u001b[1;32m   1006\u001b[0m     \u001b[0mold_old_fval\u001b[0m \u001b[0;34m=\u001b[0m \u001b[0mold_fval\u001b[0m \u001b[0;34m+\u001b[0m \u001b[0mnp\u001b[0m\u001b[0;34m.\u001b[0m\u001b[0mlinalg\u001b[0m\u001b[0;34m.\u001b[0m\u001b[0mnorm\u001b[0m\u001b[0;34m(\u001b[0m\u001b[0mgfk\u001b[0m\u001b[0;34m)\u001b[0m \u001b[0;34m/\u001b[0m \u001b[0;36m2\u001b[0m\u001b[0;34m\u001b[0m\u001b[0;34m\u001b[0m\u001b[0m\n\u001b[1;32m   1007\u001b[0m \u001b[0;34m\u001b[0m\u001b[0m\n",
      "\u001b[0;32m/usr/lib/python3/dist-packages/scipy/optimize/optimize.py\u001b[0m in \u001b[0;36mfunction_wrapper\u001b[0;34m(*wrapper_args)\u001b[0m\n\u001b[1;32m    325\u001b[0m     \u001b[0;32mdef\u001b[0m \u001b[0mfunction_wrapper\u001b[0m\u001b[0;34m(\u001b[0m\u001b[0;34m*\u001b[0m\u001b[0mwrapper_args\u001b[0m\u001b[0;34m)\u001b[0m\u001b[0;34m:\u001b[0m\u001b[0;34m\u001b[0m\u001b[0;34m\u001b[0m\u001b[0m\n\u001b[1;32m    326\u001b[0m         \u001b[0mncalls\u001b[0m\u001b[0;34m[\u001b[0m\u001b[0;36m0\u001b[0m\u001b[0;34m]\u001b[0m \u001b[0;34m+=\u001b[0m \u001b[0;36m1\u001b[0m\u001b[0;34m\u001b[0m\u001b[0;34m\u001b[0m\u001b[0m\n\u001b[0;32m--> 327\u001b[0;31m         \u001b[0;32mreturn\u001b[0m \u001b[0mfunction\u001b[0m\u001b[0;34m(\u001b[0m\u001b[0;34m*\u001b[0m\u001b[0;34m(\u001b[0m\u001b[0mwrapper_args\u001b[0m \u001b[0;34m+\u001b[0m \u001b[0margs\u001b[0m\u001b[0;34m)\u001b[0m\u001b[0;34m)\u001b[0m\u001b[0;34m\u001b[0m\u001b[0;34m\u001b[0m\u001b[0m\n\u001b[0m\u001b[1;32m    328\u001b[0m \u001b[0;34m\u001b[0m\u001b[0m\n\u001b[1;32m    329\u001b[0m     \u001b[0;32mreturn\u001b[0m \u001b[0mncalls\u001b[0m\u001b[0;34m,\u001b[0m \u001b[0mfunction_wrapper\u001b[0m\u001b[0;34m\u001b[0m\u001b[0;34m\u001b[0m\u001b[0m\n",
      "\u001b[0;32m<ipython-input-78-f5a18eb8c711>\u001b[0m in \u001b[0;36mJ\u001b[0;34m(theta, X, y)\u001b[0m\n\u001b[1;32m     20\u001b[0m     \u001b[0mprint\u001b[0m\u001b[0;34m(\u001b[0m\u001b[0mX\u001b[0m\u001b[0;34m.\u001b[0m\u001b[0mshape\u001b[0m\u001b[0;34m)\u001b[0m\u001b[0;34m\u001b[0m\u001b[0;34m\u001b[0m\u001b[0m\n\u001b[1;32m     21\u001b[0m     \u001b[0mprint\u001b[0m\u001b[0;34m(\u001b[0m\u001b[0mhvec\u001b[0m\u001b[0;34m.\u001b[0m\u001b[0mshape\u001b[0m\u001b[0;34m,\u001b[0m\u001b[0mhvec1\u001b[0m\u001b[0;34m.\u001b[0m\u001b[0mshape\u001b[0m\u001b[0;34m)\u001b[0m\u001b[0;34m\u001b[0m\u001b[0;34m\u001b[0m\u001b[0m\n\u001b[0;32m---> 22\u001b[0;31m     \u001b[0;32mreturn\u001b[0m \u001b[0;34m-\u001b[0m\u001b[0;34m(\u001b[0m\u001b[0mdot1\u001b[0m\u001b[0;34m[\u001b[0m\u001b[0;36m0\u001b[0m\u001b[0;34m]\u001b[0m\u001b[0;34m[\u001b[0m\u001b[0;36m0\u001b[0m\u001b[0;34m]\u001b[0m\u001b[0;34m+\u001b[0m\u001b[0mdot2\u001b[0m\u001b[0;34m[\u001b[0m\u001b[0;36m0\u001b[0m\u001b[0;34m]\u001b[0m\u001b[0;34m[\u001b[0m\u001b[0;36m0\u001b[0m\u001b[0;34m]\u001b[0m\u001b[0;34m)\u001b[0m\u001b[0;34m/\u001b[0m\u001b[0my\u001b[0m\u001b[0;34m.\u001b[0m\u001b[0mshape\u001b[0m\u001b[0;34m[\u001b[0m\u001b[0;36m0\u001b[0m\u001b[0;34m]\u001b[0m\u001b[0;34m\u001b[0m\u001b[0;34m\u001b[0m\u001b[0m\n\u001b[0m\u001b[1;32m     23\u001b[0m \u001b[0;34m\u001b[0m\u001b[0m\n\u001b[1;32m     24\u001b[0m \u001b[0;31m#Gradient of J\u001b[0m\u001b[0;34m\u001b[0m\u001b[0;34m\u001b[0m\u001b[0;34m\u001b[0m\u001b[0m\n",
      "\u001b[0;31mIndexError\u001b[0m: invalid index to scalar variable."
     ]
    }
   ],
   "source": [
    "theta_in = np.zeros((X.shape[1],1))\n",
    "theta_min = fmin_bfgs(J, theta_in, grad_J, args=(X, y))"
   ]
  },
  {
   "cell_type": "code",
   "execution_count": null,
   "metadata": {},
   "outputs": [],
   "source": []
  }
 ],
 "metadata": {
  "kernelspec": {
   "display_name": "Python 3",
   "language": "python",
   "name": "python3"
  },
  "language_info": {
   "codemirror_mode": {
    "name": "ipython",
    "version": 3
   },
   "file_extension": ".py",
   "mimetype": "text/x-python",
   "name": "python",
   "nbconvert_exporter": "python",
   "pygments_lexer": "ipython3",
   "version": "3.8.10"
  }
 },
 "nbformat": 4,
 "nbformat_minor": 4
}
