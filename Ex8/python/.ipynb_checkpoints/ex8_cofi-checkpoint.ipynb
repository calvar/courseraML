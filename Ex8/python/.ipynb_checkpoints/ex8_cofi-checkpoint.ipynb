{
 "cells": [
  {
   "cell_type": "markdown",
   "metadata": {},
   "source": [
    "# Machine Learning Online Class Exercise 8 | Anomaly Detection and Collaborative Filtering"
   ]
  },
  {
   "cell_type": "code",
   "execution_count": 190,
   "metadata": {},
   "outputs": [],
   "source": [
    "import numpy as np\n",
    "from scipy.optimize import fmin_cg\n",
    "import pandas as pd\n",
    "from scipy.io import loadmat\n",
    "import matplotlib.pyplot as plt\n",
    "import seaborn as sns\n",
    "\n",
    "sns.set(font_scale=1.3)"
   ]
  },
  {
   "cell_type": "markdown",
   "metadata": {},
   "source": [
    "## Recommender systems\n",
    "The idea behind recommender systems is to model the preferences of users with respect to a set of products that are, somehow, described by certain features. We model each product $i$ by a vector\n",
    "$$x^{(j)}=(x_1^{(j)},\\dots,x_n^{(j)}),$$\n",
    "where $x_i^{(j)}$ is the value for the $i$th feture of product $j$.<br>\n",
    "As data we have a set of ratings that the clients have made of different products, and the goal is to estimate the scores that a user would give to products he/she has not yet rated.<br><br>\n",
    "\n",
    "To each client $k$ we associate a linear preference model of the form\n",
    "$$J(\\theta^{(k)})=\\frac{1}{2m^{(k)}}\\sum_{j:\\ r(j,k)=1}\\left[(\\theta^{(k)})^Tx^{(j)}-y^{(j,k)}\\right]^2+\\frac{\\lambda}{2m^{(k)}}\\sum_{i=1}^n(\\theta_i^{(k)})^2,$$\n",
    "where $m^{(k)}$ is the number of products rated by user $k$, $r(j,k)\\in\\{0,1\\}$ is the indicator function for wether client $k$ has already rated product $j$ (1) or not (0), and $y^{(j,k)}$ is the rating that user $k$ has given to product $j$, if defined. By means of linear regression we then find the parameters $\\theta^{(k)}$ that minimize $J$. As the value of the constant $m^{(k)}$ does not afect the minimization problem, it is usually removed from $J$.<br><br>\n",
    "\n",
    "The optimization problem for the recommender system with $N$ users/clients is then\n",
    "$$\\min_{\\theta^{(1)},\\dots,\\theta^{(N)}}J(\\theta^{(1)},\\dots,\\theta^{(N)})$$\n",
    "where,\n",
    "$$J(\\theta^{(1)},\\dots,\\theta^{(N)})=\\frac{1}{2}\\sum_{k=1}^N\\sum_{j:\\ r(j,k)=1}\\left[(\\theta^{(k)})^Tx^{(j)}-y^{(j,k)}\\right]^2+\\frac{\\lambda}{2}\\sum_{k=1}^N\\sum_{i=1}^n(\\theta_i^{(k)})^2.$$\n",
    "The gradient is given by\n",
    "$$\\frac{\\partial J}{\\partial \\theta_l^{(p)}}=\\sum_{j:\\ r(j,p)=1}\\left[(\\theta^{(p)})^Tx^{(j)}-y^{(j,p)}\\right]x_l^{(j)}+\\lambda\\theta_l^{(p)}(1-\\delta_{l,0})$$"
   ]
  },
  {
   "cell_type": "markdown",
   "metadata": {},
   "source": [
    "### Collaborative filtering\n",
    "Previously we assumed to have a set of features to describe a product. However, in general is not easy to assign a value to such features for each product manually, for example how romantic a movie is. Assume for example that we have a set of movies and we choose as features how romantic and action oriented a movie is. The goal is now to find the value of the feature vectors $x^{(j)}$ for each movie, but to do that we need to have an estimate of the preferences of the viewers $\\theta^{(k)}$. Therefore we proceed to ask the viewers, for example, from 0 to 5 how much do they like romantic movies (that is, parameters $\\theta_1^{(k)}$) and how much do they like action movies (parameters $\\theta_2^{(k)}$). We have now an estimate for the parameters and can proceed to estimate the $M$ feature vectors as the solution to the minimization problem\n",
    "$$\\min_{x^{(1)},\\dots,x^{(M)}}\\frac{1}{2}\\sum_{j=1}^{M}\\sum_{k:\\ r(j,k)=1}\\left[(\\theta^{(k)})^Tx^{(j)}-y^{(j,k)}\\right]^2+\\frac{\\lambda}{2}\\sum_{j=1}^{M}\\sum_{i=1}^n(x_i^{(j)})^2,$$\n",
    "for all the features.<br><br>\n",
    "\n",
    "To obtain both, the parameters $\\theta^{(k)}$ for our users and the feature values $x^{(j)}$ for our products we can start with an educated guess for one of them, say the parameters, and then use the optimization procedure to obtain the features, which then are used to refine the estimation of the parameters and so on, until some type of convergence is achieved. <br><br>\n",
    "\n",
    "Alternatively, one can state the problem simultaneously for both the parameters and the features\n",
    "$$J(\\theta^{(1)},\\dots,\\theta^{(N)},x^{(1)},\\dots,x^{(M)})=\\frac{1}{2}\\sum_{(j,k):\\ r(j,k)=1}\\left[(\\theta^{(k)})^Tx^{(j)}-y^{(j,k)}\\right]^2+\\frac{\\lambda}{2}\\sum_{k=1}^N\\sum_{i=1}^n(\\theta_i^{(k)})^2+\\frac{\\lambda}{2}\\sum_{j=1}^{M}\\sum_{i=1}^n(x_i^{(j)})^2,$$\n",
    "by minimizing\n",
    "$$\\min_{\\theta^{(1)},\\dots,\\theta^{(N)},x^{(1)},\\dots,x^{(M)}}J(\\theta^{(1)},\\dots,\\theta^{(N)},x^{(1)},\\dots,x^{(M)}).$$\n",
    "In this case we no longer use bias terms for features $x_0^{(j)}=1$ or parameters $\\theta_0^{(k)}$, so the gradient is\n",
    "$$\\frac{\\partial J}{\\partial \\theta_l^{(p)}}=\\sum_{j:\\ r(j,p)=1}\\left[(\\theta^{(p)})^Tx^{(j)}-y^{(j,p)}\\right]x_l^{(j)}+\\lambda\\theta_l^{(p)},$$\n",
    "$$\\frac{\\partial J}{\\partial x_l^{(q)}}=\\sum_{k:\\ r(q,k)=1}\\left[(\\theta^{(k)})^Tx^{(q)}-y^{(q,k)}\\right]\\theta_l^{(k)}+\\lambda x_l^{(q)}.$$\n",
    "It is important to note that the features $x^{(j)}$ that the algorithm will learn are not always easy to interpret, that is, rarely they end up being something like $x^{(1)}=$romance, $x^{(2)}=$action and so on, and more often thay are some combination of these aspects."
   ]
  },
  {
   "cell_type": "markdown",
   "metadata": {},
   "source": [
    "### Low-rank matrix factorization\n",
    "In order to vectorize the operations needed to compute $J$ and its gradient we notice that the data obtained from the initial client ranking of the products ($y^{(j,k)}$, for feature $j$ and client $k$) can be organized as a matrix\n",
    "$$Y=\\left(\\begin{array}{cccc}\n",
    "y^{(1,1)} & y^{(1,2)} & \\cdots & y^{(1,N)}\\\\ \n",
    "y^{(2,1)} & y^{(2,2)} & \\ddots & \\vdots\\\\\n",
    "y^{(M,1)} & y^{(M,2)} & \\cdots & y^{(M,N)}\\\\\n",
    "\\end{array}\\right).$$\n",
    "Likewise, we can construct matrices for the parameters and the features where each row contains one of the vectors, that is\n",
    "$$\\Theta=\\left(\\begin{array}{c}\n",
    "\\theta^{(1)}\\\\\n",
    "\\vdots\\\\\n",
    "\\theta^{(N)}\\\\\n",
    "\\end{array}\\right),$$\n",
    "and \n",
    "$$X=\\left(\\begin{array}{c}\n",
    "x^{(1)}\\\\\n",
    "\\vdots\\\\\n",
    "x^{(M)}\\\\\n",
    "\\end{array}\\right),$$\n",
    "and then compute\n",
    "$$X\\Theta^T-Y.$$"
   ]
  },
  {
   "cell_type": "markdown",
   "metadata": {},
   "source": [
    "### Mean normalization\n",
    "What to do with a user $l$ that has not rated any product? In that case, as only the 2nd and 3rd term of $J$ will play a part in the algorithm for that user, the value obtained for $\\theta^{(l)}=0$. To avoid this, we can center all the data $Y$ by substracting the mean of each raw, without taking into account unrated values. Then the factor $X\\Theta^T$ will have row-wise mean equal to 0 ant the parameters for user $l$ will start at the mean value. When predicting an actual feature value, we may then add again the mean for the correspondent row."
   ]
  },
  {
   "cell_type": "markdown",
   "metadata": {},
   "source": [
    "## =============== Part 1: Loading movie ratings dataset ================"
   ]
  },
  {
   "cell_type": "code",
   "execution_count": 191,
   "metadata": {},
   "outputs": [
    {
     "data": {
      "text/plain": [
       "((1682, 943), (1682, 943))"
      ]
     },
     "execution_count": 191,
     "metadata": {},
     "output_type": "execute_result"
    }
   ],
   "source": [
    "#Load movie rating data\n",
    "# Y is a 1682x943 matrix, containing ratings (1-5) of 1682 movies on 943 users\n",
    "# R is a 1682x943 matrix, where R(i,j) = 1 if and only if user j gave a rating to movie i\n",
    "data = loadmat(\"ex8_movies.mat\")\n",
    "Y = data['Y']\n",
    "R = data['R']\n",
    "Y.shape, R.shape"
   ]
  },
  {
   "cell_type": "code",
   "execution_count": 192,
   "metadata": {},
   "outputs": [
    {
     "data": {
      "text/html": [
       "<div>\n",
       "<style scoped>\n",
       "    .dataframe tbody tr th:only-of-type {\n",
       "        vertical-align: middle;\n",
       "    }\n",
       "\n",
       "    .dataframe tbody tr th {\n",
       "        vertical-align: top;\n",
       "    }\n",
       "\n",
       "    .dataframe thead th {\n",
       "        text-align: right;\n",
       "    }\n",
       "</style>\n",
       "<table border=\"1\" class=\"dataframe\">\n",
       "  <thead>\n",
       "    <tr style=\"text-align: right;\">\n",
       "      <th></th>\n",
       "      <th>0</th>\n",
       "      <th>1</th>\n",
       "      <th>2</th>\n",
       "      <th>3</th>\n",
       "      <th>4</th>\n",
       "      <th>5</th>\n",
       "      <th>6</th>\n",
       "      <th>7</th>\n",
       "      <th>8</th>\n",
       "      <th>9</th>\n",
       "      <th>...</th>\n",
       "      <th>933</th>\n",
       "      <th>934</th>\n",
       "      <th>935</th>\n",
       "      <th>936</th>\n",
       "      <th>937</th>\n",
       "      <th>938</th>\n",
       "      <th>939</th>\n",
       "      <th>940</th>\n",
       "      <th>941</th>\n",
       "      <th>942</th>\n",
       "    </tr>\n",
       "  </thead>\n",
       "  <tbody>\n",
       "    <tr>\n",
       "      <th>0</th>\n",
       "      <td>5</td>\n",
       "      <td>4</td>\n",
       "      <td>0</td>\n",
       "      <td>0</td>\n",
       "      <td>4</td>\n",
       "      <td>4</td>\n",
       "      <td>0</td>\n",
       "      <td>0</td>\n",
       "      <td>0</td>\n",
       "      <td>4</td>\n",
       "      <td>...</td>\n",
       "      <td>2</td>\n",
       "      <td>3</td>\n",
       "      <td>4</td>\n",
       "      <td>0</td>\n",
       "      <td>4</td>\n",
       "      <td>0</td>\n",
       "      <td>0</td>\n",
       "      <td>5</td>\n",
       "      <td>0</td>\n",
       "      <td>0</td>\n",
       "    </tr>\n",
       "    <tr>\n",
       "      <th>1</th>\n",
       "      <td>3</td>\n",
       "      <td>0</td>\n",
       "      <td>0</td>\n",
       "      <td>0</td>\n",
       "      <td>3</td>\n",
       "      <td>0</td>\n",
       "      <td>0</td>\n",
       "      <td>0</td>\n",
       "      <td>0</td>\n",
       "      <td>0</td>\n",
       "      <td>...</td>\n",
       "      <td>4</td>\n",
       "      <td>0</td>\n",
       "      <td>0</td>\n",
       "      <td>0</td>\n",
       "      <td>0</td>\n",
       "      <td>0</td>\n",
       "      <td>0</td>\n",
       "      <td>0</td>\n",
       "      <td>0</td>\n",
       "      <td>5</td>\n",
       "    </tr>\n",
       "    <tr>\n",
       "      <th>2</th>\n",
       "      <td>4</td>\n",
       "      <td>0</td>\n",
       "      <td>0</td>\n",
       "      <td>0</td>\n",
       "      <td>0</td>\n",
       "      <td>0</td>\n",
       "      <td>0</td>\n",
       "      <td>0</td>\n",
       "      <td>0</td>\n",
       "      <td>0</td>\n",
       "      <td>...</td>\n",
       "      <td>0</td>\n",
       "      <td>0</td>\n",
       "      <td>4</td>\n",
       "      <td>0</td>\n",
       "      <td>0</td>\n",
       "      <td>0</td>\n",
       "      <td>0</td>\n",
       "      <td>0</td>\n",
       "      <td>0</td>\n",
       "      <td>0</td>\n",
       "    </tr>\n",
       "    <tr>\n",
       "      <th>3</th>\n",
       "      <td>3</td>\n",
       "      <td>0</td>\n",
       "      <td>0</td>\n",
       "      <td>0</td>\n",
       "      <td>0</td>\n",
       "      <td>0</td>\n",
       "      <td>5</td>\n",
       "      <td>0</td>\n",
       "      <td>0</td>\n",
       "      <td>4</td>\n",
       "      <td>...</td>\n",
       "      <td>5</td>\n",
       "      <td>0</td>\n",
       "      <td>0</td>\n",
       "      <td>0</td>\n",
       "      <td>0</td>\n",
       "      <td>0</td>\n",
       "      <td>2</td>\n",
       "      <td>0</td>\n",
       "      <td>0</td>\n",
       "      <td>0</td>\n",
       "    </tr>\n",
       "    <tr>\n",
       "      <th>4</th>\n",
       "      <td>3</td>\n",
       "      <td>0</td>\n",
       "      <td>0</td>\n",
       "      <td>0</td>\n",
       "      <td>0</td>\n",
       "      <td>0</td>\n",
       "      <td>0</td>\n",
       "      <td>0</td>\n",
       "      <td>0</td>\n",
       "      <td>0</td>\n",
       "      <td>...</td>\n",
       "      <td>0</td>\n",
       "      <td>0</td>\n",
       "      <td>0</td>\n",
       "      <td>0</td>\n",
       "      <td>0</td>\n",
       "      <td>0</td>\n",
       "      <td>0</td>\n",
       "      <td>0</td>\n",
       "      <td>0</td>\n",
       "      <td>0</td>\n",
       "    </tr>\n",
       "  </tbody>\n",
       "</table>\n",
       "<p>5 rows × 943 columns</p>\n",
       "</div>"
      ],
      "text/plain": [
       "   0    1    2    3    4    5    6    7    8    9    ...  933  934  935  936  \\\n",
       "0    5    4    0    0    4    4    0    0    0    4  ...    2    3    4    0   \n",
       "1    3    0    0    0    3    0    0    0    0    0  ...    4    0    0    0   \n",
       "2    4    0    0    0    0    0    0    0    0    0  ...    0    0    4    0   \n",
       "3    3    0    0    0    0    0    5    0    0    4  ...    5    0    0    0   \n",
       "4    3    0    0    0    0    0    0    0    0    0  ...    0    0    0    0   \n",
       "\n",
       "   937  938  939  940  941  942  \n",
       "0    4    0    0    5    0    0  \n",
       "1    0    0    0    0    0    5  \n",
       "2    0    0    0    0    0    0  \n",
       "3    0    0    2    0    0    0  \n",
       "4    0    0    0    0    0    0  \n",
       "\n",
       "[5 rows x 943 columns]"
      ]
     },
     "metadata": {},
     "output_type": "display_data"
    },
    {
     "data": {
      "text/html": [
       "<div>\n",
       "<style scoped>\n",
       "    .dataframe tbody tr th:only-of-type {\n",
       "        vertical-align: middle;\n",
       "    }\n",
       "\n",
       "    .dataframe tbody tr th {\n",
       "        vertical-align: top;\n",
       "    }\n",
       "\n",
       "    .dataframe thead th {\n",
       "        text-align: right;\n",
       "    }\n",
       "</style>\n",
       "<table border=\"1\" class=\"dataframe\">\n",
       "  <thead>\n",
       "    <tr style=\"text-align: right;\">\n",
       "      <th></th>\n",
       "      <th>0</th>\n",
       "      <th>1</th>\n",
       "      <th>2</th>\n",
       "      <th>3</th>\n",
       "      <th>4</th>\n",
       "      <th>5</th>\n",
       "      <th>6</th>\n",
       "      <th>7</th>\n",
       "      <th>8</th>\n",
       "      <th>9</th>\n",
       "      <th>...</th>\n",
       "      <th>933</th>\n",
       "      <th>934</th>\n",
       "      <th>935</th>\n",
       "      <th>936</th>\n",
       "      <th>937</th>\n",
       "      <th>938</th>\n",
       "      <th>939</th>\n",
       "      <th>940</th>\n",
       "      <th>941</th>\n",
       "      <th>942</th>\n",
       "    </tr>\n",
       "  </thead>\n",
       "  <tbody>\n",
       "    <tr>\n",
       "      <th>0</th>\n",
       "      <td>1</td>\n",
       "      <td>1</td>\n",
       "      <td>0</td>\n",
       "      <td>0</td>\n",
       "      <td>1</td>\n",
       "      <td>1</td>\n",
       "      <td>0</td>\n",
       "      <td>0</td>\n",
       "      <td>0</td>\n",
       "      <td>1</td>\n",
       "      <td>...</td>\n",
       "      <td>1</td>\n",
       "      <td>1</td>\n",
       "      <td>1</td>\n",
       "      <td>0</td>\n",
       "      <td>1</td>\n",
       "      <td>0</td>\n",
       "      <td>0</td>\n",
       "      <td>1</td>\n",
       "      <td>0</td>\n",
       "      <td>0</td>\n",
       "    </tr>\n",
       "    <tr>\n",
       "      <th>1</th>\n",
       "      <td>1</td>\n",
       "      <td>0</td>\n",
       "      <td>0</td>\n",
       "      <td>0</td>\n",
       "      <td>1</td>\n",
       "      <td>0</td>\n",
       "      <td>0</td>\n",
       "      <td>0</td>\n",
       "      <td>0</td>\n",
       "      <td>0</td>\n",
       "      <td>...</td>\n",
       "      <td>1</td>\n",
       "      <td>0</td>\n",
       "      <td>0</td>\n",
       "      <td>0</td>\n",
       "      <td>0</td>\n",
       "      <td>0</td>\n",
       "      <td>0</td>\n",
       "      <td>0</td>\n",
       "      <td>0</td>\n",
       "      <td>1</td>\n",
       "    </tr>\n",
       "    <tr>\n",
       "      <th>2</th>\n",
       "      <td>1</td>\n",
       "      <td>0</td>\n",
       "      <td>0</td>\n",
       "      <td>0</td>\n",
       "      <td>0</td>\n",
       "      <td>0</td>\n",
       "      <td>0</td>\n",
       "      <td>0</td>\n",
       "      <td>0</td>\n",
       "      <td>0</td>\n",
       "      <td>...</td>\n",
       "      <td>0</td>\n",
       "      <td>0</td>\n",
       "      <td>1</td>\n",
       "      <td>0</td>\n",
       "      <td>0</td>\n",
       "      <td>0</td>\n",
       "      <td>0</td>\n",
       "      <td>0</td>\n",
       "      <td>0</td>\n",
       "      <td>0</td>\n",
       "    </tr>\n",
       "    <tr>\n",
       "      <th>3</th>\n",
       "      <td>1</td>\n",
       "      <td>0</td>\n",
       "      <td>0</td>\n",
       "      <td>0</td>\n",
       "      <td>0</td>\n",
       "      <td>0</td>\n",
       "      <td>1</td>\n",
       "      <td>0</td>\n",
       "      <td>0</td>\n",
       "      <td>1</td>\n",
       "      <td>...</td>\n",
       "      <td>1</td>\n",
       "      <td>0</td>\n",
       "      <td>0</td>\n",
       "      <td>0</td>\n",
       "      <td>0</td>\n",
       "      <td>0</td>\n",
       "      <td>1</td>\n",
       "      <td>0</td>\n",
       "      <td>0</td>\n",
       "      <td>0</td>\n",
       "    </tr>\n",
       "    <tr>\n",
       "      <th>4</th>\n",
       "      <td>1</td>\n",
       "      <td>0</td>\n",
       "      <td>0</td>\n",
       "      <td>0</td>\n",
       "      <td>0</td>\n",
       "      <td>0</td>\n",
       "      <td>0</td>\n",
       "      <td>0</td>\n",
       "      <td>0</td>\n",
       "      <td>0</td>\n",
       "      <td>...</td>\n",
       "      <td>0</td>\n",
       "      <td>0</td>\n",
       "      <td>0</td>\n",
       "      <td>0</td>\n",
       "      <td>0</td>\n",
       "      <td>0</td>\n",
       "      <td>0</td>\n",
       "      <td>0</td>\n",
       "      <td>0</td>\n",
       "      <td>0</td>\n",
       "    </tr>\n",
       "  </tbody>\n",
       "</table>\n",
       "<p>5 rows × 943 columns</p>\n",
       "</div>"
      ],
      "text/plain": [
       "   0    1    2    3    4    5    6    7    8    9    ...  933  934  935  936  \\\n",
       "0    1    1    0    0    1    1    0    0    0    1  ...    1    1    1    0   \n",
       "1    1    0    0    0    1    0    0    0    0    0  ...    1    0    0    0   \n",
       "2    1    0    0    0    0    0    0    0    0    0  ...    0    0    1    0   \n",
       "3    1    0    0    0    0    0    1    0    0    1  ...    1    0    0    0   \n",
       "4    1    0    0    0    0    0    0    0    0    0  ...    0    0    0    0   \n",
       "\n",
       "   937  938  939  940  941  942  \n",
       "0    1    0    0    1    0    0  \n",
       "1    0    0    0    0    0    1  \n",
       "2    0    0    0    0    0    0  \n",
       "3    0    0    1    0    0    0  \n",
       "4    0    0    0    0    0    0  \n",
       "\n",
       "[5 rows x 943 columns]"
      ]
     },
     "metadata": {},
     "output_type": "display_data"
    }
   ],
   "source": [
    "Y_df = pd.DataFrame(Y)\n",
    "display(Y_df.head())\n",
    "R_df = pd.DataFrame(R)\n",
    "display(R_df.head())"
   ]
  },
  {
   "cell_type": "code",
   "execution_count": 193,
   "metadata": {},
   "outputs": [
    {
     "name": "stdout",
     "output_type": "stream",
     "text": [
      "Average rating for movie 0 (Toy Story): 3.878\n"
     ]
    }
   ],
   "source": [
    "#Average rating of the first movie\n",
    "avr0 = Y_df.loc[0][R_df.loc[0] == 1].mean()\n",
    "print(\"Average rating for movie 0 (Toy Story): {0:.3f}\".format(avr0))"
   ]
  },
  {
   "cell_type": "code",
   "execution_count": 194,
   "metadata": {},
   "outputs": [
    {
     "data": {
      "text/plain": [
       "Text(0, 0.5, 'movies')"
      ]
     },
     "execution_count": 194,
     "metadata": {},
     "output_type": "execute_result"
    },
    {
     "data": {
      "image/png": "[encoded data removed]",
      "text/plain": [
       "<Figure size 432x432 with 1 Axes>"
      ]
     },
     "metadata": {},
     "output_type": "display_data"
    }
   ],
   "source": [
    "fig0, ax = plt.subplots(figsize=(6, 6))\n",
    "ax.imshow(Y, origin='upper', cmap='inferno', extent=[0,942,1681,0], aspect='auto', vmin=0, vmax=5)\n",
    "ax.set_xlabel(\"users\")\n",
    "ax.set_ylabel(\"movies\")"
   ]
  },
  {
   "cell_type": "markdown",
   "metadata": {},
   "source": [
    "## ============ Part 2: Collaborative Filtering Cost Function ==========="
   ]
  },
  {
   "cell_type": "code",
   "execution_count": 195,
   "metadata": {},
   "outputs": [
    {
     "data": {
      "text/plain": [
       "((1682, 10), (943, 10), 943, 1682, 10)"
      ]
     },
     "execution_count": 195,
     "metadata": {},
     "output_type": "execute_result"
    }
   ],
   "source": [
    "#Load pre-trained weights (X, Theta, num_users, num_movies, num_features)\n",
    "data2 = loadmat(\"ex8_movieParams.mat\")\n",
    "X = data2['X']\n",
    "Theta = data2['Theta']\n",
    "num_users = data2['num_users'][0][0]\n",
    "num_movies = data2['num_movies'][0][0]\n",
    "num_features = data2['num_features'][0][0]\n",
    "X.shape, Theta.shape, num_users, num_movies, num_features"
   ]
  },
  {
   "cell_type": "code",
   "execution_count": 196,
   "metadata": {},
   "outputs": [],
   "source": [
    "#Reduce the data set size so that this runs faster\n",
    "num_users = 4 \n",
    "num_movies = 5 \n",
    "num_features = 3\n",
    "X = X[:num_movies, :num_features]\n",
    "Theta = Theta[:num_users, :num_features]\n",
    "Y = Y[:num_movies, :num_users]\n",
    "R = R[:num_movies, :num_users]"
   ]
  },
  {
   "cell_type": "code",
   "execution_count": 197,
   "metadata": {},
   "outputs": [
    {
     "data": {
      "text/plain": [
       "array([[-3.71258241, -2.90934704,  0.74976242,  1.2631815 ],\n",
       "       [-1.99057164,  0.73512514,  0.28868079,  0.84412644],\n",
       "       [-2.9161876 ,  0.54644916, -0.08571474,  0.58897213],\n",
       "       [-1.3438128 ,  0.80892833,  0.76339419,  0.77049069],\n",
       "       [-2.81589784,  0.54014188, -0.14926488,  0.7725454 ]])"
      ]
     },
     "execution_count": 197,
     "metadata": {},
     "output_type": "execute_result"
    }
   ],
   "source": [
    "np.matmul(X,Theta.T) - Y"
   ]
  },
  {
   "cell_type": "code",
   "execution_count": 198,
   "metadata": {},
   "outputs": [
    {
     "data": {
      "text/plain": [
       "(array([[ 1.0486855 , -0.40023196,  1.19411945],\n",
       "        [ 0.78085123, -0.38562591,  0.52119779],\n",
       "        [ 0.64150886, -0.54785385, -0.08379638],\n",
       "        [ 0.45361782, -0.80021844,  0.68048129],\n",
       "        [ 0.93753789,  0.1060899 ,  0.36195295]]),\n",
       " array([[ 0.28544362, -1.68426509,  0.26293877],\n",
       "        [ 0.50501321, -0.45464846,  0.31746244],\n",
       "        [-0.43191656, -0.47880449,  0.84671111],\n",
       "        [ 0.72859839, -0.27189391,  0.3268436 ]]))"
      ]
     },
     "execution_count": 198,
     "metadata": {},
     "output_type": "execute_result"
    }
   ],
   "source": [
    "X, Theta"
   ]
  },
  {
   "cell_type": "code",
   "execution_count": 199,
   "metadata": {},
   "outputs": [
    {
     "data": {
      "text/plain": [
       "array([ 1.0486855 , -0.40023196,  1.19411945,  0.78085123, -0.38562591,\n",
       "        0.52119779,  0.64150886, -0.54785385, -0.08379638,  0.45361782,\n",
       "       -0.80021844,  0.68048129,  0.93753789,  0.1060899 ,  0.36195295,\n",
       "        0.28544362, -1.68426509,  0.26293877,  0.50501321, -0.45464846,\n",
       "        0.31746244, -0.43191656, -0.47880449,  0.84671111,  0.72859839,\n",
       "       -0.27189391,  0.3268436 ])"
      ]
     },
     "execution_count": 199,
     "metadata": {},
     "output_type": "execute_result"
    }
   ],
   "source": [
    "Params = np.concatenate((X.flatten(),Theta.flatten()), axis=0)\n",
    "Params"
   ]
  },
  {
   "cell_type": "code",
   "execution_count": 200,
   "metadata": {},
   "outputs": [
    {
     "data": {
      "text/plain": [
       "array([[ 1.0486855 , -0.40023196,  1.19411945],\n",
       "       [ 0.78085123, -0.38562591,  0.52119779],\n",
       "       [ 0.64150886, -0.54785385, -0.08379638],\n",
       "       [ 0.45361782, -0.80021844,  0.68048129],\n",
       "       [ 0.93753789,  0.1060899 ,  0.36195295]])"
      ]
     },
     "execution_count": 200,
     "metadata": {},
     "output_type": "execute_result"
    }
   ],
   "source": [
    "Params[:num_movies*num_features].reshape(num_movies,num_features)"
   ]
  },
  {
   "cell_type": "code",
   "execution_count": 201,
   "metadata": {},
   "outputs": [
    {
     "data": {
      "text/plain": [
       "array([[ 0.28544362, -1.68426509,  0.26293877],\n",
       "       [ 0.50501321, -0.45464846,  0.31746244],\n",
       "       [-0.43191656, -0.47880449,  0.84671111],\n",
       "       [ 0.72859839, -0.27189391,  0.3268436 ]])"
      ]
     },
     "execution_count": 201,
     "metadata": {},
     "output_type": "execute_result"
    }
   ],
   "source": [
    "Params[num_movies*num_features:].reshape(num_users,num_features)"
   ]
  },
  {
   "cell_type": "code",
   "execution_count": 202,
   "metadata": {},
   "outputs": [],
   "source": [
    "#HAY QUE RECIBIR UN SOLO VECTOR 1D DE PARAMETROS PARA PASARLO AL ALGORITMO DE OPTIMIZACIÓN!!!!!\n",
    "\n",
    "#Collaborative filtering cost function\n",
    "def J(Params, Y, R, l, num_products, num_users, num_features):    \n",
    "    X = Params[:num_products*num_features].reshape(num_products,num_features)\n",
    "    Theta = Params[num_products*num_features:].reshape(num_users,num_features)\n",
    "    \n",
    "    XQYsq = (np.matmul(X,Theta.T) - Y)**2\n",
    "    XQYsqMaskedSum = (XQYsq * R).sum() \n",
    "    QsqSum = (Theta**2).sum()\n",
    "    XsqSum = (X**2).sum()\n",
    "    return 0.5*(XQYsqMaskedSum + l*(QsqSum+XsqSum))\n",
    "\n",
    "#Cost function gradient\n",
    "def Jgrad(Params, Y, R, l, num_products, num_users, num_features):   \n",
    "    X = Params[:num_products*num_features].reshape(num_products,num_features)\n",
    "    Theta = Params[num_products*num_features:].reshape(num_users,num_features)\n",
    "    \n",
    "    XQYmask = (np.matmul(X,Theta.T) - Y) * R  \n",
    "    Qgrad = np.matmul(XQYmask.T,X) + l*Theta\n",
    "    Xgrad = np.matmul(XQYmask,Theta) + l*X\n",
    "    \n",
    "    return np.concatenate((Xgrad.flatten(),Qgrad.flatten()), axis=0)           "
   ]
  },
  {
   "cell_type": "code",
   "execution_count": 203,
   "metadata": {},
   "outputs": [],
   "source": [
    "Jval = J(Params, Y, R, 0, num_movies, num_users, num_features)\n",
    "grad = Jgrad(Params, Y, R, 0, num_movies, num_users, num_features)"
   ]
  },
  {
   "cell_type": "code",
   "execution_count": 204,
   "metadata": {},
   "outputs": [
    {
     "name": "stdout",
     "output_type": "stream",
     "text": [
      "Cost at loaded parameters: 22.225\n",
      "(this value should be about 22.22)\n"
     ]
    }
   ],
   "source": [
    "print(\"Cost at loaded parameters: {0:.3f}\".format(Jval))\n",
    "print(\"(this value should be about 22.22)\")"
   ]
  },
  {
   "cell_type": "markdown",
   "metadata": {},
   "source": [
    "## ============== Part 3: Collaborative Filtering Gradient =============="
   ]
  },
  {
   "cell_type": "code",
   "execution_count": 205,
   "metadata": {},
   "outputs": [],
   "source": [
    "#Numerical approximation of the gradient\n",
    "def numJgrad(Params, Y, R, l, num_products, num_users, num_features):\n",
    "    Qgrad = np.zeros((num_users, num_features))\n",
    "    Xgrad = np.zeros((num_products, num_features))\n",
    "    sz = num_products*num_features\n",
    "    e = 1.e-6\n",
    "    \n",
    "    for i in range(Qgrad.shape[0]):\n",
    "        for j in range(Qgrad.shape[1]):\n",
    "            Params[sz + i*num_features+j] -= e\n",
    "            Jpre = J(Params, Y, R, l, num_products, num_users, num_features)\n",
    "            Params[sz + i*num_features+j] += 2*e\n",
    "            Jpos = J(Params, Y, R, l, num_products, num_users, num_features)\n",
    "            Params[sz + i*num_features+j] -= e\n",
    "            Qgrad[i,j] = (Jpos - Jpre) / (2*e)\n",
    "    \n",
    "    for i in range(Xgrad.shape[0]):\n",
    "        for j in range(Xgrad.shape[1]):\n",
    "            Params[i*num_features+j] -= e\n",
    "            Jpre = J(Params, Y, R, l, num_products, num_users, num_features)\n",
    "            Params[i*num_features+j] += 2*e\n",
    "            Jpos = J(Params, Y, R, l, num_products, num_users, num_features)\n",
    "            Params[i*num_features+j] -= e\n",
    "            Xgrad[i,j] = (Jpos - Jpre) / (2*e)\n",
    "        \n",
    "    return np.concatenate((Xgrad.flatten(),Qgrad.flatten()), axis=0)"
   ]
  },
  {
   "cell_type": "code",
   "execution_count": 206,
   "metadata": {},
   "outputs": [],
   "source": [
    "#Check gradients without reguralization\n",
    "ngrad = numJgrad(Params, Y, R, 0, num_movies, num_users, num_features)"
   ]
  },
  {
   "cell_type": "code",
   "execution_count": 207,
   "metadata": {},
   "outputs": [
    {
     "name": "stdout",
     "output_type": "stream",
     "text": [
      "X grad error: -2.1393087301646574e-10\n",
      "Theta grad error: -2.0499817399155518e-09\n"
     ]
    }
   ],
   "source": [
    "errX = (grad[:num_movies*num_features]-ngrad[:num_movies*num_features]).sum()\n",
    "errT = (grad[num_movies*num_features:]-ngrad[num_movies*num_features:]).sum()\n",
    "print(\"X grad error: {0}\\nTheta grad error: {1}\".format(errX, errT))"
   ]
  },
  {
   "cell_type": "markdown",
   "metadata": {},
   "source": [
    "## ========= Part 4: Collaborative Filtering Cost Regularization ========"
   ]
  },
  {
   "cell_type": "code",
   "execution_count": 208,
   "metadata": {},
   "outputs": [],
   "source": [
    "Jval = J(Params, Y, R, 1.5, num_movies, num_users, num_features)\n",
    "grad = Jgrad(Params, Y, R, 1.5, num_movies, num_users, num_features)"
   ]
  },
  {
   "cell_type": "code",
   "execution_count": 209,
   "metadata": {},
   "outputs": [
    {
     "name": "stdout",
     "output_type": "stream",
     "text": [
      "Cost at loaded parameters: 31.344\n",
      "(this value should be about 31.34)\n"
     ]
    }
   ],
   "source": [
    "print(\"Cost at loaded parameters: {0:.3f}\".format(Jval))\n",
    "print(\"(this value should be about 31.34)\")"
   ]
  },
  {
   "cell_type": "markdown",
   "metadata": {},
   "source": [
    "## ======= Part 5: Collaborative Filtering Gradient Regularization ======"
   ]
  },
  {
   "cell_type": "code",
   "execution_count": 210,
   "metadata": {},
   "outputs": [],
   "source": [
    "#Check gradients with reguralization\n",
    "ngrad = numJgrad(Params, Y, R, 1.5, num_movies, num_users, num_features)"
   ]
  },
  {
   "cell_type": "code",
   "execution_count": 211,
   "metadata": {},
   "outputs": [
    {
     "name": "stdout",
     "output_type": "stream",
     "text": [
      "X grad error: -2.502916596203164e-09\n",
      "Theta grad error: -3.512531487892545e-09\n"
     ]
    }
   ],
   "source": [
    "errX = (grad[:num_movies*num_features]-ngrad[:num_movies*num_features]).sum()\n",
    "errT = (grad[num_movies*num_features:]-ngrad[num_movies*num_features:]).sum()\n",
    "print(\"X grad error: {0}\\nTheta grad error: {1}\".format(errX, errT))"
   ]
  },
  {
   "cell_type": "markdown",
   "metadata": {},
   "source": [
    "## ============== Part 6: Entering ratings for a new user ==============="
   ]
  },
  {
   "cell_type": "code",
   "execution_count": 374,
   "metadata": {},
   "outputs": [
    {
     "data": {
      "text/plain": [
       "((1682, 943), (1682, 943))"
      ]
     },
     "execution_count": 374,
     "metadata": {},
     "output_type": "execute_result"
    }
   ],
   "source": [
    "#Load data\n",
    "data = loadmat(\"ex8_movies.mat\")\n",
    "Y = data['Y']\n",
    "R = data['R']\n",
    "Y.shape, R.shape"
   ]
  },
  {
   "cell_type": "code",
   "execution_count": 375,
   "metadata": {},
   "outputs": [
    {
     "data": {
      "text/html": [
       "<div>\n",
       "<style scoped>\n",
       "    .dataframe tbody tr th:only-of-type {\n",
       "        vertical-align: middle;\n",
       "    }\n",
       "\n",
       "    .dataframe tbody tr th {\n",
       "        vertical-align: top;\n",
       "    }\n",
       "\n",
       "    .dataframe thead th {\n",
       "        text-align: right;\n",
       "    }\n",
       "</style>\n",
       "<table border=\"1\" class=\"dataframe\">\n",
       "  <thead>\n",
       "    <tr style=\"text-align: right;\">\n",
       "      <th></th>\n",
       "      <th>id</th>\n",
       "      <th>title</th>\n",
       "      <th>year</th>\n",
       "    </tr>\n",
       "  </thead>\n",
       "  <tbody>\n",
       "    <tr>\n",
       "      <th>0</th>\n",
       "      <td>﻿1</td>\n",
       "      <td>Toy Story</td>\n",
       "      <td>1995</td>\n",
       "    </tr>\n",
       "    <tr>\n",
       "      <th>1</th>\n",
       "      <td>2</td>\n",
       "      <td>GoldenEye</td>\n",
       "      <td>1995</td>\n",
       "    </tr>\n",
       "    <tr>\n",
       "      <th>2</th>\n",
       "      <td>3</td>\n",
       "      <td>Four Rooms</td>\n",
       "      <td>1995</td>\n",
       "    </tr>\n",
       "    <tr>\n",
       "      <th>3</th>\n",
       "      <td>4</td>\n",
       "      <td>Get Shorty</td>\n",
       "      <td>1995</td>\n",
       "    </tr>\n",
       "    <tr>\n",
       "      <th>4</th>\n",
       "      <td>5</td>\n",
       "      <td>Copycat</td>\n",
       "      <td>1995</td>\n",
       "    </tr>\n",
       "  </tbody>\n",
       "</table>\n",
       "</div>"
      ],
      "text/plain": [
       "   id       title  year\n",
       "0  ﻿1   Toy Story  1995\n",
       "1   2   GoldenEye  1995\n",
       "2   3  Four Rooms  1995\n",
       "3   4  Get Shorty  1995\n",
       "4   5     Copycat  1995"
      ]
     },
     "execution_count": 375,
     "metadata": {},
     "output_type": "execute_result"
    }
   ],
   "source": [
    "#Load movie list\n",
    "movieList = [[],[],[]]\n",
    "In = open(\"movie_ids_utf8.txt\", \"r\")\n",
    "for line in In:\n",
    "    v = line.split()\n",
    "    id = v[0]\n",
    "    year = v[len(v)-1][1:-1]\n",
    "    name = ' '.join(v[1:len(v)-1])\n",
    "    movieList[0].append(id)\n",
    "    movieList[1].append(name)\n",
    "    movieList[2].append(year)\n",
    "In.close()\n",
    "\n",
    "movieList_df = pd.DataFrame({'id' : movieList[0], 'title' : movieList[1], 'year' : movieList[2]})\n",
    "movieList_df.head()"
   ]
  },
  {
   "cell_type": "code",
   "execution_count": 376,
   "metadata": {},
   "outputs": [
    {
     "data": {
      "text/plain": [
       "'Toy Story'"
      ]
     },
     "execution_count": 376,
     "metadata": {},
     "output_type": "execute_result"
    }
   ],
   "source": [
    "movieList_df['title'][0]"
   ]
  },
  {
   "cell_type": "code",
   "execution_count": 377,
   "metadata": {},
   "outputs": [],
   "source": [
    "#Initialize my ratings\n",
    "my_ratings = np.zeros((movieList_df.shape[0],1))"
   ]
  },
  {
   "cell_type": "code",
   "execution_count": 378,
   "metadata": {},
   "outputs": [],
   "source": [
    "my_ratings[0] = 4\n",
    "my_ratings[97] = 2\n",
    "my_ratings[6] = 3\n",
    "my_ratings[11] = 5\n",
    "my_ratings[53] = 4\n",
    "my_ratings[63] = 5\n",
    "my_ratings[65] = 3\n",
    "my_ratings[68] = 5\n",
    "my_ratings[182] = 4\n",
    "my_ratings[225] = 5\n",
    "my_ratings[354] = 5"
   ]
  },
  {
   "cell_type": "code",
   "execution_count": 379,
   "metadata": {},
   "outputs": [
    {
     "data": {
      "text/plain": [
       "((1682, 944), (1682, 944))"
      ]
     },
     "execution_count": 379,
     "metadata": {},
     "output_type": "execute_result"
    }
   ],
   "source": [
    "#Add my ratings to the data\n",
    "r = np.array([[0 if i == 0 else 1] for i in my_ratings])\n",
    "Y = np.concatenate((Y,my_ratings), axis=1)\n",
    "R = np.concatenate((R,r), axis=1)\n",
    "Y.shape, R.shape"
   ]
  },
  {
   "cell_type": "markdown",
   "metadata": {},
   "source": [
    "## ================== Part 7: Learning Movie Ratings ===================="
   ]
  },
  {
   "cell_type": "code",
   "execution_count": 380,
   "metadata": {},
   "outputs": [
    {
     "data": {
      "text/html": [
       "<div>\n",
       "<style scoped>\n",
       "    .dataframe tbody tr th:only-of-type {\n",
       "        vertical-align: middle;\n",
       "    }\n",
       "\n",
       "    .dataframe tbody tr th {\n",
       "        vertical-align: top;\n",
       "    }\n",
       "\n",
       "    .dataframe thead th {\n",
       "        text-align: right;\n",
       "    }\n",
       "</style>\n",
       "<table border=\"1\" class=\"dataframe\">\n",
       "  <thead>\n",
       "    <tr style=\"text-align: right;\">\n",
       "      <th></th>\n",
       "      <th>0</th>\n",
       "      <th>1</th>\n",
       "      <th>2</th>\n",
       "      <th>3</th>\n",
       "      <th>4</th>\n",
       "      <th>5</th>\n",
       "      <th>6</th>\n",
       "      <th>7</th>\n",
       "      <th>8</th>\n",
       "      <th>9</th>\n",
       "      <th>...</th>\n",
       "      <th>934</th>\n",
       "      <th>935</th>\n",
       "      <th>936</th>\n",
       "      <th>937</th>\n",
       "      <th>938</th>\n",
       "      <th>939</th>\n",
       "      <th>940</th>\n",
       "      <th>941</th>\n",
       "      <th>942</th>\n",
       "      <th>943</th>\n",
       "    </tr>\n",
       "  </thead>\n",
       "  <tbody>\n",
       "    <tr>\n",
       "      <th>0</th>\n",
       "      <td>1.121413</td>\n",
       "      <td>0.121413</td>\n",
       "      <td>0.0</td>\n",
       "      <td>0.0</td>\n",
       "      <td>0.121413</td>\n",
       "      <td>0.121413</td>\n",
       "      <td>0.000000</td>\n",
       "      <td>0.0</td>\n",
       "      <td>0.0</td>\n",
       "      <td>0.121413</td>\n",
       "      <td>...</td>\n",
       "      <td>-0.878587</td>\n",
       "      <td>0.121413</td>\n",
       "      <td>0.0</td>\n",
       "      <td>0.121413</td>\n",
       "      <td>0.0</td>\n",
       "      <td>0.000000</td>\n",
       "      <td>1.121413</td>\n",
       "      <td>0.0</td>\n",
       "      <td>0.000000</td>\n",
       "      <td>0.121413</td>\n",
       "    </tr>\n",
       "    <tr>\n",
       "      <th>1</th>\n",
       "      <td>-0.206107</td>\n",
       "      <td>0.000000</td>\n",
       "      <td>0.0</td>\n",
       "      <td>0.0</td>\n",
       "      <td>-0.206107</td>\n",
       "      <td>0.000000</td>\n",
       "      <td>0.000000</td>\n",
       "      <td>0.0</td>\n",
       "      <td>0.0</td>\n",
       "      <td>0.000000</td>\n",
       "      <td>...</td>\n",
       "      <td>0.000000</td>\n",
       "      <td>0.000000</td>\n",
       "      <td>0.0</td>\n",
       "      <td>0.000000</td>\n",
       "      <td>0.0</td>\n",
       "      <td>0.000000</td>\n",
       "      <td>0.000000</td>\n",
       "      <td>0.0</td>\n",
       "      <td>1.793893</td>\n",
       "      <td>0.000000</td>\n",
       "    </tr>\n",
       "    <tr>\n",
       "      <th>2</th>\n",
       "      <td>0.966667</td>\n",
       "      <td>0.000000</td>\n",
       "      <td>0.0</td>\n",
       "      <td>0.0</td>\n",
       "      <td>0.000000</td>\n",
       "      <td>0.000000</td>\n",
       "      <td>0.000000</td>\n",
       "      <td>0.0</td>\n",
       "      <td>0.0</td>\n",
       "      <td>0.000000</td>\n",
       "      <td>...</td>\n",
       "      <td>0.000000</td>\n",
       "      <td>0.966667</td>\n",
       "      <td>0.0</td>\n",
       "      <td>0.000000</td>\n",
       "      <td>0.0</td>\n",
       "      <td>0.000000</td>\n",
       "      <td>0.000000</td>\n",
       "      <td>0.0</td>\n",
       "      <td>0.000000</td>\n",
       "      <td>0.000000</td>\n",
       "    </tr>\n",
       "    <tr>\n",
       "      <th>3</th>\n",
       "      <td>-0.550239</td>\n",
       "      <td>0.000000</td>\n",
       "      <td>0.0</td>\n",
       "      <td>0.0</td>\n",
       "      <td>0.000000</td>\n",
       "      <td>0.000000</td>\n",
       "      <td>1.449761</td>\n",
       "      <td>0.0</td>\n",
       "      <td>0.0</td>\n",
       "      <td>0.449761</td>\n",
       "      <td>...</td>\n",
       "      <td>0.000000</td>\n",
       "      <td>0.000000</td>\n",
       "      <td>0.0</td>\n",
       "      <td>0.000000</td>\n",
       "      <td>0.0</td>\n",
       "      <td>-1.550239</td>\n",
       "      <td>0.000000</td>\n",
       "      <td>0.0</td>\n",
       "      <td>0.000000</td>\n",
       "      <td>0.000000</td>\n",
       "    </tr>\n",
       "    <tr>\n",
       "      <th>4</th>\n",
       "      <td>-0.302326</td>\n",
       "      <td>0.000000</td>\n",
       "      <td>0.0</td>\n",
       "      <td>0.0</td>\n",
       "      <td>0.000000</td>\n",
       "      <td>0.000000</td>\n",
       "      <td>0.000000</td>\n",
       "      <td>0.0</td>\n",
       "      <td>0.0</td>\n",
       "      <td>0.000000</td>\n",
       "      <td>...</td>\n",
       "      <td>0.000000</td>\n",
       "      <td>0.000000</td>\n",
       "      <td>0.0</td>\n",
       "      <td>0.000000</td>\n",
       "      <td>0.0</td>\n",
       "      <td>0.000000</td>\n",
       "      <td>0.000000</td>\n",
       "      <td>0.0</td>\n",
       "      <td>0.000000</td>\n",
       "      <td>0.000000</td>\n",
       "    </tr>\n",
       "  </tbody>\n",
       "</table>\n",
       "<p>5 rows × 944 columns</p>\n",
       "</div>"
      ],
      "text/plain": [
       "        0         1    2    3         4         5         6    7    8    \\\n",
       "0  1.121413  0.121413  0.0  0.0  0.121413  0.121413  0.000000  0.0  0.0   \n",
       "1 -0.206107  0.000000  0.0  0.0 -0.206107  0.000000  0.000000  0.0  0.0   \n",
       "2  0.966667  0.000000  0.0  0.0  0.000000  0.000000  0.000000  0.0  0.0   \n",
       "3 -0.550239  0.000000  0.0  0.0  0.000000  0.000000  1.449761  0.0  0.0   \n",
       "4 -0.302326  0.000000  0.0  0.0  0.000000  0.000000  0.000000  0.0  0.0   \n",
       "\n",
       "        9    ...       934       935  936       937  938       939       940  \\\n",
       "0  0.121413  ... -0.878587  0.121413  0.0  0.121413  0.0  0.000000  1.121413   \n",
       "1  0.000000  ...  0.000000  0.000000  0.0  0.000000  0.0  0.000000  0.000000   \n",
       "2  0.000000  ...  0.000000  0.966667  0.0  0.000000  0.0  0.000000  0.000000   \n",
       "3  0.449761  ...  0.000000  0.000000  0.0  0.000000  0.0 -1.550239  0.000000   \n",
       "4  0.000000  ...  0.000000  0.000000  0.0  0.000000  0.0  0.000000  0.000000   \n",
       "\n",
       "   941       942       943  \n",
       "0  0.0  0.000000  0.121413  \n",
       "1  0.0  1.793893  0.000000  \n",
       "2  0.0  0.000000  0.000000  \n",
       "3  0.0  0.000000  0.000000  \n",
       "4  0.0  0.000000  0.000000  \n",
       "\n",
       "[5 rows x 944 columns]"
      ]
     },
     "execution_count": 380,
     "metadata": {},
     "output_type": "execute_result"
    }
   ],
   "source": [
    "#Normalize ratings\n",
    "Y_df = pd.DataFrame(np.copy(Y))\n",
    "R_df = pd.DataFrame(R)\n",
    "Ymean = []\n",
    "for row in range(Y_df.shape[0]):\n",
    "    m = Y_df.loc[row][R_df.loc[row] == 1].mean()\n",
    "    Y_df.loc[row][R_df.loc[row] == 1] = Y_df.loc[row][R_df.loc[row] == 1].apply(lambda x: x-m)\n",
    "    Ymean.append(m)\n",
    "Ymean = np.asarray(Ymean)\n",
    "Y_df.head()"
   ]
  },
  {
   "cell_type": "code",
   "execution_count": 381,
   "metadata": {},
   "outputs": [],
   "source": [
    "Ynorm = Y_df.to_numpy()\n",
    "num_users = Ynorm.shape[1];\n",
    "num_movies = Ynorm.shape[0];\n",
    "num_features = 10;"
   ]
  },
  {
   "cell_type": "code",
   "execution_count": 382,
   "metadata": {},
   "outputs": [],
   "source": [
    "#Set Initial Parameters (Theta, X)\n",
    "X = np.random.rand(num_movies,num_features)\n",
    "Theta = np.random.rand(num_users,num_features)\n",
    "Params = np.concatenate((X.flatten(),Theta.flatten()), axis=0)"
   ]
  },
  {
   "cell_type": "code",
   "execution_count": 383,
   "metadata": {},
   "outputs": [
    {
     "name": "stdout",
     "output_type": "stream",
     "text": [
      "Warning: Maximum number of iterations has been exceeded.\n",
      "         Current function value: 38952.129676\n",
      "         Iterations: 100\n",
      "         Function evaluations: 153\n",
      "         Gradient evaluations: 153\n"
     ]
    }
   ],
   "source": [
    "#Train the model\n",
    "l = 10\n",
    "params = fmin_cg(J, Params, Jgrad, args=(Ynorm, R, l, num_movies, num_users, num_features),maxiter=100)"
   ]
  },
  {
   "cell_type": "code",
   "execution_count": 384,
   "metadata": {},
   "outputs": [
    {
     "data": {
      "text/plain": [
       "((1682, 10), (944, 10))"
      ]
     },
     "execution_count": 384,
     "metadata": {},
     "output_type": "execute_result"
    }
   ],
   "source": [
    "Xm = params[:num_movies*num_features].reshape(num_movies,num_features)\n",
    "Thetam = params[num_movies*num_features:].reshape(num_users,num_features)\n",
    "Xm.shape, Thetam.shape"
   ]
  },
  {
   "cell_type": "markdown",
   "metadata": {},
   "source": [
    "## ================== Part 8: Recommendation for you ===================="
   ]
  },
  {
   "cell_type": "code",
   "execution_count": 385,
   "metadata": {},
   "outputs": [
    {
     "data": {
      "text/plain": [
       "((1682,), (1682,))"
      ]
     },
     "execution_count": 385,
     "metadata": {},
     "output_type": "execute_result"
    }
   ],
   "source": [
    "p[:,0].shape, Ymean.shape"
   ]
  },
  {
   "cell_type": "code",
   "execution_count": 386,
   "metadata": {},
   "outputs": [
    {
     "data": {
      "text/plain": [
       "(1682, 944)"
      ]
     },
     "execution_count": 386,
     "metadata": {},
     "output_type": "execute_result"
    }
   ],
   "source": [
    "#Recommendations for all the users\n",
    "p = np.matmul(Xm,Thetam.T)\n",
    "for c in range(p.shape[1]):\n",
    "    p[:,c] = p[:,c]+Ymean\n",
    "p.shape"
   ]
  },
  {
   "cell_type": "code",
   "execution_count": 393,
   "metadata": {},
   "outputs": [
    {
     "data": {
      "text/html": [
       "<div>\n",
       "<style scoped>\n",
       "    .dataframe tbody tr th:only-of-type {\n",
       "        vertical-align: middle;\n",
       "    }\n",
       "\n",
       "    .dataframe tbody tr th {\n",
       "        vertical-align: top;\n",
       "    }\n",
       "\n",
       "    .dataframe thead th {\n",
       "        text-align: right;\n",
       "    }\n",
       "</style>\n",
       "<table border=\"1\" class=\"dataframe\">\n",
       "  <thead>\n",
       "    <tr style=\"text-align: right;\">\n",
       "      <th></th>\n",
       "      <th>prediction</th>\n",
       "      <th>original</th>\n",
       "    </tr>\n",
       "  </thead>\n",
       "  <tbody>\n",
       "    <tr>\n",
       "      <th>1121</th>\n",
       "      <td>5.000001</td>\n",
       "      <td>0.0</td>\n",
       "    </tr>\n",
       "    <tr>\n",
       "      <th>1188</th>\n",
       "      <td>5.000001</td>\n",
       "      <td>0.0</td>\n",
       "    </tr>\n",
       "    <tr>\n",
       "      <th>1598</th>\n",
       "      <td>5.000001</td>\n",
       "      <td>0.0</td>\n",
       "    </tr>\n",
       "    <tr>\n",
       "      <th>1499</th>\n",
       "      <td>5.000000</td>\n",
       "      <td>0.0</td>\n",
       "    </tr>\n",
       "    <tr>\n",
       "      <th>1652</th>\n",
       "      <td>5.000000</td>\n",
       "      <td>0.0</td>\n",
       "    </tr>\n",
       "    <tr>\n",
       "      <th>...</th>\n",
       "      <td>...</td>\n",
       "      <td>...</td>\n",
       "    </tr>\n",
       "    <tr>\n",
       "      <th>857</th>\n",
       "      <td>0.999999</td>\n",
       "      <td>0.0</td>\n",
       "    </tr>\n",
       "    <tr>\n",
       "      <th>783</th>\n",
       "      <td>0.999999</td>\n",
       "      <td>0.0</td>\n",
       "    </tr>\n",
       "    <tr>\n",
       "      <th>436</th>\n",
       "      <td>0.999998</td>\n",
       "      <td>0.0</td>\n",
       "    </tr>\n",
       "    <tr>\n",
       "      <th>438</th>\n",
       "      <td>0.999998</td>\n",
       "      <td>0.0</td>\n",
       "    </tr>\n",
       "    <tr>\n",
       "      <th>313</th>\n",
       "      <td>0.999997</td>\n",
       "      <td>0.0</td>\n",
       "    </tr>\n",
       "  </tbody>\n",
       "</table>\n",
       "<p>1682 rows × 2 columns</p>\n",
       "</div>"
      ],
      "text/plain": [
       "      prediction  original\n",
       "1121    5.000001       0.0\n",
       "1188    5.000001       0.0\n",
       "1598    5.000001       0.0\n",
       "1499    5.000000       0.0\n",
       "1652    5.000000       0.0\n",
       "...          ...       ...\n",
       "857     0.999999       0.0\n",
       "783     0.999999       0.0\n",
       "436     0.999998       0.0\n",
       "438     0.999998       0.0\n",
       "313     0.999997       0.0\n",
       "\n",
       "[1682 rows x 2 columns]"
      ]
     },
     "execution_count": 393,
     "metadata": {},
     "output_type": "execute_result"
    }
   ],
   "source": [
    "#Predictions for last user\n",
    "uid = p.shape[1]-1\n",
    "pred_df = pd.DataFrame(p[:,uid], columns=['prediction'])\n",
    "pred_df['original'] = Y[:,uid]"
   ]
  },
  {
   "cell_type": "code",
   "execution_count": 407,
   "metadata": {},
   "outputs": [
    {
     "name": "stdout",
     "output_type": "stream",
     "text": [
      "Predicted rating for Toy Story is 4.0. Original rating was 4.0\n",
      "Predicted rating for Twelve Monkeys is 3.8. Original rating was 3.0\n",
      "Predicted rating for Usual Suspects, The is 4.4. Original rating was 5.0\n",
      "Predicted rating for Outbreak is 3.4. Original rating was 4.0\n",
      "Predicted rating for Shawshank Redemption, The is 4.5. Original rating was 5.0\n",
      "Predicted rating for While You Were Sleeping is 3.6. Original rating was 3.0\n",
      "Predicted rating for Forrest Gump is 4.1. Original rating was 5.0\n",
      "Predicted rating for Silence of the Lambs, The is 4.2. Original rating was 2.0\n",
      "Predicted rating for Alien is 4.1. Original rating was 4.0\n",
      "Predicted rating for Die Hard 2 is 3.6. Original rating was 5.0\n",
      "Predicted rating for Sphere is 3.1. Original rating was 5.0\n"
     ]
    }
   ],
   "source": [
    "pred_o = pred_df\n",
    "pred_o['title'] = movieList_df['title']\n",
    "for row in pred_o[pred_df['original'] != 0].index:\n",
    "    print(\"Predicted rating for {0} is {1:.1f}. Original rating was {2:.1f}\".format(pred_o['title'][row], pred_o['prediction'][row], pred_o['original'][row]))"
   ]
  },
  {
   "cell_type": "code",
   "execution_count": 411,
   "metadata": {},
   "outputs": [
    {
     "name": "stdout",
     "output_type": "stream",
     "text": [
      "Top recommendations for you:\n",
      "They Made Me a Criminal\n",
      "Prefontaine\n",
      "Someone Else's America\n",
      "Santa with Muscles\n",
      "Entertaining Angels: The Dorothy Day Story\n",
      "Star Kid\n",
      "Marlene Dietrich: Shadow and Light\n",
      "Saint of Fort Washington, The\n",
      "Aiqing wansui\n",
      "Great Day in Harlem, A\n"
     ]
    }
   ],
   "source": [
    "#Top recommendations\n",
    "pred_o.sort_values(by='prediction', ascending=False)\n",
    "print(\"Top recommendations for you:\")\n",
    "for row in pred_o.sort_values(by='prediction', ascending=False)[:10].index:\n",
    "    print(\"{0}\".format(pred_o['title'][row]))"
   ]
  },
  {
   "cell_type": "code",
   "execution_count": 412,
   "metadata": {},
   "outputs": [],
   "source": [
    "#Predictions for user 0\n",
    "uid = 0\n",
    "pred_df = pd.DataFrame(p[:,uid], columns=['prediction'])\n",
    "pred_df['original'] = Y[:,uid]"
   ]
  },
  {
   "cell_type": "code",
   "execution_count": 413,
   "metadata": {},
   "outputs": [
    {
     "name": "stdout",
     "output_type": "stream",
     "text": [
      "Predicted rating for Toy Story is 4.2. Original rating was 5.0\n",
      "Predicted rating for GoldenEye is 3.1. Original rating was 3.0\n",
      "Predicted rating for Four Rooms is 3.1. Original rating was 4.0\n",
      "Predicted rating for Get Shorty is 4.2. Original rating was 3.0\n",
      "Predicted rating for Copycat is 2.7. Original rating was 3.0\n",
      "Predicted rating for Shanghai Triad (Yao a yao yao dao waipo qiao) is 3.9. Original rating was 5.0\n",
      "Predicted rating for Twelve Monkeys is 4.4. Original rating was 4.0\n",
      "Predicted rating for Babe is 4.1. Original rating was 1.0\n",
      "Predicted rating for Dead Man Walking is 4.2. Original rating was 5.0\n",
      "Predicted rating for Richard III is 3.8. Original rating was 3.0\n",
      "Predicted rating for Seven (Se7en) is 3.2. Original rating was 2.0\n",
      "Predicted rating for Usual Suspects, The is 4.8. Original rating was 5.0\n",
      "Predicted rating for Mighty Aphrodite is 4.5. Original rating was 5.0\n",
      "Predicted rating for Postino, Il is 4.4. Original rating was 5.0\n",
      "Predicted rating for Mr. Holland's Opus is 3.1. Original rating was 5.0\n",
      "Predicted rating for French Twist (Gazon maudit) is 3.6. Original rating was 5.0\n",
      "Predicted rating for From Dusk Till Dawn is 2.8. Original rating was 3.0\n",
      "Predicted rating for White Balloon, The is 3.2. Original rating was 4.0\n",
      "Predicted rating for Antonia's Line is 4.2. Original rating was 5.0\n",
      "Predicted rating for Angels and Insects is 4.2. Original rating was 4.0\n",
      "Predicted rating for Muppet Treasure Island is 2.8. Original rating was 1.0\n",
      "Predicted rating for Braveheart is 4.0. Original rating was 4.0\n",
      "Predicted rating for Taxi Driver is 4.6. Original rating was 4.0\n",
      "Predicted rating for Rumble in the Bronx is 3.3. Original rating was 3.0\n",
      "Predicted rating for Birdcage, The is 3.4. Original rating was 4.0\n",
      "Predicted rating for Brothers McMullen, The is 3.4. Original rating was 3.0\n",
      "Predicted rating for Bad Boys is 2.8. Original rating was 2.0\n",
      "Predicted rating for Apollo 13 is 3.9. Original rating was 4.0\n",
      "Predicted rating for Batman Forever is 2.1. Original rating was 1.0\n",
      "Predicted rating for Belle de jour is 3.9. Original rating was 3.0\n",
      "Predicted rating for Crimson Tide is 3.8. Original rating was 3.0\n",
      "Predicted rating for Crumb is 4.1. Original rating was 5.0\n",
      "Predicted rating for Desperado is 3.4. Original rating was 4.0\n",
      "Predicted rating for Doom Generation, The is 2.3. Original rating was 2.0\n",
      "Predicted rating for Free Willy 2: The Adventure Home is 1.7. Original rating was 1.0\n",
      "Predicted rating for Mad Love is 2.1. Original rating was 2.0\n",
      "Predicted rating for Nadja is 2.2. Original rating was 2.0\n",
      "Predicted rating for Net, The is 2.5. Original rating was 3.0\n",
      "Predicted rating for Strange Days is 3.4. Original rating was 4.0\n",
      "Predicted rating for To Wong Foo, Thanks for Everything! Julie Newmar is 2.8. Original rating was 3.0\n",
      "Predicted rating for Billy Madison is 2.9. Original rating was 2.0\n",
      "Predicted rating for Clerks is 3.9. Original rating was 5.0\n",
      "Predicted rating for Disclosure is 3.1. Original rating was 4.0\n",
      "Predicted rating for Dolores Claiborne is 3.4. Original rating was 5.0\n",
      "Predicted rating for Eat Drink Man Woman is 4.5. Original rating was 5.0\n",
      "Predicted rating for Exotica is 3.7. Original rating was 4.0\n",
      "Predicted rating for Ed Wood is 3.5. Original rating was 4.0\n",
      "Predicted rating for Hoop Dreams is 4.6. Original rating was 5.0\n",
      "Predicted rating for I.Q. is 3.4. Original rating was 3.0\n",
      "Predicted rating for Star Wars is 5.7. Original rating was 5.0\n",
      "Predicted rating for Legends of the Fall is 3.5. Original rating was 4.0\n",
      "Predicted rating for Madness of King George, The is 4.1. Original rating was 4.0\n",
      "Predicted rating for Natural Born Killers is 3.2. Original rating was 3.0\n",
      "Predicted rating for Outbreak is 3.2. Original rating was 3.0\n",
      "Predicted rating for Professional, The is 4.0. Original rating was 5.0\n",
      "Predicted rating for Pulp Fiction is 4.5. Original rating was 4.0\n",
      "Predicted rating for Priest is 4.2. Original rating was 5.0\n",
      "Predicted rating for Quiz Show is 4.0. Original rating was 4.0\n",
      "Predicted rating for Three Colors: Red is 4.4. Original rating was 5.0\n",
      "Predicted rating for Three Colors: Blue is 4.6. Original rating was 5.0\n",
      "Predicted rating for Three Colors: White is 4.1. Original rating was 4.0\n",
      "Predicted rating for Stargate is 3.3. Original rating was 3.0\n",
      "Predicted rating for Santa Clause, The is 2.6. Original rating was 2.0\n",
      "Predicted rating for Shawshank Redemption, The is 4.5. Original rating was 5.0\n",
      "Predicted rating for What's Eating Gilbert Grape is 3.5. Original rating was 4.0\n",
      "Predicted rating for While You Were Sleeping is 3.2. Original rating was 4.0\n",
      "Predicted rating for Ace Ventura: Pet Detective is 2.5. Original rating was 3.0\n",
      "Predicted rating for Crow, The is 3.4. Original rating was 4.0\n",
      "Predicted rating for Forrest Gump is 3.6. Original rating was 3.0\n",
      "Predicted rating for Four Weddings and a Funeral is 3.8. Original rating was 3.0\n",
      "Predicted rating for Lion King, The is 3.5. Original rating was 3.0\n",
      "Predicted rating for Mask, The is 3.4. Original rating was 4.0\n",
      "Predicted rating for Maverick is 3.2. Original rating was 3.0\n",
      "Predicted rating for Faster Pussycat! Kill! Kill! is 2.7. Original rating was 1.0\n",
      "Predicted rating for Brother Minister: The Assassination of Malcolm X is 3.1. Original rating was 4.0\n",
      "Predicted rating for Carlito's Way is 3.5. Original rating was 4.0\n",
      "Predicted rating for Firm, The is 3.2. Original rating was 4.0\n",
      "Predicted rating for Free Willy is 1.8. Original rating was 1.0\n",
      "Predicted rating for Fugitive, The is 3.8. Original rating was 4.0\n",
      "Predicted rating for Hot Shots! Part Deux is 2.9. Original rating was 4.0\n",
      "Predicted rating for Hudsucker Proxy, The is 4.3. Original rating was 5.0\n",
      "Predicted rating for Jurassic Park is 3.5. Original rating was 5.0\n",
      "Predicted rating for Much Ado About Nothing is 3.8. Original rating was 3.0\n",
      "Predicted rating for Robert A. Heinlein's The Puppet Masters is 2.9. Original rating was 4.0\n",
      "Predicted rating for Ref, The is 3.2. Original rating was 3.0\n",
      "Predicted rating for Remains of the Day, The is 3.7. Original rating was 5.0\n",
      "Predicted rating for Searching for Bobby Fischer is 4.2. Original rating was 5.0\n",
      "Predicted rating for Sleepless in Seattle is 3.5. Original rating was 4.0\n",
      "Predicted rating for Blade Runner is 5.0. Original rating was 5.0\n",
      "Predicted rating for So I Married an Axe Murderer is 3.3. Original rating was 4.0\n",
      "Predicted rating for Nightmare Before Christmas, The is 3.8. Original rating was 5.0\n",
      "Predicted rating for True Romance is 3.9. Original rating was 3.0\n",
      "Predicted rating for Welcome to the Dollhouse is 3.8. Original rating was 5.0\n",
      "Predicted rating for Home Alone is 2.5. Original rating was 2.0\n",
      "Predicted rating for Aladdin is 3.6. Original rating was 4.0\n",
      "Predicted rating for Terminator 2: Judgment Day is 4.0. Original rating was 5.0\n",
      "Predicted rating for Dances with Wolves is 3.7. Original rating was 3.0\n",
      "Predicted rating for Silence of the Lambs, The is 4.3. Original rating was 4.0\n",
      "Predicted rating for Snow White and the Seven Dwarfs is 3.5. Original rating was 3.0\n",
      "Predicted rating for Fargo is 5.0. Original rating was 5.0\n",
      "Predicted rating for Heavy Metal is 3.3. Original rating was 2.0\n",
      "Predicted rating for Aristocats, The is 3.0. Original rating was 2.0\n",
      "Predicted rating for All Dogs Go to Heaven 2 is 1.7. Original rating was 1.0\n",
      "Predicted rating for Theodore Rex is 1.3. Original rating was 1.0\n",
      "Predicted rating for Sgt. Bilko is 2.5. Original rating was 2.0\n",
      "Predicted rating for Diabolique is 3.1. Original rating was 4.0\n",
      "Predicted rating for Moll Flanders is 3.8. Original rating was 4.0\n",
      "Predicted rating for Kids in the Hall: Brain Candy is 3.7. Original rating was 5.0\n",
      "Predicted rating for Mystery Science Theater 3000: The Movie is 4.1. Original rating was 5.0\n",
      "Predicted rating for Operation Dumbo Drop is 2.2. Original rating was 1.0\n",
      "Predicted rating for Truth About Cats & Dogs, The is 3.6. Original rating was 5.0\n",
      "Predicted rating for Flipper is 1.8. Original rating was 1.0\n",
      "Predicted rating for Horseman on the Roof, The (Hussard sur le toit, Le) is 4.3. Original rating was 5.0\n",
      "Predicted rating for Wallace & Gromit: The Best of Aardman Animation is 4.9. Original rating was 5.0\n",
      "Predicted rating for Haunted World of Edward D. Wood Jr., The is 3.8. Original rating was 5.0\n",
      "Predicted rating for Cold Comfort Farm is 4.5. Original rating was 3.0\n",
      "Predicted rating for Rock, The is 3.3. Original rating was 3.0\n",
      "Predicted rating for Twister is 2.7. Original rating was 3.0\n",
      "Predicted rating for Maya Lin: A Strong Clear Vision is 4.6. Original rating was 5.0\n",
      "Predicted rating for Striptease is 2.0. Original rating was 1.0\n",
      "Predicted rating for Independence Day (ID4) is 3.5. Original rating was 4.0\n",
      "Predicted rating for Cable Guy, The is 2.7. Original rating was 3.0\n",
      "Predicted rating for Frighteners, The is 3.3. Original rating was 4.0\n",
      "Predicted rating for Lone Star is 4.7. Original rating was 5.0\n",
      "Predicted rating for Phenomenon is 3.2. Original rating was 3.0\n",
      "Predicted rating for Spitfire Grill, The is 4.1. Original rating was 2.0\n",
      "Predicted rating for Godfather, The is 4.8. Original rating was 5.0\n",
      "Predicted rating for Supercop is 3.7. Original rating was 4.0\n",
      "Predicted rating for Bound is 3.9. Original rating was 5.0\n",
      "Predicted rating for Kansas City is 2.6. Original rating was 3.0\n",
      "Predicted rating for Breakfast at Tiffany's is 3.6. Original rating was 1.0\n",
      "Predicted rating for Wizard of Oz, The is 4.2. Original rating was 4.0\n",
      "Predicted rating for Gone with the Wind is 3.8. Original rating was 4.0\n",
      "Predicted rating for Citizen Kane is 5.1. Original rating was 4.0\n",
      "Predicted rating for 2001: A Space Odyssey is 4.9. Original rating was 4.0\n",
      "Predicted rating for Mr. Smith Goes to Washington is 4.2. Original rating was 3.0\n",
      "Predicted rating for Big Night is 4.9. Original rating was 5.0\n",
      "Predicted rating for D3: The Mighty Ducks is 1.9. Original rating was 1.0\n",
      "Predicted rating for Love Bug, The is 2.9. Original rating was 3.0\n",
      "Predicted rating for Homeward Bound: The Incredible Journey is 2.2. Original rating was 1.0\n",
      "Predicted rating for 20,000 Leagues Under the Sea is 3.4. Original rating was 3.0\n",
      "Predicted rating for Bedknobs and Broomsticks is 2.8. Original rating was 2.0\n",
      "Predicted rating for Sound of Music, The is 2.5. Original rating was 1.0\n",
      "Predicted rating for Die Hard is 3.7. Original rating was 4.0\n",
      "Predicted rating for Lawnmower Man, The is 2.5. Original rating was 2.0\n",
      "Predicted rating for Unhook the Stars is 2.8. Original rating was 4.0\n",
      "Predicted rating for Long Kiss Goodnight, The is 3.2. Original rating was 3.0\n",
      "Predicted rating for Ghost and the Darkness, The is 2.7. Original rating was 2.0\n",
      "Predicted rating for Jude is 3.1. Original rating was 2.0\n",
      "Predicted rating for Swingers is 4.4. Original rating was 5.0\n",
      "Predicted rating for Willy Wonka and the Chocolate Factory is 3.7. Original rating was 4.0\n",
      "Predicted rating for Sleeper is 4.2. Original rating was 5.0\n",
      "Predicted rating for Fish Called Wanda, A is 4.3. Original rating was 3.0\n",
      "Predicted rating for Monty Python's Life of Brian is 4.7. Original rating was 5.0\n",
      "Predicted rating for Dirty Dancing is 2.0. Original rating was 2.0\n",
      "Predicted rating for Reservoir Dogs is 4.1. Original rating was 4.0\n",
      "Predicted rating for Platoon is 4.1. Original rating was 4.0\n",
      "Predicted rating for Weekend at Bernie's is 2.1. Original rating was 3.0\n",
      "Predicted rating for Basic Instinct is 2.8. Original rating was 3.0\n",
      "Predicted rating for Glengarry Glen Ross is 3.8. Original rating was 4.0\n",
      "Predicted rating for Top Gun is 3.1. Original rating was 4.0\n",
      "Predicted rating for On Golden Pond is 3.3. Original rating was 4.0\n",
      "Predicted rating for Return of the Pink Panther, The is 3.9. Original rating was 4.0\n",
      "Predicted rating for Abyss, The is 3.7. Original rating was 3.0\n",
      "Predicted rating for Jean de Florette is 4.3. Original rating was 5.0\n",
      "Predicted rating for Manon of the Spring (Manon des sources) is 4.5. Original rating was 5.0\n",
      "Predicted rating for Private Benjamin is 2.8. Original rating was 2.0\n",
      "Predicted rating for Monty Python and the Holy Grail is 5.1. Original rating was 5.0\n",
      "Predicted rating for Wrong Trousers, The is 5.1. Original rating was 5.0\n",
      "Predicted rating for Cinema Paradiso is 4.6. Original rating was 5.0\n",
      "Predicted rating for Delicatessen is 4.8. Original rating was 5.0\n",
      "Predicted rating for Empire Strikes Back, The is 5.3. Original rating was 5.0\n",
      "Predicted rating for Princess Bride, The is 4.9. Original rating was 5.0\n",
      "Predicted rating for Raiders of the Lost Ark is 4.9. Original rating was 5.0\n",
      "Predicted rating for Brazil is 4.7. Original rating was 5.0\n",
      "Predicted rating for Aliens is 4.3. Original rating was 5.0\n",
      "Predicted rating for Good, The Bad and The Ugly, The is 4.5. Original rating was 5.0\n",
      "Predicted rating for 12 Angry Men is 4.5. Original rating was 5.0\n",
      "Predicted rating for Clockwork Orange, A is 4.6. Original rating was 3.0\n",
      "Predicted rating for Apocalypse Now is 4.4. Original rating was 3.0\n",
      "Predicted rating for Return of the Jedi is 5.2. Original rating was 5.0\n",
      "Predicted rating for GoodFellas is 4.4. Original rating was 4.0\n",
      "Predicted rating for Alien is 4.7. Original rating was 5.0\n",
      "Predicted rating for Army of Darkness is 3.7. Original rating was 4.0\n",
      "Predicted rating for Psycho is 4.1. Original rating was 4.0\n",
      "Predicted rating for Blues Brothers, The is 4.1. Original rating was 4.0\n",
      "Predicted rating for Godfather: Part II, The is 4.7. Original rating was 4.0\n",
      "Predicted rating for Full Metal Jacket is 3.9. Original rating was 3.0\n",
      "Predicted rating for Grand Day Out, A is 4.2. Original rating was 3.0\n",
      "Predicted rating for Henry V is 4.2. Original rating was 5.0\n",
      "Predicted rating for Amadeus is 4.2. Original rating was 5.0\n",
      "Predicted rating for Raging Bull is 4.3. Original rating was 4.0\n",
      "Predicted rating for Right Stuff, The is 4.2. Original rating was 4.0\n",
      "Predicted rating for Sting, The is 4.5. Original rating was 4.0\n",
      "Predicted rating for Terminator, The is 4.3. Original rating was 5.0\n",
      "Predicted rating for Dead Poets Society is 4.0. Original rating was 5.0\n",
      "Predicted rating for Graduate, The is 4.3. Original rating was 5.0\n",
      "Predicted rating for Nikita (La Femme Nikita) is 4.3. Original rating was 5.0\n",
      "Predicted rating for Bridge on the River Kwai, The is 4.9. Original rating was 4.0\n",
      "Predicted rating for Shining, The is 3.5. Original rating was 3.0\n",
      "Predicted rating for Evil Dead II is 3.4. Original rating was 3.0\n",
      "Predicted rating for Groundhog Day is 4.3. Original rating was 5.0\n",
      "Predicted rating for Unforgiven is 4.0. Original rating was 4.0\n",
      "Predicted rating for Back to the Future is 4.0. Original rating was 5.0\n",
      "Predicted rating for Patton is 3.9. Original rating was 3.0\n",
      "Predicted rating for Akira is 3.7. Original rating was 4.0\n",
      "Predicted rating for Cyrano de Bergerac is 4.1. Original rating was 5.0\n",
      "Predicted rating for Young Frankenstein is 4.3. Original rating was 5.0\n",
      "Predicted rating for This Is Spinal Tap is 4.5. Original rating was 4.0\n",
      "Predicted rating for Indiana Jones and the Last Crusade is 4.0. Original rating was 4.0\n",
      "Predicted rating for M*A*S*H is 4.5. Original rating was 3.0\n",
      "Predicted rating for Unbearable Lightness of Being, The is 3.9. Original rating was 4.0\n",
      "Predicted rating for Room with a View, A is 3.9. Original rating was 2.0\n",
      "Predicted rating for Pink Floyd - The Wall is 4.0. Original rating was 4.0\n",
      "Predicted rating for Field of Dreams is 3.8. Original rating was 3.0\n",
      "Predicted rating for When Harry Met Sally... is 3.7. Original rating was 5.0\n",
      "Predicted rating for Bram Stoker's Dracula is 3.0. Original rating was 3.0\n",
      "Predicted rating for Cape Fear is 2.8. Original rating was 3.0\n",
      "Predicted rating for Nightmare on Elm Street, A is 2.6. Original rating was 1.0\n",
      "Predicted rating for Mirror Has Two Faces, The is 2.9. Original rating was 3.0\n",
      "Predicted rating for Breaking the Waves is 4.0. Original rating was 5.0\n",
      "Predicted rating for Star Trek: First Contact is 4.0. Original rating was 4.0\n",
      "Predicted rating for Sling Blade is 4.6. Original rating was 5.0\n",
      "Predicted rating for Ridicule is 4.2. Original rating was 5.0\n",
      "Predicted rating for 101 Dalmatians is 2.3. Original rating was 2.0\n",
      "Predicted rating for Die Hard 2 is 3.2. Original rating was 3.0\n",
      "Predicted rating for Star Trek VI: The Undiscovered Country is 3.7. Original rating was 4.0\n",
      "Predicted rating for Star Trek: The Wrath of Khan is 4.6. Original rating was 5.0\n",
      "Predicted rating for Star Trek III: The Search for Spock is 3.6. Original rating was 4.0\n",
      "Predicted rating for Star Trek IV: The Voyage Home is 3.8. Original rating was 4.0\n",
      "Predicted rating for Batman Returns is 2.7. Original rating was 1.0\n",
      "Predicted rating for Young Guns is 2.9. Original rating was 3.0\n",
      "Predicted rating for Under Siege is 3.1. Original rating was 2.0\n",
      "Predicted rating for Jaws is 3.7. Original rating was 4.0\n",
      "Predicted rating for Mars Attacks! is 3.3. Original rating was 5.0\n",
      "Predicted rating for Citizen Ruth is 3.6. Original rating was 4.0\n",
      "Predicted rating for Jerry Maguire is 3.4. Original rating was 2.0\n",
      "Predicted rating for Raising Arizona is 4.2. Original rating was 4.0\n",
      "Predicted rating for Sneakers is 3.7. Original rating was 4.0\n",
      "Predicted rating for Beavis and Butt-head Do America is 2.8. Original rating was 3.0\n",
      "Predicted rating for Last of the Mohicans, The is 3.4. Original rating was 4.0\n",
      "Predicted rating for Kolya is 4.0. Original rating was 5.0\n",
      "Predicted rating for Jungle2Jungle is 2.0. Original rating was 1.0\n",
      "Predicted rating for Smilla's Sense of Snow is 3.1. Original rating was 2.0\n",
      "Predicted rating for Devil's Own, The is 2.9. Original rating was 2.0\n",
      "Predicted rating for Chasing Amy is 4.6. Original rating was 5.0\n",
      "Predicted rating for Turbo: A Power Rangers Movie is 1.4. Original rating was 1.0\n",
      "Predicted rating for Grosse Pointe Blank is 4.1. Original rating was 4.0\n",
      "Predicted rating for Austin Powers: International Man of Mystery is 3.3. Original rating was 4.0\n",
      "Predicted rating for Fifth Element, The is 3.8. Original rating was 4.0\n",
      "Predicted rating for Shall We Dance? is 4.4. Original rating was 4.0\n",
      "Predicted rating for Lost World: Jurassic Park, The is 2.7. Original rating was 2.0\n",
      "Predicted rating for Pillow Book, The is 3.9. Original rating was 5.0\n",
      "Predicted rating for Batman & Robin is 2.1. Original rating was 1.0\n",
      "Predicted rating for My Best Friend's Wedding is 2.5. Original rating was 2.0\n",
      "Predicted rating for When the Cats Away (Chacun cherche son chat) is 3.9. Original rating was 4.0\n",
      "Predicted rating for Men in Black is 4.3. Original rating was 4.0\n",
      "Predicted rating for Contact is 4.7. Original rating was 5.0\n",
      "Predicted rating for George of the Jungle is 1.7. Original rating was 1.0\n",
      "Predicted rating for Event Horizon is 2.4. Original rating was 1.0\n",
      "Predicted rating for Air Bud is 2.0. Original rating was 1.0\n",
      "Predicted rating for In the Company of Men is 4.0. Original rating was 3.0\n",
      "Predicted rating for Steel is 2.2. Original rating was 1.0\n",
      "Predicted rating for Mimic is 2.8. Original rating was 2.0\n",
      "Predicted rating for Hunt for Red October, The is 3.7. Original rating was 4.0\n",
      "Predicted rating for Kull the Conqueror is 2.4. Original rating was 1.0\n",
      "Predicted rating for  is 3.6. Original rating was 4.0\n",
      "Predicted rating for Chasing Amy is 4.5. Original rating was 5.0\n",
      "Predicted rating for Full Monty, The is 4.3. Original rating was 5.0\n",
      "Predicted rating for Gattaca is 3.5. Original rating was 5.0\n",
      "Predicted rating for Starship Troopers is 2.8. Original rating was 2.0\n",
      "Predicted rating for Good Will Hunting is 4.1. Original rating was 3.0\n"
     ]
    }
   ],
   "source": [
    "pred_o = pred_df\n",
    "pred_o['title'] = movieList_df['title']\n",
    "for row in pred_o[pred_df['original'] != 0].index:\n",
    "    print(\"Predicted rating for {0} is {1:.1f}. Original rating was {2:.1f}\".format(pred_o['title'][row], pred_o['prediction'][row], pred_o['original'][row]))"
   ]
  },
  {
   "cell_type": "code",
   "execution_count": 414,
   "metadata": {},
   "outputs": [
    {
     "name": "stdout",
     "output_type": "stream",
     "text": [
      "Top recommendations for you:\n",
      "Star Wars\n",
      "Empire Strikes Back, The\n",
      "Return of the Jedi\n",
      "Monty Python and the Holy Grail\n",
      "Lawrence of Arabia\n",
      "Wrong Trousers, The\n",
      "Citizen Kane\n",
      "Fargo\n",
      "They Made Me a Criminal\n",
      "Entertaining Angels: The Dorothy Day Story\n"
     ]
    }
   ],
   "source": [
    "#Top recommendations for user 0\n",
    "pred_o.sort_values(by='prediction', ascending=False)\n",
    "print(\"Top recommendations for you:\")\n",
    "for row in pred_o.sort_values(by='prediction', ascending=False)[:10].index:\n",
    "    print(\"{0}\".format(pred_o['title'][row]))"
   ]
  }
 ],
 "metadata": {
  "kernelspec": {
   "display_name": "Python 3",
   "language": "python",
   "name": "python3"
  },
  "language_info": {
   "codemirror_mode": {
    "name": "ipython",
    "version": 3
   },
   "file_extension": ".py",
   "mimetype": "text/x-python",
   "name": "python",
   "nbconvert_exporter": "python",
   "pygments_lexer": "ipython3",
   "version": "3.8.10"
  }
 },
 "nbformat": 4,
 "nbformat_minor": 4
}
