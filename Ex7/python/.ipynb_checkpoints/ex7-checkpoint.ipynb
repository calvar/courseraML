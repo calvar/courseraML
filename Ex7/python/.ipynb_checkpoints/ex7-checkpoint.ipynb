{
 "cells": [
  {
   "cell_type": "markdown",
   "metadata": {},
   "source": [
    "# Machine Learning Online Class Exercise 7 | Principle Component Analysis and K-Means Clustering"
   ]
  },
  {
   "cell_type": "code",
   "execution_count": 1,
   "metadata": {},
   "outputs": [],
   "source": [
    "import numpy as np\n",
    "import pandas as pd\n",
    "from scipy.io import loadmat\n",
    "import matplotlib.pyplot as plt\n",
    "import seaborn as sns\n",
    "\n",
    "sns.set(font_scale=1.3)"
   ]
  },
  {
   "cell_type": "markdown",
   "metadata": {},
   "source": [
    "## K-means clustering\n",
    "The goal of the k-means clustering is quite simple: Given a set of points $x_i\\in\\mathbb{R}^d$ $i=1,\\dots,m$, find the cluster centroids $\\mu_k\\in\\mathbb{R}^d$ $k=1,\\dots,K$, such that\n",
    "$$J(\\mu)=\\frac{1}{m}\\sum_{i=1}^m|x_i-\\mu_{c(i)}|^2,$$\n",
    "is minimum, where $c(i)$ denotes the cluster where $x_i$ belongs.<br> \n",
    "<br>\n",
    "The algorithm used to achieve approximately this goal is the following:\n",
    "1. Initialize the centroids of the $K$ clusters.\n",
    "2. Set the cluster belonging index $c(i)=k$ for every $x_i$ by asignning each point to the cluster $k$ which is closest to it. That it the one that minimizes $|x_i-\\mu_k|$.\n",
    "3. Move each cluster $\\mu_k$ to the mean position of all the $x_i$ such that $c(i)=k$. \n",
    "4. If $\\mu_k=\\mu_{c(i)}$ for all clusters stop. Else go to 2.\n",
    "\n",
    "Note that this algorithm does not assure that the global minimum of $J$ is reached, as it can get stuck into a local minumum. "
   ]
  },
  {
   "cell_type": "markdown",
   "metadata": {},
   "source": [
    "## ================= Part 1: Find Closest Centroids ===================="
   ]
  },
  {
   "cell_type": "code",
   "execution_count": 3,
   "metadata": {},
   "outputs": [
    {
     "data": {
      "text/plain": [
       "(300, 2)"
      ]
     },
     "execution_count": 3,
     "metadata": {},
     "output_type": "execute_result"
    }
   ],
   "source": [
    "data = loadmat(\"ex7data2.mat\")\n",
    "X = data['X']\n",
    "X.shape"
   ]
  },
  {
   "cell_type": "code",
   "execution_count": 4,
   "metadata": {},
   "outputs": [],
   "source": [
    "# Select an initial set of centroids\n",
    "ini_centroids = np.array([[3,3],[6,2],[8,5]])"
   ]
  },
  {
   "cell_type": "code",
   "execution_count": 5,
   "metadata": {},
   "outputs": [],
   "source": [
    "# Find the closest centroid to each sample\n",
    "def findClosestCentroids(X, centroids):\n",
    "    idx = [-1 for i in range(X.shape[0])]\n",
    "    for i in range(X.shape[0]):\n",
    "        md = 1.e8\n",
    "        for j in range(centroids.shape[0]):\n",
    "            d = np.linalg.norm(X[i]-centroids[j])\n",
    "            if d < md:\n",
    "                md = d\n",
    "                idx[i] = j\n",
    "    return idx\n"
   ]
  },
  {
   "cell_type": "code",
   "execution_count": 7,
   "metadata": {},
   "outputs": [],
   "source": [
    "idx = findClosestCentroids(X, ini_centroids)"
   ]
  },
  {
   "cell_type": "code",
   "execution_count": 9,
   "metadata": {},
   "outputs": [
    {
     "name": "stdout",
     "output_type": "stream",
     "text": [
      "Closest centroids for the first 3 examples: \n",
      "[0, 2, 1]\n",
      "(the closest centroids should be 0, 2, 1 respectively)\n"
     ]
    }
   ],
   "source": [
    "print(\"Closest centroids for the first 3 examples: \")\n",
    "print(idx[:3])\n",
    "print(\"(the closest centroids should be 0, 2, 1 respectively)\")"
   ]
  },
  {
   "cell_type": "markdown",
   "metadata": {},
   "source": [
    "## ===================== Part 2: Compute Means ========================="
   ]
  },
  {
   "cell_type": "code",
   "execution_count": 29,
   "metadata": {},
   "outputs": [],
   "source": [
    "#Compute means based on the closest centroids\n",
    "def computeCentroids(X, idx, K):\n",
    "    centroids = np.array([[0.0,0.0] for j in range(K)])\n",
    "    for i in range(K):\n",
    "        ind = [x==i for x in idx]\n",
    "        XX = X[ind]\n",
    "        centroids[i][0] = np.mean(XX[:,0])\n",
    "        centroids[i][1] = np.mean(XX[:,1])\n",
    "    return centroids"
   ]
  },
  {
   "cell_type": "code",
   "execution_count": 30,
   "metadata": {},
   "outputs": [
    {
     "data": {
      "text/plain": [
       "array([[2.42830111, 3.15792418],\n",
       "       [5.81350331, 2.63365645],\n",
       "       [7.11938687, 3.6166844 ]])"
      ]
     },
     "execution_count": 30,
     "metadata": {},
     "output_type": "execute_result"
    }
   ],
   "source": [
    "centroids = computeCentroids(X, idx, ini_centroids.shape[0])"
   ]
  },
  {
   "cell_type": "code",
   "execution_count": 31,
   "metadata": {},
   "outputs": [
    {
     "name": "stdout",
     "output_type": "stream",
     "text": [
      "Centroids computed after initial finding of closest centroids: \n",
      "[[2.42830111 3.15792418]\n",
      " [5.81350331 2.63365645]\n",
      " [7.11938687 3.6166844 ]]\n",
      "the centroids should be\n",
      "[ 2.428301 3.157924 ]\n",
      "[ 5.813503 2.633656 ]\n",
      "[ 7.119387 3.616684 ]\n",
      "\n"
     ]
    }
   ],
   "source": [
    "print(\"Centroids computed after initial finding of closest centroids: \")\n",
    "print(centroids)\n",
    "print(\"the centroids should be\")\n",
    "print(\"[ 2.428301 3.157924 ]\\n[ 5.813503 2.633656 ]\\n[ 7.119387 3.616684 ]\\n\")"
   ]
  },
  {
   "cell_type": "markdown",
   "metadata": {},
   "source": [
    "## =================== Part 3: K-Means Clustering ======================"
   ]
  },
  {
   "cell_type": "code",
   "execution_count": null,
   "metadata": {},
   "outputs": [],
   "source": []
  }
 ],
 "metadata": {
  "kernelspec": {
   "display_name": "Python 3",
   "language": "python",
   "name": "python3"
  },
  "language_info": {
   "codemirror_mode": {
    "name": "ipython",
    "version": 3
   },
   "file_extension": ".py",
   "mimetype": "text/x-python",
   "name": "python",
   "nbconvert_exporter": "python",
   "pygments_lexer": "ipython3",
   "version": "3.8.10"
  }
 },
 "nbformat": 4,
 "nbformat_minor": 4
}
