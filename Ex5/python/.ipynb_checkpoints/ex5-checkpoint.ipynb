{
 "cells": [
  {
   "cell_type": "markdown",
   "metadata": {},
   "source": [
    "# Machine Learning Online Class Exercise 5 | Regularized Linear Regression and Bias-Variance"
   ]
  },
  {
   "cell_type": "code",
   "execution_count": 373,
   "metadata": {},
   "outputs": [],
   "source": [
    "import numpy as np\n",
    "import pandas as pd\n",
    "from scipy.optimize import fmin_cg\n",
    "from scipy.io import loadmat\n",
    "import matplotlib.pyplot as plt\n",
    "import seaborn as sns\n",
    "\n",
    "sns.set(font_scale=1.3)"
   ]
  },
  {
   "cell_type": "markdown",
   "metadata": {},
   "source": [
    "## =========== Part 1: Loading and Visualizing Data ============="
   ]
  },
  {
   "cell_type": "code",
   "execution_count": 374,
   "metadata": {},
   "outputs": [
    {
     "data": {
      "text/plain": [
       "(54, 3)"
      ]
     },
     "execution_count": 374,
     "metadata": {},
     "output_type": "execute_result"
    }
   ],
   "source": [
    "#X: Change in water level\n",
    "#y: Water flowing out of the dam\n",
    "data = loadmat(\"ex5data1.mat\")\n",
    "X = data['X']\n",
    "y = data['y']\n",
    "Xtest = data['Xtest']\n",
    "ytest = data['ytest']\n",
    "Xval = data['Xval']\n",
    "yval = data['yval']\n",
    "#print(X.shape,y.shape,Xtest.shape,ytest.shape,Xval.shape,yval.shape)\n",
    "trcol = np.array([['train'] for i in range(y.shape[0])])\n",
    "train_d = np.concatenate((X,y,trcol),axis=1)\n",
    "tecol = np.array([['test'] for i in range(ytest.shape[0])])\n",
    "test_d = np.concatenate((Xtest,ytest,tecol),axis=1)\n",
    "vacol = np.array([['val'] for i in range(yval.shape[0])])\n",
    "val_d = np.concatenate((Xval,yval,vacol),axis=1)\n",
    "tot_d = np.concatenate((train_d,test_d,val_d),axis=0)\n",
    "tot_d.shape"
   ]
  },
  {
   "cell_type": "code",
   "execution_count": 375,
   "metadata": {},
   "outputs": [
    {
     "data": {
      "text/html": [
       "<div>\n",
       "<style scoped>\n",
       "    .dataframe tbody tr th:only-of-type {\n",
       "        vertical-align: middle;\n",
       "    }\n",
       "\n",
       "    .dataframe tbody tr th {\n",
       "        vertical-align: top;\n",
       "    }\n",
       "\n",
       "    .dataframe thead th {\n",
       "        text-align: right;\n",
       "    }\n",
       "</style>\n",
       "<table border=\"1\" class=\"dataframe\">\n",
       "  <thead>\n",
       "    <tr style=\"text-align: right;\">\n",
       "      <th></th>\n",
       "      <th>X</th>\n",
       "      <th>y</th>\n",
       "      <th>type</th>\n",
       "    </tr>\n",
       "  </thead>\n",
       "  <tbody>\n",
       "    <tr>\n",
       "      <th>0</th>\n",
       "      <td>-15.936758</td>\n",
       "      <td>2.134311</td>\n",
       "      <td>train</td>\n",
       "    </tr>\n",
       "    <tr>\n",
       "      <th>1</th>\n",
       "      <td>-29.152979</td>\n",
       "      <td>1.173257</td>\n",
       "      <td>train</td>\n",
       "    </tr>\n",
       "    <tr>\n",
       "      <th>2</th>\n",
       "      <td>36.189549</td>\n",
       "      <td>34.359109</td>\n",
       "      <td>train</td>\n",
       "    </tr>\n",
       "    <tr>\n",
       "      <th>3</th>\n",
       "      <td>37.492187</td>\n",
       "      <td>36.837955</td>\n",
       "      <td>train</td>\n",
       "    </tr>\n",
       "    <tr>\n",
       "      <th>4</th>\n",
       "      <td>-48.058829</td>\n",
       "      <td>2.808965</td>\n",
       "      <td>train</td>\n",
       "    </tr>\n",
       "  </tbody>\n",
       "</table>\n",
       "</div>"
      ],
      "text/plain": [
       "           X          y   type\n",
       "0 -15.936758   2.134311  train\n",
       "1 -29.152979   1.173257  train\n",
       "2  36.189549  34.359109  train\n",
       "3  37.492187  36.837955  train\n",
       "4 -48.058829   2.808965  train"
      ]
     },
     "execution_count": 375,
     "metadata": {},
     "output_type": "execute_result"
    }
   ],
   "source": [
    "data_df = pd.DataFrame(data=tot_d, index=None, columns=['X','y','type'])\n",
    "data_df['X'] = data_df['X'].astype(float)\n",
    "data_df['y'] = data_df['y'].astype(float)\n",
    "data_df.head()"
   ]
  },
  {
   "cell_type": "code",
   "execution_count": 376,
   "metadata": {},
   "outputs": [
    {
     "data": {
      "text/plain": [
       "Text(0, 0.5, 'Water flowing out')"
      ]
     },
     "execution_count": 376,
     "metadata": {},
     "output_type": "execute_result"
    },
    {
     "data": {
      "image/png": "[encoded data removed]",
      "text/plain": [
       "<Figure size 432x432 with 1 Axes>"
      ]
     },
     "metadata": {},
     "output_type": "display_data"
    }
   ],
   "source": [
    "fig0, ax = plt.subplots(figsize=(6, 6))\n",
    "sns.scatterplot(data=data_df, ax=ax, x='X', y='y', hue='type').set(title='data')\n",
    "ax.set_xlabel(\"Change in water level\")\n",
    "ax.set_ylabel(\"Water flowing out\")"
   ]
  },
  {
   "cell_type": "markdown",
   "metadata": {},
   "source": [
    "## =========== Part 2: Regularized Linear Regression Cost ============="
   ]
  },
  {
   "cell_type": "code",
   "execution_count": 377,
   "metadata": {},
   "outputs": [
    {
     "data": {
      "text/plain": [
       "((12, 2), (21, 2), (21, 2))"
      ]
     },
     "execution_count": 377,
     "metadata": {},
     "output_type": "execute_result"
    }
   ],
   "source": [
    "# Add bias column to X\n",
    "X = np.insert(X, 0, np.ones(X.shape[0]), axis=1)\n",
    "Xtest = np.insert(Xtest, 0, np.ones(Xtest.shape[0]), axis=1)\n",
    "Xval = np.insert(Xval, 0, np.ones(Xval.shape[0]), axis=1)\n",
    "X.shape,Xtest.shape,Xval.shape"
   ]
  },
  {
   "cell_type": "markdown",
   "metadata": {},
   "source": [
    "The regularized cost function for the regression of the m training examples is\n",
    "\\begin{align}\n",
    "J(\\vec{\\theta})=&\\frac{1}{2m}\\sum_{\\alpha=1}^m\\left(y_{\\alpha}-\\sum_{i=1}^n\\theta_ix_{i,\\alpha}\\right)^2+\\frac{\\lambda}{2m}\\sum_{i>0}^n\\theta_i^2\\\\\n",
    "=&\\frac{1}{2m}\\sum_{\\alpha=1}^m\\left(y_{\\alpha}- \\vec{x}_{\\alpha}\\cdot\\vec{\\theta}\\right)^2+\\frac{\\lambda}{2m}\\sum_{i>0}^n\\theta_i^2.\n",
    "\\end{align}"
   ]
  },
  {
   "cell_type": "code",
   "execution_count": 378,
   "metadata": {},
   "outputs": [],
   "source": [
    "#Cost funtion J\n",
    "def J(params, X, y, l):\n",
    "    theta = params.reshape(X.shape[1],1)\n",
    "    m = len(y)\n",
    "    v1 = y-np.matmul(X,theta)\n",
    "    R = l*(theta[1:]**2).sum()\n",
    "    return (np.matmul(v1.T,v1)[0][0] + R)/(2*m)"
   ]
  },
  {
   "cell_type": "code",
   "execution_count": 379,
   "metadata": {},
   "outputs": [
    {
     "name": "stdout",
     "output_type": "stream",
     "text": [
      "Cost at theta = (1,1): 303.9931922202643\n",
      "(This value should be about 303.993192)\n"
     ]
    }
   ],
   "source": [
    "l = 1\n",
    "theta = np.array([1,1])\n",
    "Jval = J(theta, X, y, l)\n",
    "print(\"Cost at theta = (1,1): {0}\".format(Jval))\n",
    "print(\"(This value should be about 303.993192)\")"
   ]
  },
  {
   "cell_type": "markdown",
   "metadata": {},
   "source": [
    "## =========== Part 3: Regularized Linear Regression Gradient ============="
   ]
  },
  {
   "cell_type": "markdown",
   "metadata": {},
   "source": [
    "The gradient is\n",
    "\\begin{align}\n",
    "\\frac{\\partial J}{\\partial\\theta_k}=&-\\frac{1}{m}\\sum_{ \\alpha=1}^m\\left(y_{\\alpha}-\\vec{x}_{\\alpha}\\cdot\\vec{\\theta}\\right)x_{k,\\alpha}+\\frac{\\lambda}{m}\\theta_k(1-\\delta_{k0}).\n",
    "\\end{align}"
   ]
  },
  {
   "cell_type": "code",
   "execution_count": 380,
   "metadata": {},
   "outputs": [],
   "source": [
    "#Gradient of J\n",
    "def grad_J(params, X, y, l):\n",
    "    theta = params.reshape(X.shape[1],1)\n",
    "    m = len(y)\n",
    "    v1 = y-np.matmul(X,theta)\n",
    "    grad = []\n",
    "    for k in range(X.shape[1]):\n",
    "        tcol = X[:,k] #k column as 1d array (row vector)\n",
    "        R = l * (theta[k] if k > 0 else 0)\n",
    "        grad.append(np.matmul(tcol,v1) + R)\n",
    "    return -np.asarray(grad).flatten()/m"
   ]
  },
  {
   "cell_type": "code",
   "execution_count": 381,
   "metadata": {},
   "outputs": [
    {
     "name": "stdout",
     "output_type": "stream",
     "text": [
      "(2,)\n",
      "Gradient at theta = (1,1):\n",
      " [-15.30301567 598.08407751]\n",
      "(this value should be about [-15.303016; 598.250744])\n"
     ]
    }
   ],
   "source": [
    "gr = grad_J(theta, X, y, l)\n",
    "print(gr.shape)\n",
    "print(\"Gradient at theta = (1,1):\\n\",gr)\n",
    "print(\"(this value should be about [-15.303016; 598.250744])\")"
   ]
  },
  {
   "cell_type": "markdown",
   "metadata": {},
   "source": [
    "## =========== Part 4: Train Linear Regression ============="
   ]
  },
  {
   "cell_type": "code",
   "execution_count": 382,
   "metadata": {},
   "outputs": [],
   "source": [
    "def trainReg(X,y,l):\n",
    "    ini_theta = np.zeros((X.shape[1],1))\n",
    "    theta = fmin_cg(J, ini_theta, grad_J, args=(X,y,l))\n",
    "    return theta"
   ]
  },
  {
   "cell_type": "code",
   "execution_count": 383,
   "metadata": {},
   "outputs": [
    {
     "name": "stdout",
     "output_type": "stream",
     "text": [
      "Optimization terminated successfully.\n",
      "         Current function value: 22.373906\n",
      "         Iterations: 2\n",
      "         Function evaluations: 5\n",
      "         Gradient evaluations: 5\n"
     ]
    }
   ],
   "source": [
    "l = 0\n",
    "fin_theta = trainReg(X,y,l)"
   ]
  },
  {
   "cell_type": "code",
   "execution_count": 384,
   "metadata": {},
   "outputs": [],
   "source": [
    "def fit_line(theta, N, xmin, xmax):\n",
    "    line = []\n",
    "    dx = (xmax-xmin) / N\n",
    "    for i in np.arange(xmin,xmax+dx,dx):\n",
    "        y = np.sum([(i**j)*theta[j] for j in range(len(theta))])\n",
    "        line.append([i,y])\n",
    "    return pd.DataFrame(line, columns=['x', 'y'])"
   ]
  },
  {
   "cell_type": "code",
   "execution_count": 385,
   "metadata": {},
   "outputs": [],
   "source": [
    "fl = fit_line(fin_theta, 5, -50, 40)"
   ]
  },
  {
   "cell_type": "code",
   "execution_count": 386,
   "metadata": {},
   "outputs": [
    {
     "data": {
      "text/plain": [
       "Text(0, 0.5, 'Water flowing out')"
      ]
     },
     "execution_count": 386,
     "metadata": {},
     "output_type": "execute_result"
    },
    {
     "data": {
      "image/png": "[encoded data removed]",
      "text/plain": [
       "<Figure size 432x432 with 1 Axes>"
      ]
     },
     "metadata": {},
     "output_type": "display_data"
    }
   ],
   "source": [
    "fig1, ax = plt.subplots(figsize=(6, 6))\n",
    "train_df = data_df[data_df['type']=='train'] \n",
    "sns.scatterplot(data=train_df, ax=ax, x='X', y='y').set(title='data')\n",
    "sns.lineplot(data=fl, ax=ax, x='x', y='y', color='k')\n",
    "ax.set_xlabel(\"Change in water level\")\n",
    "ax.set_ylabel(\"Water flowing out\")"
   ]
  },
  {
   "cell_type": "markdown",
   "metadata": {},
   "source": [
    "This is a model with high bias (underfitting)."
   ]
  },
  {
   "cell_type": "markdown",
   "metadata": {},
   "source": [
    "## =========== Part 5: Learning Curve for Linear Regression ============="
   ]
  },
  {
   "cell_type": "code",
   "execution_count": 409,
   "metadata": {},
   "outputs": [],
   "source": [
    "#Learning curve: error as a function of the training set size\n",
    "def sizeLearningCurve(X, y, Xval, yval, l):\n",
    "    err = []\n",
    "    m = len(y)\n",
    "    for sz in range(1,m+1):\n",
    "        theta = trainReg(X[:sz,:],y[:sz,:],l)\n",
    "        errT = J(theta, X[:sz,:], y[:sz,:], l)\n",
    "        err.append([sz,errT,'train'])\n",
    "        errV = J(theta, Xval, yval, l)\n",
    "        err.append([sz,errV,'val'])\n",
    "    return pd.DataFrame(err, columns=['size','error','type'])"
   ]
  },
  {
   "cell_type": "code",
   "execution_count": 410,
   "metadata": {},
   "outputs": [
    {
     "name": "stdout",
     "output_type": "stream",
     "text": [
      "Optimization terminated successfully.\n",
      "         Current function value: 0.000000\n",
      "         Iterations: 1\n",
      "         Function evaluations: 3\n",
      "         Gradient evaluations: 3\n",
      "Optimization terminated successfully.\n",
      "         Current function value: 0.000000\n",
      "         Iterations: 2\n",
      "         Function evaluations: 6\n",
      "         Gradient evaluations: 6\n",
      "Optimization terminated successfully.\n",
      "         Current function value: 3.286595\n",
      "         Iterations: 9\n",
      "         Function evaluations: 15\n",
      "         Gradient evaluations: 15\n",
      "Optimization terminated successfully.\n",
      "         Current function value: 2.842678\n",
      "         Iterations: 8\n",
      "         Function evaluations: 14\n",
      "         Gradient evaluations: 14\n",
      "Optimization terminated successfully.\n",
      "         Current function value: 13.154049\n",
      "         Iterations: 22\n",
      "         Function evaluations: 34\n",
      "         Gradient evaluations: 34\n",
      "Optimization terminated successfully.\n",
      "         Current function value: 19.443963\n",
      "         Iterations: 22\n",
      "         Function evaluations: 34\n",
      "         Gradient evaluations: 34\n",
      "Optimization terminated successfully.\n",
      "         Current function value: 20.098522\n",
      "         Iterations: 18\n",
      "         Function evaluations: 28\n",
      "         Gradient evaluations: 28\n",
      "Optimization terminated successfully.\n",
      "         Current function value: 18.172859\n",
      "         Iterations: 2\n",
      "         Function evaluations: 5\n",
      "         Gradient evaluations: 5\n",
      "Optimization terminated successfully.\n",
      "         Current function value: 22.609405\n",
      "         Iterations: 2\n",
      "         Function evaluations: 5\n",
      "         Gradient evaluations: 5\n",
      "Optimization terminated successfully.\n",
      "         Current function value: 23.261462\n",
      "         Iterations: 2\n",
      "         Function evaluations: 5\n",
      "         Gradient evaluations: 5\n",
      "Optimization terminated successfully.\n",
      "         Current function value: 24.317250\n",
      "         Iterations: 2\n",
      "         Function evaluations: 5\n",
      "         Gradient evaluations: 5\n",
      "Optimization terminated successfully.\n",
      "         Current function value: 22.373906\n",
      "         Iterations: 2\n",
      "         Function evaluations: 5\n",
      "         Gradient evaluations: 5\n"
     ]
    },
    {
     "data": {
      "text/html": [
       "<div>\n",
       "<style scoped>\n",
       "    .dataframe tbody tr th:only-of-type {\n",
       "        vertical-align: middle;\n",
       "    }\n",
       "\n",
       "    .dataframe tbody tr th {\n",
       "        vertical-align: top;\n",
       "    }\n",
       "\n",
       "    .dataframe thead th {\n",
       "        text-align: right;\n",
       "    }\n",
       "</style>\n",
       "<table border=\"1\" class=\"dataframe\">\n",
       "  <thead>\n",
       "    <tr style=\"text-align: right;\">\n",
       "      <th></th>\n",
       "      <th>size</th>\n",
       "      <th>error</th>\n",
       "      <th>type</th>\n",
       "    </tr>\n",
       "  </thead>\n",
       "  <tbody>\n",
       "    <tr>\n",
       "      <th>0</th>\n",
       "      <td>1</td>\n",
       "      <td>3.944305e-31</td>\n",
       "      <td>train</td>\n",
       "    </tr>\n",
       "    <tr>\n",
       "      <th>1</th>\n",
       "      <td>1</td>\n",
       "      <td>2.051211e+02</td>\n",
       "      <td>val</td>\n",
       "    </tr>\n",
       "    <tr>\n",
       "      <th>2</th>\n",
       "      <td>2</td>\n",
       "      <td>2.859621e-30</td>\n",
       "      <td>train</td>\n",
       "    </tr>\n",
       "    <tr>\n",
       "      <th>3</th>\n",
       "      <td>2</td>\n",
       "      <td>1.103004e+02</td>\n",
       "      <td>val</td>\n",
       "    </tr>\n",
       "    <tr>\n",
       "      <th>4</th>\n",
       "      <td>3</td>\n",
       "      <td>3.286595e+00</td>\n",
       "      <td>train</td>\n",
       "    </tr>\n",
       "  </tbody>\n",
       "</table>\n",
       "</div>"
      ],
      "text/plain": [
       "   size         error   type\n",
       "0     1  3.944305e-31  train\n",
       "1     1  2.051211e+02    val\n",
       "2     2  2.859621e-30  train\n",
       "3     2  1.103004e+02    val\n",
       "4     3  3.286595e+00  train"
      ]
     },
     "execution_count": 410,
     "metadata": {},
     "output_type": "execute_result"
    }
   ],
   "source": [
    "l = 0\n",
    "lc_df = sizeLearningCurve(X, y, Xval, yval, l)\n",
    "lc_df.head()"
   ]
  },
  {
   "cell_type": "code",
   "execution_count": 389,
   "metadata": {},
   "outputs": [
    {
     "data": {
      "text/plain": [
       "Text(0.5, 0, 'training size')"
      ]
     },
     "execution_count": 389,
     "metadata": {},
     "output_type": "execute_result"
    },
    {
     "data": {
      "image/png": "[encoded data removed]",
      "text/plain": [
       "<Figure size 432x432 with 1 Axes>"
      ]
     },
     "metadata": {},
     "output_type": "display_data"
    }
   ],
   "source": [
    "fig2, ax = plt.subplots(figsize=(6, 6))\n",
    "sns.lineplot(data=lc_df, ax=ax, x='size', y='error', hue='type')\n",
    "ax.set_xlabel('training size')"
   ]
  },
  {
   "cell_type": "markdown",
   "metadata": {},
   "source": [
    "It is observed that at large size the error is still fairly large ($\\sim 25$) and the gap between the errors in the training and validation set is small. This happens because the model is too simple (high bias), and even if it hass a lot of data it cannot describe well any data set."
   ]
  },
  {
   "cell_type": "markdown",
   "metadata": {},
   "source": [
    "## =========== Part 6: Feature Mapping for Polynomial Regression ============="
   ]
  },
  {
   "cell_type": "code",
   "execution_count": 390,
   "metadata": {},
   "outputs": [],
   "source": [
    "#Generate polynomial features\n",
    "def polyFeatures(X, degree):\n",
    "    df = pd.DataFrame(X, columns=['1','x'])\n",
    "    for i in range(2,degree+1):\n",
    "        tag = 'x^{0}'.format(i)\n",
    "        df[tag] = df['x']**i\n",
    "    #display(df.head())\n",
    "    return df.to_numpy()\n",
    "    \n",
    "#Normalize features\n",
    "def featureNormalize(X):\n",
    "    Xn = np.copy(X)\n",
    "    mu = [1.0]\n",
    "    sig = [0.0]\n",
    "    for c in range(1,Xn.shape[1]):\n",
    "        av = np.mean(Xn[:,c])\n",
    "        dev = np.std(Xn[:,c])\n",
    "        Xn[:,c] = Xn[:,c]-av\n",
    "        Xn[:,c] = Xn[:,c]/dev\n",
    "        mu.append(av)\n",
    "        sig.append(dev)\n",
    "    return Xn, mu, sig\n",
    "\n",
    "#Normalize features with external parameters\n",
    "def featureNormalizeOther(X, mu, sigma):\n",
    "    Xn = np.copy(X)\n",
    "    for c in range(1,Xn.shape[1]):\n",
    "        Xn[:,c] = Xn[:,c]-mu[c]\n",
    "        Xn[:,c] = Xn[:,c]/sigma[c]\n",
    "    return Xn"
   ]
  },
  {
   "cell_type": "code",
   "execution_count": 391,
   "metadata": {},
   "outputs": [
    {
     "data": {
      "text/plain": [
       "(12, 9)"
      ]
     },
     "execution_count": 391,
     "metadata": {},
     "output_type": "execute_result"
    }
   ],
   "source": [
    "#Add polynomial features and normalize training set\n",
    "deg = 8\n",
    "Xpoly = polyFeatures(X, deg)\n",
    "Xpoly_norm, mu, sigma = featureNormalize(Xpoly)\n",
    "Xpoly_norm.shape"
   ]
  },
  {
   "cell_type": "code",
   "execution_count": 392,
   "metadata": {},
   "outputs": [
    {
     "data": {
      "text/plain": [
       "(21, 9)"
      ]
     },
     "execution_count": 392,
     "metadata": {},
     "output_type": "execute_result"
    }
   ],
   "source": [
    "#Add poly features and normalize the validation set with the training prameters\n",
    "Xvalpoly = polyFeatures(Xval, deg)\n",
    "Xvalpoly_norm = featureNormalizeOther(Xvalpoly, mu, sigma)\n",
    "Xvalpoly_norm.shape"
   ]
  },
  {
   "cell_type": "code",
   "execution_count": 393,
   "metadata": {},
   "outputs": [
    {
     "name": "stdout",
     "output_type": "stream",
     "text": [
      "Optimization terminated successfully.\n",
      "         Current function value: 0.028891\n",
      "         Iterations: 656\n",
      "         Function evaluations: 1268\n",
      "         Gradient evaluations: 1268\n"
     ]
    }
   ],
   "source": [
    "#Train model\n",
    "l = 0\n",
    "fin_theta_norm = trainReg(Xpoly_norm,y,l)"
   ]
  },
  {
   "cell_type": "code",
   "execution_count": 394,
   "metadata": {},
   "outputs": [],
   "source": [
    "def fit_norm_line(theta, N, xmin, xmax, mu, sigma):\n",
    "    line = []\n",
    "    dx = (xmax-xmin) / N\n",
    "    for i in np.arange(xmin,xmax+dx,dx): \n",
    "        #Normalize features\n",
    "        x = [(i**j-mu[j])/sigma[j] for j in range(1,len(theta))]\n",
    "        x.insert(0,1.0)\n",
    "        #Compute value\n",
    "        y = np.sum([x[j]*theta[j] for j in range(len(theta))])\n",
    "        line.append([i,y])\n",
    "    return pd.DataFrame(line, columns=['x', 'y'])"
   ]
  },
  {
   "cell_type": "code",
   "execution_count": 395,
   "metadata": {},
   "outputs": [],
   "source": [
    "fl_df = fit_norm_line(fin_theta_norm, 100, -50, 42, mu, sigma)"
   ]
  },
  {
   "cell_type": "code",
   "execution_count": 396,
   "metadata": {},
   "outputs": [
    {
     "data": {
      "text/plain": [
       "Text(0, 0.5, 'Water flowing out')"
      ]
     },
     "execution_count": 396,
     "metadata": {},
     "output_type": "execute_result"
    },
    {
     "data": {
      "image/png": "[encoded data removed]",
      "text/plain": [
       "<Figure size 432x432 with 1 Axes>"
      ]
     },
     "metadata": {},
     "output_type": "display_data"
    }
   ],
   "source": [
    "fig3, ax = plt.subplots(figsize=(6, 6))\n",
    "tv_df = data_df.query('type == \"train\" or type == \"val\"')\n",
    "sns.scatterplot(data=tv_df, ax=ax, x='X', y='y', hue='type').set(title='data')\n",
    "sns.lineplot(data=fl_df, ax=ax, x='x', y='y', color='k')\n",
    "ax.set_xlabel(\"Change in water level\")\n",
    "ax.set_ylabel(\"Water flowing out\")\n",
    "#ax.set_ylim([0,1000])"
   ]
  },
  {
   "cell_type": "markdown",
   "metadata": {},
   "source": [
    "## =========== Part 7: Learning Curve for Polynomial Regression ============="
   ]
  },
  {
   "cell_type": "code",
   "execution_count": 397,
   "metadata": {},
   "outputs": [
    {
     "name": "stdout",
     "output_type": "stream",
     "text": [
      "Optimization terminated successfully.\n",
      "         Current function value: 0.000000\n",
      "         Iterations: 2\n",
      "         Function evaluations: 4\n",
      "         Gradient evaluations: 4\n",
      "Optimization terminated successfully.\n",
      "         Current function value: 0.000000\n",
      "         Iterations: 6\n",
      "         Function evaluations: 9\n",
      "         Gradient evaluations: 9\n",
      "Optimization terminated successfully.\n",
      "         Current function value: 0.000000\n",
      "         Iterations: 15\n",
      "         Function evaluations: 27\n",
      "         Gradient evaluations: 27\n",
      "Optimization terminated successfully.\n",
      "         Current function value: 0.000000\n",
      "         Iterations: 4\n",
      "         Function evaluations: 13\n",
      "         Gradient evaluations: 13\n",
      "Optimization terminated successfully.\n",
      "         Current function value: 0.000000\n",
      "         Iterations: 17\n",
      "         Function evaluations: 35\n",
      "         Gradient evaluations: 35\n",
      "Optimization terminated successfully.\n",
      "         Current function value: 0.000000\n",
      "         Iterations: 240\n",
      "         Function evaluations: 437\n",
      "         Gradient evaluations: 437\n",
      "Optimization terminated successfully.\n",
      "         Current function value: 0.000000\n",
      "         Iterations: 93\n",
      "         Function evaluations: 185\n",
      "         Gradient evaluations: 185\n",
      "Optimization terminated successfully.\n",
      "         Current function value: 0.000000\n",
      "         Iterations: 99\n",
      "         Function evaluations: 213\n",
      "         Gradient evaluations: 213\n",
      "Optimization terminated successfully.\n",
      "         Current function value: 0.000026\n",
      "         Iterations: 717\n",
      "         Function evaluations: 1333\n",
      "         Gradient evaluations: 1333\n",
      "Optimization terminated successfully.\n",
      "         Current function value: 0.010820\n",
      "         Iterations: 617\n",
      "         Function evaluations: 1218\n",
      "         Gradient evaluations: 1218\n",
      "Optimization terminated successfully.\n",
      "         Current function value: 0.031219\n",
      "         Iterations: 1014\n",
      "         Function evaluations: 1937\n",
      "         Gradient evaluations: 1937\n",
      "Optimization terminated successfully.\n",
      "         Current function value: 0.028891\n",
      "         Iterations: 656\n",
      "         Function evaluations: 1268\n",
      "         Gradient evaluations: 1268\n"
     ]
    },
    {
     "data": {
      "text/html": [
       "<div>\n",
       "<style scoped>\n",
       "    .dataframe tbody tr th:only-of-type {\n",
       "        vertical-align: middle;\n",
       "    }\n",
       "\n",
       "    .dataframe tbody tr th {\n",
       "        vertical-align: top;\n",
       "    }\n",
       "\n",
       "    .dataframe thead th {\n",
       "        text-align: right;\n",
       "    }\n",
       "</style>\n",
       "<table border=\"1\" class=\"dataframe\">\n",
       "  <thead>\n",
       "    <tr style=\"text-align: right;\">\n",
       "      <th></th>\n",
       "      <th>size</th>\n",
       "      <th>error</th>\n",
       "      <th>type</th>\n",
       "    </tr>\n",
       "  </thead>\n",
       "  <tbody>\n",
       "    <tr>\n",
       "      <th>0</th>\n",
       "      <td>1</td>\n",
       "      <td>0.000000e+00</td>\n",
       "      <td>train</td>\n",
       "    </tr>\n",
       "    <tr>\n",
       "      <th>1</th>\n",
       "      <td>1</td>\n",
       "      <td>1.614422e+02</td>\n",
       "      <td>val</td>\n",
       "    </tr>\n",
       "    <tr>\n",
       "      <th>2</th>\n",
       "      <td>2</td>\n",
       "      <td>6.162976e-32</td>\n",
       "      <td>train</td>\n",
       "    </tr>\n",
       "    <tr>\n",
       "      <th>3</th>\n",
       "      <td>2</td>\n",
       "      <td>1.607923e+02</td>\n",
       "      <td>val</td>\n",
       "    </tr>\n",
       "    <tr>\n",
       "      <th>4</th>\n",
       "      <td>3</td>\n",
       "      <td>4.617443e-11</td>\n",
       "      <td>train</td>\n",
       "    </tr>\n",
       "  </tbody>\n",
       "</table>\n",
       "</div>"
      ],
      "text/plain": [
       "   size         error   type\n",
       "0     1  0.000000e+00  train\n",
       "1     1  1.614422e+02    val\n",
       "2     2  6.162976e-32  train\n",
       "3     2  1.607923e+02    val\n",
       "4     3  4.617443e-11  train"
      ]
     },
     "execution_count": 397,
     "metadata": {},
     "output_type": "execute_result"
    }
   ],
   "source": [
    "l = 0\n",
    "lp_df = sizeLearningCurve(Xpoly_norm, y, Xvalpoly_norm, yval, l)\n",
    "lp_df.head()"
   ]
  },
  {
   "cell_type": "code",
   "execution_count": 398,
   "metadata": {},
   "outputs": [
    {
     "data": {
      "text/plain": [
       "Text(0.5, 0, 'training size')"
      ]
     },
     "execution_count": 398,
     "metadata": {},
     "output_type": "execute_result"
    },
    {
     "data": {
      "image/png": "[encoded data removed]",
      "text/plain": [
       "<Figure size 432x432 with 1 Axes>"
      ]
     },
     "metadata": {},
     "output_type": "display_data"
    }
   ],
   "source": [
    "fig4, ax = plt.subplots(figsize=(6, 6))\n",
    "sns.lineplot(data=lp_df, ax=ax, x='size', y='error', hue='type')\n",
    "ax.set_xlabel('training size')"
   ]
  },
  {
   "cell_type": "markdown",
   "metadata": {},
   "source": [
    "As the amount of training data increases one observes a low error for the training data but a high error for the validation data. This is a signal of a high variance model, where the model fits the training data too well but the validation data quite badly. "
   ]
  },
  {
   "cell_type": "markdown",
   "metadata": {},
   "source": [
    "##  =========== Part 8: Validation for Selecting Lambda ============="
   ]
  },
  {
   "cell_type": "code",
   "execution_count": 411,
   "metadata": {},
   "outputs": [],
   "source": [
    "#Learning curve: error as a function of the regularization parameter\n",
    "def regLearningCurve(X, y, Xval, yval, lvals):\n",
    "    err = []\n",
    "    m = len(y)\n",
    "    for l in lvals:\n",
    "        theta = trainReg(X,y,l)\n",
    "        errT = J(theta, X, y, l)\n",
    "        err.append([l,errT,'train'])\n",
    "        errV = J(theta, Xval, yval, l)\n",
    "        err.append([l,errV,'val'])\n",
    "    return pd.DataFrame(err, columns=['size','error','type'])"
   ]
  },
  {
   "cell_type": "code",
   "execution_count": 400,
   "metadata": {},
   "outputs": [
    {
     "name": "stdout",
     "output_type": "stream",
     "text": [
      "[0.0, 0.02, 0.04, 0.06, 0.08, 0.1, 0.12, 0.14, 0.16, 0.18, 0.2, 0.22, 0.24, 0.26, 0.28, 0.3, 0.32, 0.34, 0.36, 0.38, 0.4, 0.42, 0.44, 0.46, 0.48, 0.5, 0.52, 0.54, 0.56, 0.58, 0.6, 0.62, 0.64, 0.66, 0.68, 0.7000000000000001, 0.72, 0.74, 0.76, 0.78, 0.8, 0.8200000000000001, 0.84, 0.86, 0.88, 0.9, 0.92, 0.9400000000000001, 0.96, 0.98]\n",
      "Optimization terminated successfully.\n",
      "         Current function value: 0.028891\n",
      "         Iterations: 656\n",
      "         Function evaluations: 1268\n",
      "         Gradient evaluations: 1268\n",
      "Warning: Desired error not necessarily achieved due to precision loss.\n",
      "         Current function value: 0.604521\n",
      "         Iterations: 21\n",
      "         Function evaluations: 90\n",
      "         Gradient evaluations: 78\n",
      "Warning: Desired error not necessarily achieved due to precision loss.\n",
      "         Current function value: 0.833722\n",
      "         Iterations: 13\n",
      "         Function evaluations: 69\n",
      "         Gradient evaluations: 58\n",
      "Warning: Desired error not necessarily achieved due to precision loss.\n",
      "         Current function value: 1.028912\n",
      "         Iterations: 12\n",
      "         Function evaluations: 101\n",
      "         Gradient evaluations: 90\n",
      "Warning: Desired error not necessarily achieved due to precision loss.\n",
      "         Current function value: 1.567389\n",
      "         Iterations: 8\n",
      "         Function evaluations: 55\n",
      "         Gradient evaluations: 43\n",
      "Warning: Desired error not necessarily achieved due to precision loss.\n",
      "         Current function value: 1.458134\n",
      "         Iterations: 10\n",
      "         Function evaluations: 121\n",
      "         Gradient evaluations: 109\n",
      "Warning: Desired error not necessarily achieved due to precision loss.\n",
      "         Current function value: 2.126069\n",
      "         Iterations: 7\n",
      "         Function evaluations: 126\n",
      "         Gradient evaluations: 114\n",
      "Warning: Desired error not necessarily achieved due to precision loss.\n",
      "         Current function value: 2.265360\n",
      "         Iterations: 7\n",
      "         Function evaluations: 44\n",
      "         Gradient evaluations: 32\n",
      "Warning: Desired error not necessarily achieved due to precision loss.\n",
      "         Current function value: 2.386830\n",
      "         Iterations: 7\n",
      "         Function evaluations: 51\n",
      "         Gradient evaluations: 39\n",
      "Warning: Desired error not necessarily achieved due to precision loss.\n",
      "         Current function value: 2.876319\n",
      "         Iterations: 7\n",
      "         Function evaluations: 114\n",
      "         Gradient evaluations: 102\n",
      "Warning: Desired error not necessarily achieved due to precision loss.\n",
      "         Current function value: 3.148903\n",
      "         Iterations: 6\n",
      "         Function evaluations: 56\n",
      "         Gradient evaluations: 44\n",
      "Warning: Desired error not necessarily achieved due to precision loss.\n",
      "         Current function value: 2.504547\n",
      "         Iterations: 10\n",
      "         Function evaluations: 57\n",
      "         Gradient evaluations: 45\n",
      "Warning: Desired error not necessarily achieved due to precision loss.\n",
      "         Current function value: 3.454773\n",
      "         Iterations: 6\n",
      "         Function evaluations: 53\n",
      "         Gradient evaluations: 42\n",
      "Warning: Desired error not necessarily achieved due to precision loss.\n",
      "         Current function value: 3.589797\n",
      "         Iterations: 6\n",
      "         Function evaluations: 57\n",
      "         Gradient evaluations: 46\n",
      "Warning: Desired error not necessarily achieved due to precision loss.\n",
      "         Current function value: 3.713903\n",
      "         Iterations: 6\n",
      "         Function evaluations: 54\n",
      "         Gradient evaluations: 44\n",
      "Warning: Desired error not necessarily achieved due to precision loss.\n",
      "         Current function value: 3.828561\n",
      "         Iterations: 6\n",
      "         Function evaluations: 54\n",
      "         Gradient evaluations: 44\n",
      "Warning: Desired error not necessarily achieved due to precision loss.\n",
      "         Current function value: 3.935570\n",
      "         Iterations: 6\n",
      "         Function evaluations: 57\n",
      "         Gradient evaluations: 46\n",
      "Warning: Desired error not necessarily achieved due to precision loss.\n",
      "         Current function value: 4.035830\n",
      "         Iterations: 6\n",
      "         Function evaluations: 54\n",
      "         Gradient evaluations: 43\n",
      "Warning: Desired error not necessarily achieved due to precision loss.\n",
      "         Current function value: 4.150097\n",
      "         Iterations: 6\n",
      "         Function evaluations: 59\n",
      "         Gradient evaluations: 47\n",
      "Warning: Desired error not necessarily achieved due to precision loss.\n",
      "         Current function value: 4.499143\n",
      "         Iterations: 5\n",
      "         Function evaluations: 49\n",
      "         Gradient evaluations: 38\n",
      "Warning: Desired error not necessarily achieved due to precision loss.\n",
      "         Current function value: 4.345178\n",
      "         Iterations: 5\n",
      "         Function evaluations: 46\n",
      "         Gradient evaluations: 34\n",
      "Warning: Desired error not necessarily achieved due to precision loss.\n",
      "         Current function value: 4.431826\n",
      "         Iterations: 5\n",
      "         Function evaluations: 44\n",
      "         Gradient evaluations: 32\n",
      "Warning: Desired error not necessarily achieved due to precision loss.\n",
      "         Current function value: 4.517441\n",
      "         Iterations: 5\n",
      "         Function evaluations: 56\n",
      "         Gradient evaluations: 45\n",
      "Warning: Desired error not necessarily achieved due to precision loss.\n",
      "         Current function value: 4.602492\n",
      "         Iterations: 5\n",
      "         Function evaluations: 56\n",
      "         Gradient evaluations: 45\n",
      "Warning: Desired error not necessarily achieved due to precision loss.\n",
      "         Current function value: 4.687797\n",
      "         Iterations: 5\n",
      "         Function evaluations: 52\n",
      "         Gradient evaluations: 40\n",
      "Warning: Desired error not necessarily achieved due to precision loss.\n",
      "         Current function value: 4.774650\n",
      "         Iterations: 5\n",
      "         Function evaluations: 53\n",
      "         Gradient evaluations: 41\n",
      "Warning: Desired error not necessarily achieved due to precision loss.\n",
      "         Current function value: 4.864962\n",
      "         Iterations: 5\n",
      "         Function evaluations: 51\n",
      "         Gradient evaluations: 39\n",
      "Warning: Desired error not necessarily achieved due to precision loss.\n",
      "         Current function value: 4.961374\n",
      "         Iterations: 5\n",
      "         Function evaluations: 63\n",
      "         Gradient evaluations: 51\n",
      "Warning: Desired error not necessarily achieved due to precision loss.\n",
      "         Current function value: 5.067580\n",
      "         Iterations: 5\n",
      "         Function evaluations: 50\n",
      "         Gradient evaluations: 38\n",
      "Warning: Desired error not necessarily achieved due to precision loss.\n",
      "         Current function value: 5.130796\n",
      "         Iterations: 6\n",
      "         Function evaluations: 53\n",
      "         Gradient evaluations: 41\n",
      "Warning: Desired error not necessarily achieved due to precision loss.\n",
      "         Current function value: 5.265582\n",
      "         Iterations: 6\n",
      "         Function evaluations: 54\n",
      "         Gradient evaluations: 42\n",
      "Warning: Desired error not necessarily achieved due to precision loss.\n",
      "         Current function value: 5.421244\n",
      "         Iterations: 6\n",
      "         Function evaluations: 51\n",
      "         Gradient evaluations: 39\n",
      "Warning: Desired error not necessarily achieved due to precision loss.\n",
      "         Current function value: 5.612701\n",
      "         Iterations: 6\n",
      "         Function evaluations: 50\n",
      "         Gradient evaluations: 38\n",
      "Warning: Desired error not necessarily achieved due to precision loss.\n",
      "         Current function value: 5.819756\n",
      "         Iterations: 6\n",
      "         Function evaluations: 54\n",
      "         Gradient evaluations: 42\n",
      "Warning: Desired error not necessarily achieved due to precision loss.\n",
      "         Current function value: 6.062406\n",
      "         Iterations: 6\n",
      "         Function evaluations: 49\n",
      "         Gradient evaluations: 37\n",
      "Warning: Desired error not necessarily achieved due to precision loss.\n",
      "         Current function value: 6.215229\n",
      "         Iterations: 7\n",
      "         Function evaluations: 53\n",
      "         Gradient evaluations: 41\n",
      "Warning: Desired error not necessarily achieved due to precision loss.\n",
      "         Current function value: 6.472348\n",
      "         Iterations: 6\n",
      "         Function evaluations: 58\n",
      "         Gradient evaluations: 46\n",
      "Warning: Desired error not necessarily achieved due to precision loss.\n",
      "         Current function value: 6.708226\n",
      "         Iterations: 6\n",
      "         Function evaluations: 62\n",
      "         Gradient evaluations: 50\n",
      "Warning: Desired error not necessarily achieved due to precision loss.\n",
      "         Current function value: 7.080278\n",
      "         Iterations: 6\n",
      "         Function evaluations: 108\n",
      "         Gradient evaluations: 96\n",
      "Warning: Desired error not necessarily achieved due to precision loss.\n",
      "         Current function value: 7.081610\n",
      "         Iterations: 6\n",
      "         Function evaluations: 68\n",
      "         Gradient evaluations: 57\n",
      "Warning: Desired error not necessarily achieved due to precision loss.\n",
      "         Current function value: 7.319245\n",
      "         Iterations: 6\n",
      "         Function evaluations: 57\n",
      "         Gradient evaluations: 45\n",
      "Warning: Desired error not necessarily achieved due to precision loss.\n",
      "         Current function value: 7.425967\n",
      "         Iterations: 6\n",
      "         Function evaluations: 57\n",
      "         Gradient evaluations: 46\n",
      "Warning: Desired error not necessarily achieved due to precision loss.\n",
      "         Current function value: 7.641890\n",
      "         Iterations: 4\n",
      "         Function evaluations: 48\n",
      "         Gradient evaluations: 37\n",
      "Warning: Desired error not necessarily achieved due to precision loss.\n",
      "         Current function value: 7.752495\n",
      "         Iterations: 4\n",
      "         Function evaluations: 51\n",
      "         Gradient evaluations: 40\n",
      "Warning: Desired error not necessarily achieved due to precision loss.\n",
      "         Current function value: 7.863078\n",
      "         Iterations: 4\n",
      "         Function evaluations: 50\n",
      "         Gradient evaluations: 39\n",
      "Warning: Desired error not necessarily achieved due to precision loss.\n",
      "         Current function value: 7.973637\n",
      "         Iterations: 4\n",
      "         Function evaluations: 49\n",
      "         Gradient evaluations: 39\n",
      "Warning: Desired error not necessarily achieved due to precision loss.\n",
      "         Current function value: 8.084173\n",
      "         Iterations: 4\n",
      "         Function evaluations: 58\n",
      "         Gradient evaluations: 47\n",
      "Warning: Desired error not necessarily achieved due to precision loss.\n",
      "         Current function value: 8.194686\n",
      "         Iterations: 4\n",
      "         Function evaluations: 74\n",
      "         Gradient evaluations: 62\n",
      "Warning: Desired error not necessarily achieved due to precision loss.\n",
      "         Current function value: 8.305174\n",
      "         Iterations: 4\n",
      "         Function evaluations: 115\n",
      "         Gradient evaluations: 103\n",
      "Warning: Desired error not necessarily achieved due to precision loss.\n",
      "         Current function value: 8.415638\n",
      "         Iterations: 4\n",
      "         Function evaluations: 105\n",
      "         Gradient evaluations: 93\n"
     ]
    },
    {
     "data": {
      "text/html": [
       "<div>\n",
       "<style scoped>\n",
       "    .dataframe tbody tr th:only-of-type {\n",
       "        vertical-align: middle;\n",
       "    }\n",
       "\n",
       "    .dataframe tbody tr th {\n",
       "        vertical-align: top;\n",
       "    }\n",
       "\n",
       "    .dataframe thead th {\n",
       "        text-align: right;\n",
       "    }\n",
       "</style>\n",
       "<table border=\"1\" class=\"dataframe\">\n",
       "  <thead>\n",
       "    <tr style=\"text-align: right;\">\n",
       "      <th></th>\n",
       "      <th>size</th>\n",
       "      <th>error</th>\n",
       "      <th>type</th>\n",
       "    </tr>\n",
       "  </thead>\n",
       "  <tbody>\n",
       "    <tr>\n",
       "      <th>0</th>\n",
       "      <td>0.00</td>\n",
       "      <td>0.028891</td>\n",
       "      <td>train</td>\n",
       "    </tr>\n",
       "    <tr>\n",
       "      <th>1</th>\n",
       "      <td>0.00</td>\n",
       "      <td>53.664674</td>\n",
       "      <td>val</td>\n",
       "    </tr>\n",
       "    <tr>\n",
       "      <th>2</th>\n",
       "      <td>0.02</td>\n",
       "      <td>0.604521</td>\n",
       "      <td>train</td>\n",
       "    </tr>\n",
       "    <tr>\n",
       "      <th>3</th>\n",
       "      <td>0.02</td>\n",
       "      <td>9.955781</td>\n",
       "      <td>val</td>\n",
       "    </tr>\n",
       "    <tr>\n",
       "      <th>4</th>\n",
       "      <td>0.04</td>\n",
       "      <td>0.833722</td>\n",
       "      <td>train</td>\n",
       "    </tr>\n",
       "  </tbody>\n",
       "</table>\n",
       "</div>"
      ],
      "text/plain": [
       "   size      error   type\n",
       "0  0.00   0.028891  train\n",
       "1  0.00  53.664674    val\n",
       "2  0.02   0.604521  train\n",
       "3  0.02   9.955781    val\n",
       "4  0.04   0.833722  train"
      ]
     },
     "execution_count": 400,
     "metadata": {},
     "output_type": "execute_result"
    }
   ],
   "source": [
    "lvals = list(np.arange(0,1.0,0.02))\n",
    "print(lvals)\n",
    "rp_df = regLearningCurve(Xpoly_norm, y, Xvalpoly_norm, yval, lvals)\n",
    "rp_df.head()"
   ]
  },
  {
   "cell_type": "code",
   "execution_count": 401,
   "metadata": {},
   "outputs": [
    {
     "data": {
      "text/plain": [
       "Text(0.5, 0, '$\\\\lambda$')"
      ]
     },
     "execution_count": 401,
     "metadata": {},
     "output_type": "execute_result"
    },
    {
     "data": {
      "image/png": "[encoded data removed]",
      "text/plain": [
       "<Figure size 432x432 with 1 Axes>"
      ]
     },
     "metadata": {},
     "output_type": "display_data"
    }
   ],
   "source": [
    "fig5, ax = plt.subplots(figsize=(6, 6))\n",
    "sns.lineplot(data=rp_df, ax=ax, x='size', y='error', hue='type')\n",
    "ax.set_xlabel(r'$\\lambda$')"
   ]
  },
  {
   "cell_type": "markdown",
   "metadata": {},
   "source": [
    "The error with the validation set appears to be minimum around $\\lambda\\sim0.15$."
   ]
  },
  {
   "cell_type": "code",
   "execution_count": 405,
   "metadata": {},
   "outputs": [
    {
     "name": "stdout",
     "output_type": "stream",
     "text": [
      "Optimization terminated successfully.\n",
      "         Current function value: 0.028891\n",
      "         Iterations: 656\n",
      "         Function evaluations: 1268\n",
      "         Gradient evaluations: 1268\n",
      "Warning: Desired error not necessarily achieved due to precision loss.\n",
      "         Current function value: 2.174013\n",
      "         Iterations: 8\n",
      "         Function evaluations: 119\n",
      "         Gradient evaluations: 107\n",
      "Warning: Desired error not necessarily achieved due to precision loss.\n",
      "         Current function value: 4.774650\n",
      "         Iterations: 5\n",
      "         Function evaluations: 53\n",
      "         Gradient evaluations: 41\n",
      "Warning: Desired error not necessarily achieved due to precision loss.\n",
      "         Current function value: 14.019643\n",
      "         Iterations: 4\n",
      "         Function evaluations: 117\n",
      "         Gradient evaluations: 105\n"
     ]
    }
   ],
   "source": [
    "#Train model\n",
    "fin_theta_norm1 = trainReg(Xpoly_norm,y,0)\n",
    "fin_theta_norm2 = trainReg(Xpoly_norm,y,0.15)\n",
    "fin_theta_norm3 = trainReg(Xpoly_norm,y,0.5)\n",
    "fin_theta_norm4 = trainReg(Xpoly_norm,y,2.0)"
   ]
  },
  {
   "cell_type": "code",
   "execution_count": 406,
   "metadata": {},
   "outputs": [],
   "source": [
    "fl_df1 = fit_norm_line(fin_theta_norm1, 100, -50, 42, mu, sigma)\n",
    "fl_df2 = fit_norm_line(fin_theta_norm2, 100, -50, 42, mu, sigma)\n",
    "fl_df3 = fit_norm_line(fin_theta_norm3, 100, -50, 42, mu, sigma)\n",
    "fl_df4 = fit_norm_line(fin_theta_norm4, 100, -50, 42, mu, sigma)"
   ]
  },
  {
   "cell_type": "code",
   "execution_count": 407,
   "metadata": {},
   "outputs": [
    {
     "data": {
      "text/plain": [
       "[Text(0.5, 1.0, '$\\\\lambda=2.0$')]"
      ]
     },
     "execution_count": 407,
     "metadata": {},
     "output_type": "execute_result"
    },
    {
     "data": {
      "image/png": "[encoded data removed]",
      "text/plain": [
       "<Figure size 864x864 with 4 Axes>"
      ]
     },
     "metadata": {},
     "output_type": "display_data"
    }
   ],
   "source": [
    "fig6, ax = plt.subplots(2,2,figsize=(12, 12))\n",
    "sns.scatterplot(data=tv_df, ax=ax[0][0], x='X', y='y', hue='type')\n",
    "sns.lineplot(data=fl_df1, ax=ax[0][0], x='x', y='y', color='k').set(title=r'$\\lambda=0$')\n",
    "sns.scatterplot(data=tv_df, ax=ax[0][1], x='X', y='y', hue='type')\n",
    "sns.lineplot(data=fl_df2, ax=ax[0][1], x='x', y='y', color='k').set(title=r'$\\lambda=0.15$')\n",
    "sns.scatterplot(data=tv_df, ax=ax[1][0], x='X', y='y', hue='type')\n",
    "sns.lineplot(data=fl_df3, ax=ax[1][0], x='x', y='y', color='k').set(title=r'$\\lambda=0.5$')\n",
    "sns.scatterplot(data=tv_df, ax=ax[1][1], x='X', y='y', hue='type')\n",
    "sns.lineplot(data=fl_df4, ax=ax[1][1], x='x', y='y', color='k').set(title=r'$\\lambda=2.0$')\n",
    "#ax[0][0].set_xlabel(\"Change in water level\")\n",
    "#ax[0][0].set_ylabel(\"Water flowing out\")\n",
    "#ax[0][0].set_ylim([0,1000])"
   ]
  },
  {
   "cell_type": "markdown",
   "metadata": {},
   "source": [
    "Tough the minimum error is around $\\lambda\\sim0.15$ it stills looks like an overfit, the curve for $\\lambda\\sim0.5$ looks a bit more general."
   ]
  },
  {
   "cell_type": "code",
   "execution_count": 408,
   "metadata": {},
   "outputs": [
    {
     "data": {
      "text/plain": [
       "(21, 9)"
      ]
     },
     "execution_count": 408,
     "metadata": {},
     "output_type": "execute_result"
    }
   ],
   "source": [
    "#Add poly features and normalize the test set with the training prameters\n",
    "Xtestpoly = polyFeatures(Xtest, deg)\n",
    "Xtestpoly_norm = featureNormalizeOther(Xtestpoly, mu, sigma)\n",
    "Xtestpoly_norm.shape"
   ]
  },
  {
   "cell_type": "code",
   "execution_count": 412,
   "metadata": {},
   "outputs": [
    {
     "data": {
      "text/plain": [
       "4.853668039360709"
      ]
     },
     "execution_count": 412,
     "metadata": {},
     "output_type": "execute_result"
    }
   ],
   "source": [
    "#Compute the error of the test set with the chosen lambda\n",
    "l = 0.5\n",
    "errT = J(fin_theta_norm3, Xtestpoly_norm, ytest, l)\n",
    "errT"
   ]
  },
  {
   "cell_type": "code",
   "execution_count": 416,
   "metadata": {},
   "outputs": [
    {
     "data": {
      "text/plain": [
       "Text(0, 0.5, 'Water flowing out')"
      ]
     },
     "execution_count": 416,
     "metadata": {},
     "output_type": "execute_result"
    },
    {
     "data": {
      "image/png": "[encoded data removed]",
      "text/plain": [
       "<Figure size 432x432 with 1 Axes>"
      ]
     },
     "metadata": {},
     "output_type": "display_data"
    }
   ],
   "source": [
    "fig7, ax = plt.subplots(figsize=(6, 6))\n",
    "test_df = data_df.query('type == \"test\"')\n",
    "sns.scatterplot(data=test_df, ax=ax, x='X', y='y').set(title='test data')\n",
    "sns.lineplot(data=fl_df3, ax=ax, x='x', y='y', color='k')\n",
    "ax.set_xlabel(\"Change in water level\")\n",
    "ax.set_ylabel(\"Water flowing out\")\n",
    "#ax.set_ylim([0,1000])"
   ]
  },
  {
   "cell_type": "code",
   "execution_count": null,
   "metadata": {},
   "outputs": [],
   "source": []
  }
 ],
 "metadata": {
  "kernelspec": {
   "display_name": "Python 3",
   "language": "python",
   "name": "python3"
  },
  "language_info": {
   "codemirror_mode": {
    "name": "ipython",
    "version": 3
   },
   "file_extension": ".py",
   "mimetype": "text/x-python",
   "name": "python",
   "nbconvert_exporter": "python",
   "pygments_lexer": "ipython3",
   "version": "3.8.10"
  }
 },
 "nbformat": 4,
 "nbformat_minor": 4
}
