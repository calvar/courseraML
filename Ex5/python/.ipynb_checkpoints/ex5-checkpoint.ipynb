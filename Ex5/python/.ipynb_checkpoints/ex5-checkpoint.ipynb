{
 "cells": [
  {
   "cell_type": "markdown",
   "metadata": {},
   "source": [
    "# Machine Learning Online Class Exercise 5 | Regularized Linear Regression and Bias-Variance"
   ]
  },
  {
   "cell_type": "code",
   "execution_count": 1,
   "metadata": {},
   "outputs": [],
   "source": [
    "import numpy as np\n",
    "import pandas as pd\n",
    "from scipy.optimize import fmin_cg\n",
    "from scipy.io import loadmat\n",
    "import matplotlib.pyplot as plt\n",
    "import seaborn as sns\n",
    "\n",
    "sns.set(font_scale=1.3)"
   ]
  },
  {
   "cell_type": "markdown",
   "metadata": {},
   "source": [
    "## =========== Part 1: Loading and Visualizing Data ============="
   ]
  },
  {
   "cell_type": "code",
   "execution_count": 2,
   "metadata": {},
   "outputs": [
    {
     "data": {
      "text/plain": [
       "(54, 3)"
      ]
     },
     "execution_count": 2,
     "metadata": {},
     "output_type": "execute_result"
    }
   ],
   "source": [
    "#X: Change in water level\n",
    "#y: Water flowing out of the dam\n",
    "data = loadmat(\"ex5data1.mat\")\n",
    "X = data['X']\n",
    "y = data['y']\n",
    "Xtest = data['Xtest']\n",
    "ytest = data['ytest']\n",
    "Xval = data['Xval']\n",
    "yval = data['yval']\n",
    "#print(X.shape,y.shape,Xtest.shape,ytest.shape,Xval.shape,yval.shape)\n",
    "trcol = np.array([['train'] for i in range(y.shape[0])])\n",
    "train_d = np.concatenate((X,y,trcol),axis=1)\n",
    "tecol = np.array([['test'] for i in range(ytest.shape[0])])\n",
    "test_d = np.concatenate((Xtest,ytest,tecol),axis=1)\n",
    "vacol = np.array([['val'] for i in range(yval.shape[0])])\n",
    "val_d = np.concatenate((Xval,yval,vacol),axis=1)\n",
    "tot_d = np.concatenate((train_d,test_d,val_d),axis=0)\n",
    "tot_d.shape"
   ]
  },
  {
   "cell_type": "code",
   "execution_count": 3,
   "metadata": {},
   "outputs": [
    {
     "data": {
      "text/html": [
       "<div>\n",
       "<style scoped>\n",
       "    .dataframe tbody tr th:only-of-type {\n",
       "        vertical-align: middle;\n",
       "    }\n",
       "\n",
       "    .dataframe tbody tr th {\n",
       "        vertical-align: top;\n",
       "    }\n",
       "\n",
       "    .dataframe thead th {\n",
       "        text-align: right;\n",
       "    }\n",
       "</style>\n",
       "<table border=\"1\" class=\"dataframe\">\n",
       "  <thead>\n",
       "    <tr style=\"text-align: right;\">\n",
       "      <th></th>\n",
       "      <th>X</th>\n",
       "      <th>y</th>\n",
       "      <th>type</th>\n",
       "    </tr>\n",
       "  </thead>\n",
       "  <tbody>\n",
       "    <tr>\n",
       "      <th>0</th>\n",
       "      <td>-15.936758</td>\n",
       "      <td>2.134311</td>\n",
       "      <td>train</td>\n",
       "    </tr>\n",
       "    <tr>\n",
       "      <th>1</th>\n",
       "      <td>-29.152979</td>\n",
       "      <td>1.173257</td>\n",
       "      <td>train</td>\n",
       "    </tr>\n",
       "    <tr>\n",
       "      <th>2</th>\n",
       "      <td>36.189549</td>\n",
       "      <td>34.359109</td>\n",
       "      <td>train</td>\n",
       "    </tr>\n",
       "    <tr>\n",
       "      <th>3</th>\n",
       "      <td>37.492187</td>\n",
       "      <td>36.837955</td>\n",
       "      <td>train</td>\n",
       "    </tr>\n",
       "    <tr>\n",
       "      <th>4</th>\n",
       "      <td>-48.058829</td>\n",
       "      <td>2.808965</td>\n",
       "      <td>train</td>\n",
       "    </tr>\n",
       "  </tbody>\n",
       "</table>\n",
       "</div>"
      ],
      "text/plain": [
       "           X          y   type\n",
       "0 -15.936758   2.134311  train\n",
       "1 -29.152979   1.173257  train\n",
       "2  36.189549  34.359109  train\n",
       "3  37.492187  36.837955  train\n",
       "4 -48.058829   2.808965  train"
      ]
     },
     "execution_count": 3,
     "metadata": {},
     "output_type": "execute_result"
    }
   ],
   "source": [
    "data_df = pd.DataFrame(data=tot_d, index=None, columns=['X','y','type'])\n",
    "data_df['X'] = data_df['X'].astype(float)\n",
    "data_df['y'] = data_df['y'].astype(float)\n",
    "data_df.head()"
   ]
  },
  {
   "cell_type": "code",
   "execution_count": 4,
   "metadata": {},
   "outputs": [
    {
     "data": {
      "text/plain": [
       "Text(0, 0.5, 'Water flowing out')"
      ]
     },
     "execution_count": 4,
     "metadata": {},
     "output_type": "execute_result"
    },
    {
     "data": {
      "image/png": "[encoded data removed]",
      "text/plain": [
       "<Figure size 432x432 with 1 Axes>"
      ]
     },
     "metadata": {},
     "output_type": "display_data"
    }
   ],
   "source": [
    "fig0, ax = plt.subplots(figsize=(6, 6))\n",
    "sns.scatterplot(data=data_df, ax=ax, x='X', y='y', hue='type').set(title='data')\n",
    "ax.set_xlabel(\"Change in water level\")\n",
    "ax.set_ylabel(\"Water flowing out\")"
   ]
  },
  {
   "cell_type": "markdown",
   "metadata": {},
   "source": [
    "## =========== Part 2: Regularized Linear Regression Cost ============="
   ]
  },
  {
   "cell_type": "code",
   "execution_count": 5,
   "metadata": {},
   "outputs": [
    {
     "data": {
      "text/plain": [
       "((12, 2), (21, 2), (21, 2))"
      ]
     },
     "execution_count": 5,
     "metadata": {},
     "output_type": "execute_result"
    }
   ],
   "source": [
    "# Add bias column to X\n",
    "X = np.insert(X, 0, np.ones(X.shape[0]), axis=1)\n",
    "Xtest = np.insert(Xtest, 0, np.ones(Xtest.shape[0]), axis=1)\n",
    "Xval = np.insert(Xval, 0, np.ones(Xval.shape[0]), axis=1)\n",
    "X.shape,Xtest.shape,Xval.shape"
   ]
  },
  {
   "cell_type": "markdown",
   "metadata": {},
   "source": [
    "The regularized cost function for the regression of the m training examples is\n",
    "\\begin{align}\n",
    "J(\\vec{\\theta})=&\\frac{1}{2m}\\sum_{\\alpha=1}^m\\left(y_{\\alpha}-\\sum_{i=1}^n\\theta_ix_{i,\\alpha}\\right)^2+\\frac{\\lambda}{2m}\\sum_{i>0}^n\\theta_i^2\\\\\n",
    "=&\\frac{1}{2m}\\sum_{\\alpha=1}^m\\left(y_{\\alpha}- \\vec{x}_{\\alpha}\\cdot\\vec{\\theta}\\right)^2+\\frac{\\lambda}{2m}\\sum_{i>0}^n\\theta_i^2.\n",
    "\\end{align}"
   ]
  },
  {
   "cell_type": "code",
   "execution_count": 13,
   "metadata": {},
   "outputs": [],
   "source": [
    "#Cost funtion J\n",
    "def J(params, X, y, l):\n",
    "    theta = params.reshape(X.shape[1],1)\n",
    "    m = len(y)\n",
    "    v1 = y-np.matmul(X,theta)\n",
    "    R = l*(theta[1:]**2).sum()\n",
    "    return (np.matmul(v1.T,v1)[0][0] + R)/(2*m)"
   ]
  },
  {
   "cell_type": "code",
   "execution_count": 14,
   "metadata": {},
   "outputs": [
    {
     "name": "stdout",
     "output_type": "stream",
     "text": [
      "Cost at theta = (1,1): 303.9931922202643\n",
      "(This value should be about 303.993192)\n"
     ]
    }
   ],
   "source": [
    "l = 1\n",
    "theta = np.array([1,1])\n",
    "Jval = J(theta, X, y, l)\n",
    "print(\"Cost at theta = (1,1): {0}\".format(Jval))\n",
    "print(\"(This value should be about 303.993192)\")"
   ]
  },
  {
   "cell_type": "markdown",
   "metadata": {},
   "source": [
    "## =========== Part 3: Regularized Linear Regression Gradient ============="
   ]
  },
  {
   "cell_type": "markdown",
   "metadata": {},
   "source": [
    "The gradient is\n",
    "\\begin{align}\n",
    "\\frac{\\partial J}{\\partial\\theta_k}=&-\\frac{1}{m}\\sum_{ \\alpha=1}^m\\left(y_{\\alpha}-\\vec{x}_{\\alpha}\\cdot\\vec{\\theta}\\right)x_{k,\\alpha}+\\frac{\\lambda}{m}\\theta_k(1-\\delta_{k0}).\n",
    "\\end{align}"
   ]
  },
  {
   "cell_type": "code",
   "execution_count": 20,
   "metadata": {},
   "outputs": [],
   "source": [
    "#Gradient of J\n",
    "def grad_J(params, X, y, l):\n",
    "    theta = params.reshape(X.shape[1],1)\n",
    "    m = len(y)\n",
    "    v1 = y-np.matmul(X,theta)\n",
    "    grad = []\n",
    "    for k in range(X.shape[1]):\n",
    "        tcol = X[:,k] #k column as 1d array (row vector)\n",
    "        R = l * (theta[k] if k > 0 else 0)\n",
    "        grad.append(np.matmul(tcol,v1) + R)\n",
    "    return -np.asarray(grad).flatten()/m"
   ]
  },
  {
   "cell_type": "code",
   "execution_count": 21,
   "metadata": {},
   "outputs": [
    {
     "name": "stdout",
     "output_type": "stream",
     "text": [
      "(2,)\n",
      "Gradient at theta = (1,1):\n",
      " [-15.30301567 598.08407751]\n",
      "(this value should be about [-15.303016; 598.250744])\n"
     ]
    }
   ],
   "source": [
    "gr = grad_J(theta, X, y, l)\n",
    "print(gr.shape)\n",
    "print(\"Gradient at theta = (1,1):\\n\",gr)\n",
    "print(\"(this value should be about [-15.303016; 598.250744])\")"
   ]
  },
  {
   "cell_type": "markdown",
   "metadata": {},
   "source": [
    "## =========== Part 4: Train Linear Regression ============="
   ]
  },
  {
   "cell_type": "code",
   "execution_count": 23,
   "metadata": {},
   "outputs": [
    {
     "name": "stdout",
     "output_type": "stream",
     "text": [
      "Warning: Desired error not necessarily achieved due to precision loss.\n",
      "         Current function value: 22.379561\n",
      "         Iterations: 3\n",
      "         Function evaluations: 86\n",
      "         Gradient evaluations: 74\n"
     ]
    },
    {
     "data": {
      "text/plain": [
       "array([13.09368888,  0.36784888])"
      ]
     },
     "execution_count": 23,
     "metadata": {},
     "output_type": "execute_result"
    }
   ],
   "source": [
    "ini_theta = np.zeros((X.shape[1],1))\n",
    "fin_theta = fmin_cg(J, ini_theta, grad_J, args=(X,y,l))\n",
    "fin_theta"
   ]
  },
  {
   "cell_type": "code",
   "execution_count": 27,
   "metadata": {},
   "outputs": [
    {
     "data": {
      "text/plain": [
       "Text(0, 0.5, 'Water flowing out')"
      ]
     },
     "execution_count": 27,
     "metadata": {},
     "output_type": "execute_result"
    },
    {
     "data": {
      "image/png": "[encoded data removed]",
      "text/plain": [
       "<Figure size 432x432 with 1 Axes>"
      ]
     },
     "metadata": {},
     "output_type": "display_data"
    }
   ],
   "source": [
    "fig1, ax = plt.subplots(figsize=(6, 6))\n",
    "train_df = data_df[data_df['type']=='train'] \n",
    "sns.scatterplot(data=train_df, ax=ax, x='X', y='y').set(title='data')\n",
    "sns.lineplot()\n",
    "ax.set_xlabel(\"Change in water level\")\n",
    "ax.set_ylabel(\"Water flowing out\")"
   ]
  },
  {
   "cell_type": "code",
   "execution_count": null,
   "metadata": {},
   "outputs": [],
   "source": []
  }
 ],
 "metadata": {
  "kernelspec": {
   "display_name": "Python 3",
   "language": "python",
   "name": "python3"
  },
  "language_info": {
   "codemirror_mode": {
    "name": "ipython",
    "version": 3
   },
   "file_extension": ".py",
   "mimetype": "text/x-python",
   "name": "python",
   "nbconvert_exporter": "python",
   "pygments_lexer": "ipython3",
   "version": "3.8.10"
  }
 },
 "nbformat": 4,
 "nbformat_minor": 4
}
