{
 "cells": [
  {
   "cell_type": "markdown",
   "metadata": {},
   "source": [
    "# Cost function example"
   ]
  },
  {
   "cell_type": "code",
   "execution_count": 14,
   "metadata": {},
   "outputs": [],
   "source": [
    "import numpy as np"
   ]
  },
  {
   "cell_type": "code",
   "execution_count": 17,
   "metadata": {},
   "outputs": [],
   "source": [
    "def costFunctionJ(X, y, theta):\n",
    "    #X is the \"design matrix\" containing the training examples\n",
    "    #y is the class labels\n",
    "    \n",
    "    m = X.shape[0] #No. of training examples\n",
    "    predictions = np.matmul(X,theta) #predictions of hypotesis on all m examples\n",
    "    sqrErrors = (predictions-y)**2 #squared errors\n",
    "    \n",
    "    return 1.0 / (2*m) * np.sum(sqrErrors)"
   ]
  },
  {
   "cell_type": "code",
   "execution_count": 20,
   "metadata": {},
   "outputs": [
    {
     "data": {
      "text/plain": [
       "0.0"
      ]
     },
     "execution_count": 20,
     "metadata": {},
     "output_type": "execute_result"
    }
   ],
   "source": [
    "#y = X * theta\n",
    "X = np.array([[1, 1],[1, 2],[1, 3]])\n",
    "y = np.array([[1],[2],[3]])\n",
    "theta = np.array([[0],[1]])\n",
    "\n",
    "costFunctionJ(X, y, theta)"
   ]
  },
  {
   "cell_type": "code",
   "execution_count": null,
   "metadata": {},
   "outputs": [],
   "source": []
  }
 ],
 "metadata": {
  "kernelspec": {
   "display_name": "Python 3",
   "language": "python",
   "name": "python3"
  },
  "language_info": {
   "codemirror_mode": {
    "name": "ipython",
    "version": 3
   },
   "file_extension": ".py",
   "mimetype": "text/x-python",
   "name": "python",
   "nbconvert_exporter": "python",
   "pygments_lexer": "ipython3",
   "version": "3.8.10"
  }
 },
 "nbformat": 4,
 "nbformat_minor": 4
}
