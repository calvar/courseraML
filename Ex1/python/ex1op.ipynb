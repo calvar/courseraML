{
 "cells": [
  {
   "cell_type": "markdown",
   "metadata": {},
   "source": [
    "# Machine Learning Online Class - Optional Exercise 1\n",
    "Linear regresion with multiple variables. <br />\n",
    "Housing prices in Portland, Oregon. Predict the price of a house as a function of its size and number of bedrooms. "
   ]
  },
  {
   "cell_type": "code",
   "execution_count": 201,
   "metadata": {},
   "outputs": [],
   "source": [
    "import numpy as np\n",
    "import pandas as pd\n",
    "import matplotlib.pyplot as plt\n",
    "import seaborn as sns\n",
    "\n",
    "sns.set(font_scale=1.3)"
   ]
  },
  {
   "cell_type": "code",
   "execution_count": 202,
   "metadata": {},
   "outputs": [
    {
     "data": {
      "text/html": [
       "<div>\n",
       "<style scoped>\n",
       "    .dataframe tbody tr th:only-of-type {\n",
       "        vertical-align: middle;\n",
       "    }\n",
       "\n",
       "    .dataframe tbody tr th {\n",
       "        vertical-align: top;\n",
       "    }\n",
       "\n",
       "    .dataframe thead th {\n",
       "        text-align: right;\n",
       "    }\n",
       "</style>\n",
       "<table border=\"1\" class=\"dataframe\">\n",
       "  <thead>\n",
       "    <tr style=\"text-align: right;\">\n",
       "      <th></th>\n",
       "      <th>size</th>\n",
       "      <th>bedrooms</th>\n",
       "      <th>price</th>\n",
       "    </tr>\n",
       "  </thead>\n",
       "  <tbody>\n",
       "    <tr>\n",
       "      <th>0</th>\n",
       "      <td>1600</td>\n",
       "      <td>3</td>\n",
       "      <td>329900</td>\n",
       "    </tr>\n",
       "    <tr>\n",
       "      <th>1</th>\n",
       "      <td>2400</td>\n",
       "      <td>3</td>\n",
       "      <td>369000</td>\n",
       "    </tr>\n",
       "    <tr>\n",
       "      <th>2</th>\n",
       "      <td>1416</td>\n",
       "      <td>2</td>\n",
       "      <td>232000</td>\n",
       "    </tr>\n",
       "    <tr>\n",
       "      <th>3</th>\n",
       "      <td>3000</td>\n",
       "      <td>4</td>\n",
       "      <td>539900</td>\n",
       "    </tr>\n",
       "    <tr>\n",
       "      <th>4</th>\n",
       "      <td>1985</td>\n",
       "      <td>4</td>\n",
       "      <td>299900</td>\n",
       "    </tr>\n",
       "  </tbody>\n",
       "</table>\n",
       "</div>"
      ],
      "text/plain": [
       "   size  bedrooms   price\n",
       "0  1600         3  329900\n",
       "1  2400         3  369000\n",
       "2  1416         2  232000\n",
       "3  3000         4  539900\n",
       "4  1985         4  299900"
      ]
     },
     "execution_count": 202,
     "metadata": {},
     "output_type": "execute_result"
    }
   ],
   "source": [
    "data = pd.read_csv(\"ex1data2.txt\")\n",
    "data.columns = ['size','bedrooms','price']\n",
    "data.head()"
   ]
  },
  {
   "cell_type": "code",
   "execution_count": 203,
   "metadata": {},
   "outputs": [
    {
     "data": {
      "text/plain": [
       "<matplotlib.axes._subplots.AxesSubplot at 0x7f652e6d8f70>"
      ]
     },
     "execution_count": 203,
     "metadata": {},
     "output_type": "execute_result"
    },
    {
     "data": {
      "image/png": "[encoded data removed]",
      "text/plain": [
       "<Figure size 1080x432 with 2 Axes>"
      ]
     },
     "metadata": {},
     "output_type": "display_data"
    }
   ],
   "source": [
    "fig0, (ax1, ax2) = plt.subplots(1, 2,figsize=(15, 6))\n",
    "sns.scatterplot(data=data, ax=ax1, x='size', y='price')\n",
    "sns.boxplot(data=data, ax=ax2, x='bedrooms', y='price')"
   ]
  },
  {
   "cell_type": "markdown",
   "metadata": {},
   "source": [
    "## ================ Part 1: Feature Normalization ================"
   ]
  },
  {
   "cell_type": "code",
   "execution_count": 204,
   "metadata": {},
   "outputs": [],
   "source": [
    "#Normalize a feature to mean 0 and stdev 1.\n",
    "#For each feature:\n",
    "#-Find the mean and substract it from dataset.\n",
    "#-Compute the stdev and divide each feature by it\n",
    "def featureNormalize(df):\n",
    "    norm = pd.DataFrame()\n",
    "    for feat in df:\n",
    "        norm[[feat]]=df[[feat]].apply(lambda x: (x-x.mean())/x.std())\n",
    "    return norm"
   ]
  },
  {
   "cell_type": "code",
   "execution_count": 205,
   "metadata": {},
   "outputs": [
    {
     "data": {
      "text/html": [
       "<div>\n",
       "<style scoped>\n",
       "    .dataframe tbody tr th:only-of-type {\n",
       "        vertical-align: middle;\n",
       "    }\n",
       "\n",
       "    .dataframe tbody tr th {\n",
       "        vertical-align: top;\n",
       "    }\n",
       "\n",
       "    .dataframe thead th {\n",
       "        text-align: right;\n",
       "    }\n",
       "</style>\n",
       "<table border=\"1\" class=\"dataframe\">\n",
       "  <thead>\n",
       "    <tr style=\"text-align: right;\">\n",
       "      <th></th>\n",
       "      <th>x0</th>\n",
       "      <th>size</th>\n",
       "      <th>bedrooms</th>\n",
       "      <th>price</th>\n",
       "    </tr>\n",
       "  </thead>\n",
       "  <tbody>\n",
       "    <tr>\n",
       "      <th>0</th>\n",
       "      <td>1</td>\n",
       "      <td>-0.495977</td>\n",
       "      <td>-0.226166</td>\n",
       "      <td>-0.073110</td>\n",
       "    </tr>\n",
       "    <tr>\n",
       "      <th>1</th>\n",
       "      <td>1</td>\n",
       "      <td>0.499874</td>\n",
       "      <td>-0.226166</td>\n",
       "      <td>0.236953</td>\n",
       "    </tr>\n",
       "    <tr>\n",
       "      <th>2</th>\n",
       "      <td>1</td>\n",
       "      <td>-0.725023</td>\n",
       "      <td>-1.526618</td>\n",
       "      <td>-0.849457</td>\n",
       "    </tr>\n",
       "    <tr>\n",
       "      <th>3</th>\n",
       "      <td>1</td>\n",
       "      <td>1.246762</td>\n",
       "      <td>1.074287</td>\n",
       "      <td>1.592190</td>\n",
       "    </tr>\n",
       "    <tr>\n",
       "      <th>4</th>\n",
       "      <td>1</td>\n",
       "      <td>-0.016724</td>\n",
       "      <td>1.074287</td>\n",
       "      <td>-0.311010</td>\n",
       "    </tr>\n",
       "  </tbody>\n",
       "</table>\n",
       "</div>"
      ],
      "text/plain": [
       "   x0      size  bedrooms     price\n",
       "0   1 -0.495977 -0.226166 -0.073110\n",
       "1   1  0.499874 -0.226166  0.236953\n",
       "2   1 -0.725023 -1.526618 -0.849457\n",
       "3   1  1.246762  1.074287  1.592190\n",
       "4   1 -0.016724  1.074287 -0.311010"
      ]
     },
     "execution_count": 205,
     "metadata": {},
     "output_type": "execute_result"
    }
   ],
   "source": [
    "ndata = featureNormalize(data)\n",
    "#Add intercept column\n",
    "ndata.insert(0, 'x0', [1 for i in range(len(ndata.index))])\n",
    "ndata.head()"
   ]
  },
  {
   "cell_type": "markdown",
   "metadata": {},
   "source": [
    "## ================ Part 2: Gradient Descent ================"
   ]
  },
  {
   "cell_type": "markdown",
   "metadata": {},
   "source": [
    "Cost function:\n",
    "$$J(\\vec{\\theta})=\\frac{1}{2m}\\left(\\vec{y}-X\\cdot\\vec{\\theta}\\right)^T\\cdot\\left(\\vec{y}-X\\cdot\\vec{\\theta}\\right)$$\n",
    "Gradient:\n",
    "$$\\frac{\\partial J}{\\partial\\theta_k}=-\\frac{1}{m}\\vec{x}_k^T\\cdot\\left(\\vec{y}-X\\cdot\\vec{\\theta}\\right)$$\n",
    "Gradient descent:\n",
    "$$\\theta_k=\\theta_k-\\alpha\\frac{\\partial J}{\\partial\\theta_k}$$"
   ]
  },
  {
   "cell_type": "code",
   "execution_count": 206,
   "metadata": {},
   "outputs": [],
   "source": [
    "#Cost funtion J\n",
    "def J(X, y, theta):\n",
    "    v1 = y-np.matmul(X,theta)\n",
    "    return np.matmul(v1.T,v1)[0][0]/(2*len(y))\n",
    "\n",
    "#Gradient of J\n",
    "def grad_J(X, y, theta):\n",
    "    v1 = y-np.matmul(X,theta)\n",
    "    grad = []\n",
    "    for k in range(X.shape[1]):\n",
    "        tcol = X[:,k] #k column as 1d array (row vector)\n",
    "        grad.append(np.matmul(tcol,v1))\n",
    "    return -np.asarray(grad)/len(y)\n",
    "\n",
    "#gradient descent\n",
    "def grad_desc(alpha, X, y, epochs, iprint):\n",
    "    epoch = []\n",
    "    history = []\n",
    "    #Initializa parameter vector (fitting parameters)\n",
    "    theta = np.zeros((X.shape[1],1))\n",
    "    for e in range(epochs):\n",
    "        theta = theta - alpha*grad_J(X,y,theta)\n",
    "        if e%iprint == 0:\n",
    "            #print(theta, J(X,y,theta))\n",
    "            epoch.append(e)\n",
    "            history.append(J(X,y,theta))\n",
    "    return theta, epoch, history"
   ]
  },
  {
   "cell_type": "code",
   "execution_count": 207,
   "metadata": {},
   "outputs": [],
   "source": [
    "#Extract matrix X and convert to array\n",
    "X = ndata.iloc[:,0:ndata.shape[1]-1].to_numpy()\n",
    "#Extract vector y as a column vector\n",
    "y = ndata.iloc[:,ndata.shape[1]-1].to_numpy()[np.newaxis].T #create a new axis to convert a 1d array to 2d and transpose\n",
    "#X,y"
   ]
  },
  {
   "cell_type": "code",
   "execution_count": 208,
   "metadata": {},
   "outputs": [],
   "source": [
    "#Choose some alpha value\n",
    "alpha = 0.01;\n",
    "num_iters = 1500;\n",
    "\n",
    "#Run gradient descent\n",
    "theta, it, histo = grad_desc(alpha, X, y, num_iters, 10)"
   ]
  },
  {
   "cell_type": "code",
   "execution_count": 209,
   "metadata": {},
   "outputs": [
    {
     "data": {
      "text/plain": [
       "Text(0, 0.5, 'J')"
      ]
     },
     "execution_count": 209,
     "metadata": {},
     "output_type": "execute_result"
    },
    {
     "data": {
      "image/png": "[encoded data removed]",
      "text/plain": [
       "<Figure size 1080x432 with 1 Axes>"
      ]
     },
     "metadata": {},
     "output_type": "display_data"
    }
   ],
   "source": [
    "#Plot cost gradient descent convergence\n",
    "fig, ax = plt.subplots(figsize=(15, 6))\n",
    "ax.plot(it,histo)\n",
    "ax.set_xlabel('epoch',fontsize=20)\n",
    "ax.set_ylabel('J',fontsize=20)"
   ]
  },
  {
   "cell_type": "code",
   "execution_count": 210,
   "metadata": {},
   "outputs": [
    {
     "name": "stdout",
     "output_type": "stream",
     "text": [
      "Theta computed from gradient descent: (5.899869964556951e-17, 0.8832005264217165, -0.04918545179692997)\n"
     ]
    }
   ],
   "source": [
    "print(\"Theta computed from gradient descent: ({0}, {1}, {2})\".format(theta[0][0],theta[1][0],theta[2][0]))"
   ]
  },
  {
   "cell_type": "code",
   "execution_count": 211,
   "metadata": {},
   "outputs": [
    {
     "name": "stdout",
     "output_type": "stream",
     "text": [
      "Predicted price of a 1650 sq-ft, 3 br house (grad. desc.): $320040.727\n"
     ]
    }
   ],
   "source": [
    "#Normalize size=1650 and bedrooms=3, compute and de-normalize price\n",
    "f1 = (1650-data['size'].mean()) / data['size'].mean()\n",
    "f2 = (3-data['bedrooms'].mean()) / data['bedrooms'].mean()\n",
    "pr = (theta[0][0]+theta[1][0]*f1+theta[2][0]*f2) * data['price'].std() + data['price'].mean()\n",
    "print(\"Predicted price of a 1650 sq-ft, 3 br house (grad. desc.): ${0:.3f}\".format(pr))"
   ]
  },
  {
   "cell_type": "markdown",
   "metadata": {},
   "source": [
    " ##  ================ Part 3: Normal Equations ================"
   ]
  },
  {
   "cell_type": "markdown",
   "metadata": {},
   "source": [
    "The closed for solution for the linear regression problem is obtained by equating $\\nabla_{\\theta}J=0$ and solving for $\\vec{\\theta}$:\n",
    "$$\\vec{\\theta}=\\left(X^TX\\right)^{-1}X^T\\vec{y}$$"
   ]
  },
  {
   "cell_type": "code",
   "execution_count": 214,
   "metadata": {},
   "outputs": [],
   "source": [
    "#Solve the normal equation\n",
    "invXX = np.linalg.inv(np.matmul(X.T,X))\n",
    "THETA = np.matmul(np.matmul(invXX, X.T), y)"
   ]
  },
  {
   "cell_type": "code",
   "execution_count": 213,
   "metadata": {},
   "outputs": [
    {
     "name": "stdout",
     "output_type": "stream",
     "text": [
      "Theta computed from normal equations: (6.245004513516506e-17, 0.8839346324815558, -0.04991955777801018)\n"
     ]
    }
   ],
   "source": [
    "print(\"Theta computed from normal equations: ({0}, {1}, {2})\".format(THETA[0][0],THETA[1][0],THETA[2][0]))"
   ]
  },
  {
   "cell_type": "code",
   "execution_count": null,
   "metadata": {},
   "outputs": [],
   "source": []
  }
 ],
 "metadata": {
  "kernelspec": {
   "display_name": "Python 3",
   "language": "python",
   "name": "python3"
  },
  "language_info": {
   "codemirror_mode": {
    "name": "ipython",
    "version": 3
   },
   "file_extension": ".py",
   "mimetype": "text/x-python",
   "name": "python",
   "nbconvert_exporter": "python",
   "pygments_lexer": "ipython3",
   "version": "3.8.10"
  }
 },
 "nbformat": 4,
 "nbformat_minor": 4
}
