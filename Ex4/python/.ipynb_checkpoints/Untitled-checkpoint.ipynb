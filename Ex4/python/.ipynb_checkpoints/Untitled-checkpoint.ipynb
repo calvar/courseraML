{
 "cells": [
  {
   "cell_type": "markdown",
   "metadata": {},
   "source": [
    "<img src=\"nnet.png\" width=200/>\n",
    "<br >\n",
    "$$J(\\Theta)=-\\frac{1}{m}\\sum_{i=1}^m \\left[y_i\\log(a^{(L)}_i)+(1-y_i)\\log(1-a^{(L)}_i))\\right]+\\frac{\\lambda}{2m}\\sum_{k=1}^{L-1}\\sum_{s=1}^{n_{k}}\\sum_{r=1}^{n_{k+1}}\\left(\\Theta_{rs}^{(k)}\\right)^2,$$\n",
    "where\n",
    "$$a_{i}^{(k)}=h(z^{(k)}_i),$$\n",
    "and\n",
    "$$z^{(k)}_i=\\sum_{j=1}^{n_{k-1}}\\Theta^{(k-1)}_{ij}a^{(k-1)}_j.$$\n",
    "If the sigmoid is used as activation function then\n",
    "$$h(z)=\\frac{1}{1+e^{-z}}.$$"
   ]
  },
  {
   "cell_type": "markdown",
   "metadata": {},
   "source": [
    "$$\\frac{\\partial J}{\\partial\\Theta_{ij}^{(k)}}=\\left(\\begin{array}{ccc}\n",
    "\\frac{\\partial J}{\\partial a_{1}^{(L)}} & \\cdots &\\frac{\\partial J}{\\partial a_{n_L}^{(L)}}\\\\\n",
    "\\end{array}\\right)\n",
    "\\left(\\begin{array}{ccc}\n",
    "\\frac{\\partial a_{1}^{(L)}}{\\partial a_{1}^{(L-1)}} & \\cdots & \\frac{\\partial a_{1}^{(L)}}{\\partial a_{n_{L-1}}^{(L-1)}}\\\\\n",
    "\\vdots & \\ddots & \\vdots \\\\\n",
    "\\frac{\\partial a_{n_L}^{(L)}}{\\partial a_{1}^{(L-1)}} & \\cdots & \\frac{\\partial a_{n_L}^{(L)}}{\\partial a_{n_{L-1}}^{(L-1)}}\\\\\n",
    "\\end{array}\\right)\\cdots\n",
    "\\left(\\begin{array}{ccc}\n",
    "\\frac{\\partial a_{1}^{(k+2)}}{\\partial a_{1}^{(k+1)}} & \\cdots & \\frac{\\partial a_{1}^{(k+2)}}{\\partial a_{n_{k+1}}^{(k+1)}}\\\\\n",
    "\\vdots & \\ddots & \\vdots \\\\\n",
    "\\frac{\\partial a_{n_{k+2}}^{(k+2)}}{\\partial a_{1}^{(k+1)}} & \\cdots & \\frac{\\partial a_{n_{k+2}}^{(k+2)}}{\\partial a_{n_{k+1}}^{(k+1)}}\\\\\n",
    "\\end{array}\\right)\n",
    "\\left(\\begin{array}{c}\n",
    "\\frac{\\partial a_{1}^{(k+1)}}{\\partial\\Theta_{ij}^{(k)}}\\\\\n",
    "\\vdots\\\\\n",
    "\\frac{\\partial a_{n_{k+1}}^{(k+1)}}{\\partial\\Theta_{ij}^{(k)}}\\\\\n",
    "\\end{array}\\right)+\\frac{\\lambda}{m}\\Theta_{ij}^{(k)},$$\n",
    "where\n",
    "$$\\frac{\\partial J}{\\partial a_i^{(L)}}=-\\frac{1}{m}\\left(\\frac{y_i}{a_i^{(L)}}-\\frac{1-y_i}{1-a_i^{(L)}}\\right)=\\frac{1}{m}\\frac{(a_i^{(L)}-y_i)}{a_i^{(L)}(1-a_i^{(L)})},$$\n",
    "$$\\frac{\\partial a_{r}^{(k+1)}}{\\partial a_{s}^{(k)}}=\\frac{\\partial h}{\\partial z_r^{(k+1)}}\\frac{\\partial z_r^{(k+1)}}{\\partial a_{s}^{(k)}}=h'(z_r^{(k+1)})\\Theta_{rs}^{(k)},$$\n",
    "and\n",
    "$$\\frac{\\partial a_{r}^{(k+1)}}{\\partial\\Theta_{ij}^{(k)}}=\\frac{\\partial h}{\\partial z_r^{(k+1)}}\\frac{\\partial z_r^{(k+1)}}{\\partial\\Theta_{ij}^{(k)}}=h'(z_r^{(k+1)})a_j^{(k)}\\delta_{ri}.$$"
   ]
  },
  {
   "cell_type": "markdown",
   "metadata": {},
   "source": [
    "We have then that for $k=L-1$\n",
    "$$\\frac{\\partial J}{\\partial\\Theta_{ij}^{(L-1)}}=\\sum_{l=1}^{n_{L}}\\frac{\\partial J}{\\partial a_l^{(L)}}\\frac{\\partial a_l^{(L)}}{\\partial \\Theta_{ij}^{(L-1)}}=\\frac{1}{m}\\frac{(a_i^{(L)}-y_i)}{a_i^{(L)}(1-a_i^{(L)})}h'(z_i^{(L)})a_j^{(L-1)}=\\frac{1}{m}\\delta_i^{(L)}a_j^{(L-1)},$$\n",
    "while for, say, $k=L-3$\n",
    "\\begin{align}\n",
    "\\frac{\\partial J}{\\partial\\Theta_{ij}^{(L-1)}}&=\\sum_{s=1}^{n_{L-2}}\\sum_{r=1}^{n_{L-1}}\\sum_{l=1}^{n_{L}}\\frac{\\partial J}{\\partial a_l^{(L)}}\\frac{\\partial a_l^{(L)}}{\\partial a_r^{(L-1)}}\\frac{\\partial a_r^{(L-1)}}{\\partial a_s^{(L-2)}}\\frac{\\partial a_s^{(L-2)}}{\\partial \\Theta_{ij}^{(L-3)}}\\\\\n",
    "&=\\frac{1}{m}\\underbrace{\\sum_{r=1}^{n_{L-1}}\\underbrace{\\sum_{l=1}^{n_{L}}\\underbrace{\\frac{(a_l^{(L)}-y_l)}{a_l^{(L)}(1-a_l^{(L)})}h'(z_l^{(L)})}\\Theta_{lr}^{(L-1)}h'(z_r^{(L-1)})}\\Theta_{ri}^{(L-2)}h'(z_i^{(L-2)})}a_j^{(L-3)}\\\\\n",
    "&=\\frac{1}{m}\n",
    "\\end{align}"
   ]
  },
  {
   "cell_type": "markdown",
   "metadata": {},
   "source": [
    "# "
   ]
  }
 ],
 "metadata": {
  "kernelspec": {
   "display_name": "Python 3",
   "language": "python",
   "name": "python3"
  },
  "language_info": {
   "codemirror_mode": {
    "name": "ipython",
    "version": 3
   },
   "file_extension": ".py",
   "mimetype": "text/x-python",
   "name": "python",
   "nbconvert_exporter": "python",
   "pygments_lexer": "ipython3",
   "version": "3.8.10"
  }
 },
 "nbformat": 4,
 "nbformat_minor": 4
}
